{
  "cells": [
    {
      "cell_type": "markdown",
      "metadata": {
        "id": "HAva8TnYFtFu"
      },
      "source": [
        "# Contents and why we need this lab\n",
        "\n",
        "This lab is about implementing neural networks yourself before we start using other frameworks that hide some of the computation from you. It builds on the first lab, where you derived the equations for neural network forward and backward propagation and gradient descent parameter updates.\n",
        "\n",
        "All the frameworks for deep learning you will meet from now on use automatic differentiation (autodiff), so you do not have to code the backward step yourself. In this version of this lab, you will develop your own autodif implementation. We also have an optional [version](https://github.com/DeepLearningDTU/02456-deep-learning-with-PyTorch/blob/master/2_Feedforward_Python/2.2-FNN-NumPy.ipynb) of this lab where you have to code the backward pass explicitly in Numpy."
      ]
    },
    {
      "cell_type": "markdown",
      "metadata": {
        "id": "sCa7HzwpFtFy"
      },
      "source": [
        "# External sources of information\n",
        "\n",
        "1. Jupyter notebook. You can find more information about Jupyter notebooks [here](https://jupyter.org/). It will come as part of the [Anaconda](https://www.anaconda.com/) Python installation.\n",
        "2. [NumPy](https://numpy.org/). Part of Anaconda distribution.  If you already know how to program, most things about Python and NumPy can be found with Google searches.\n",
        "3. [Nanograd](https://github.com/rasmusbergpalm/nanograd) is a minimalistic version of autodiff developed by Rasmus Berg Palm that we use for our framework.\n"
      ]
    },
    {
      "cell_type": "markdown",
      "metadata": {
        "id": "1SjiIp-TFtF0"
      },
      "source": [
        "# This notebook will follow the next steps:\n",
        "\n",
        "1. Nanograd automatic differentiation framework\n",
        "2. Finite difference method\n",
        "3. Data generation\n",
        "4. Defining and initializing the network\n",
        "5. Forward pass\n",
        "6. Training loop\n",
        "7. Testing your model\n",
        "8. Further extensions"
      ]
    },
    {
      "cell_type": "markdown",
      "metadata": {
        "id": "OyXeAA-HuT7s"
      },
      "source": [
        "# Nanograd automatic differention framework"
      ]
    },
    {
      "cell_type": "markdown",
      "metadata": {
        "id": "k6UWKCLKubgA"
      },
      "source": [
        "The [Nanograd](https://github.com/rasmusbergpalm/nanograd) framework defines a class Var which both holds a value and gradient value that we can use to store the intermediate values when we apply the chain rule of differentiation."
      ]
    },
    {
      "cell_type": "code",
      "execution_count": 176,
      "metadata": {
        "id": "Jd4CoEBNzNWS"
      },
      "outputs": [],
      "source": [
        "# Copy and pasted from https://github.com/rasmusbergpalm/nanograd/blob/3a1bf9e9e724da813bfccf91a6f309abdade9f39/nanograd.py\n",
        "\n",
        "from math import exp, log\n",
        "\n",
        "class Var:\n",
        "    \"\"\"\n",
        "    A variable which holds a float and enables gradient computations.\n",
        "    \"\"\"\n",
        "\n",
        "    def __init__(self, val: float, grad_fn=lambda: []):\n",
        "        assert type(val) == float\n",
        "        self.v = val\n",
        "        self.grad_fn = grad_fn\n",
        "        self.grad = 0.0\n",
        "\n",
        "    def backprop(self, bp):\n",
        "        self.grad += bp\n",
        "        for input, grad in self.grad_fn():\n",
        "            input.backprop(grad * bp)\n",
        "\n",
        "    def backward(self):\n",
        "        self.backprop(1.0)\n",
        "\n",
        "    def __add__(self: 'Var', other: 'Var') -> 'Var':\n",
        "        return Var(self.v + other.v, lambda: [(self, 1.0), (other, 1.0)])\n",
        "\n",
        "    def __mul__(self: 'Var', other: 'Var') -> 'Var':\n",
        "        return Var(self.v * other.v, lambda: [(self, other.v), (other, self.v)])\n",
        "\n",
        "    def __pow__(self, power):\n",
        "        assert type(power) in {float, int}, \"power must be float or int\"\n",
        "        return Var(self.v ** power, lambda: [(self, power * self.v ** (power - 1))])\n",
        "\n",
        "    def __neg__(self: 'Var') -> 'Var':\n",
        "        return Var(-1.0) * self\n",
        "\n",
        "    def __sub__(self: 'Var', other: 'Var') -> 'Var':\n",
        "        return self + (-other)\n",
        "\n",
        "    def __truediv__(self: 'Var', other: 'Var') -> 'Var':\n",
        "        return self * other ** -1\n",
        "\n",
        "    def __repr__(self):\n",
        "        return \"Var(v=%.4f, grad=%.4f)\" % (self.v, self.grad)\n",
        "\n",
        "    def relu(self):\n",
        "        return Var(self.v if self.v > 0.0 else 0.0, lambda: [(self, 1.0 if self.v > 0.0 else 0.0)])\n",
        "    #EXERCISE F ADD ACTIVATION FUNCTIONS\n",
        "    def identity(self):\n",
        "        return Var(self.v, lambda: [(self, 1.0)])\n",
        "\n",
        "    def tanh(self):\n",
        "        return Var(math.tanh(self.v), lambda: [(self, 1.0 - self * self)])\n",
        "    def sigmoid(self):\n",
        "        sigmoid_value = 1.0 / (1.0 + math.exp(-self.v))\n",
        "        return Var(sigmoid_value, lambda: [(self, sigmoid_value * (1.0 - sigmoid_value))])\n",
        "\n",
        "    def exp(self):\n",
        "        return Var(exp(self.v), lambda: [(self, exp(self.v))])\n",
        "\n",
        "    def log(self):\n",
        "        return Var(log(self.v), lambda: [(self, self.v ** -1)])\n"
      ]
    },
    {
      "cell_type": "markdown",
      "metadata": {
        "id": "yDX67D6jzcte"
      },
      "source": [
        "[link text](https://)A few examples illustrate how we can use this:"
      ]
    },
    {
      "cell_type": "code",
      "execution_count": 147,
      "metadata": {
        "colab": {
          "base_uri": "https://localhost:8080/"
        },
        "id": "xk6PeLc3zwPT",
        "outputId": "06db5dbf-bc56-43f3-e1c3-3afea6f3e4d5"
      },
      "outputs": [
        {
          "output_type": "stream",
          "name": "stdout",
          "text": [
            "Var(v=3.0000, grad=5.0000)\n",
            "Var(v=5.0000, grad=3.0000)\n",
            "Var(v=15.0000, grad=1.0000)\n"
          ]
        }
      ],
      "source": [
        "a = Var(3.0)\n",
        "b = Var(5.0)\n",
        "f = a * b\n",
        "\n",
        "f.backward()\n",
        "\n",
        "for v in [a, b, f]:\n",
        "    print(v)"
      ]
    },
    {
      "cell_type": "code",
      "execution_count": 148,
      "metadata": {
        "colab": {
          "base_uri": "https://localhost:8080/"
        },
        "id": "JmKhYgsY0g_o",
        "outputId": "ade6cac6-091c-469b-ca8c-cb29d8872256"
      },
      "outputs": [
        {
          "output_type": "stream",
          "name": "stdout",
          "text": [
            "Var(v=3.0000, grad=14.0000)\n",
            "Var(v=5.0000, grad=3.0000)\n",
            "Var(v=15.0000, grad=1.0000)\n",
            "Var(v=9.0000, grad=3.0000)\n",
            "Var(v=27.0000, grad=1.0000)\n",
            "Var(v=42.0000, grad=1.0000)\n"
          ]
        }
      ],
      "source": [
        "a = Var(3.0)\n",
        "b = Var(5.0)\n",
        "c = a * b\n",
        "d = Var(9.0)\n",
        "e = a * d\n",
        "f = c + e\n",
        "\n",
        "f.backward()\n",
        "\n",
        "for v in [a, b, c, d, e, f]:\n",
        "    print(v)"
      ]
    },
    {
      "cell_type": "markdown",
      "metadata": {
        "id": "Fe3B6uEH140p"
      },
      "source": [
        "## Exercise a) What is being calculated?\n",
        "\n",
        "Explain briefly the output of the code? What is the expression we differentiate and with respect to what variables?\n",
        "\n",
        "a) The output shows the initial values of the variables and their gradients after backpropagation. The gradient value shows how much each variable contributes to the final result 'f'"
      ]
    },
    {
      "cell_type": "markdown",
      "metadata": {
        "id": "q8_Q0t2I3Ruj"
      },
      "source": [
        "## Exercise b) How does the backward function work?\n",
        "\n",
        "You need to understand how the backward function calculates the gradients. We can use the two examples above to help with that.\n",
        "\n",
        "Go through the following four steps and answer the questions on the way:\n",
        "\n",
        "1. We represent the two expressions as graphs as shown below. Fill in the missing expressions for the different derivatives.\n",
        "\n",
        "2. In the remainder consider the first expression. Make a schematic of the data structure which is generated when we define the expression for f.\n",
        "\n",
        "3. Then execute the backward function by hand to convince yourself that it indeed calculates the gradients with respect to the variables.\n",
        "\n",
        "4. Write down the sequence of calls to backprop."
      ]
    },
    {
      "cell_type": "code",
      "execution_count": 149,
      "metadata": {
        "id": "idGr71jYXl26"
      },
      "outputs": [],
      "source": [
        "# import logging\n",
        "import graphviz\n",
        "\n",
        "#logging.basicConfig(format='[%(levelname)s@%(name)s] %(message)s', level=logging.DEBUG)\n",
        "\n",
        "#graphviz.__version__, graphviz.version()"
      ]
    },
    {
      "cell_type": "code",
      "execution_count": 150,
      "metadata": {
        "colab": {
          "base_uri": "https://localhost:8080/",
          "height": 152
        },
        "id": "KPe30Q2QXzeG",
        "outputId": "6dd34810-b774-4ec4-d405-ff15788aaa92"
      },
      "outputs": [
        {
          "output_type": "execute_result",
          "data": {
            "image/svg+xml": "<?xml version=\"1.0\" encoding=\"UTF-8\" standalone=\"no\"?>\n<!DOCTYPE svg PUBLIC \"-//W3C//DTD SVG 1.1//EN\"\n \"http://www.w3.org/Graphics/SVG/1.1/DTD/svg11.dtd\">\n<!-- Generated by graphviz version 2.43.0 (0)\n -->\n<!-- Title: first expression Pages: 1 -->\n<svg width=\"159pt\" height=\"98pt\"\n viewBox=\"0.00 0.00 159.00 98.00\" xmlns=\"http://www.w3.org/2000/svg\" xmlns:xlink=\"http://www.w3.org/1999/xlink\">\n<g id=\"graph0\" class=\"graph\" transform=\"scale(1 1) rotate(0) translate(4 94)\">\n<title>first expression</title>\n<polygon fill=\"white\" stroke=\"transparent\" points=\"-4,4 -4,-94 155,-94 155,4 -4,4\"/>\n<!-- a -->\n<g id=\"node1\" class=\"node\">\n<title>a</title>\n<ellipse fill=\"none\" stroke=\"black\" cx=\"18\" cy=\"-72\" rx=\"18\" ry=\"18\"/>\n<text text-anchor=\"middle\" x=\"18\" y=\"-68.3\" font-family=\"Times,serif\" font-size=\"14.00\">a</text>\n</g>\n<!-- f -->\n<g id=\"node2\" class=\"node\">\n<title>f</title>\n<ellipse fill=\"none\" stroke=\"black\" cx=\"133\" cy=\"-45\" rx=\"18\" ry=\"18\"/>\n<text text-anchor=\"middle\" x=\"133\" y=\"-41.3\" font-family=\"Times,serif\" font-size=\"14.00\">f</text>\n</g>\n<!-- a&#45;&gt;f -->\n<g id=\"edge1\" class=\"edge\">\n<title>a&#45;&gt;f</title>\n<path fill=\"none\" stroke=\"black\" d=\"M35.67,-68.02C54.03,-63.63 83.81,-56.51 105.4,-51.36\"/>\n<polygon fill=\"black\" stroke=\"black\" points=\"106.35,-54.73 115.26,-49 104.72,-47.92 106.35,-54.73\"/>\n<text text-anchor=\"middle\" x=\"75.5\" y=\"-66.8\" font-family=\"Times,serif\" font-size=\"14.00\">df/da=?</text>\n</g>\n<!-- b -->\n<g id=\"node3\" class=\"node\">\n<title>b</title>\n<ellipse fill=\"none\" stroke=\"black\" cx=\"18\" cy=\"-18\" rx=\"18\" ry=\"18\"/>\n<text text-anchor=\"middle\" x=\"18\" y=\"-14.3\" font-family=\"Times,serif\" font-size=\"14.00\">b</text>\n</g>\n<!-- b&#45;&gt;f -->\n<g id=\"edge2\" class=\"edge\">\n<title>b&#45;&gt;f</title>\n<path fill=\"none\" stroke=\"black\" d=\"M35.85,-20.94C51.73,-23.83 76.12,-28.59 97,-34 99.89,-34.75 102.9,-35.59 105.88,-36.47\"/>\n<polygon fill=\"black\" stroke=\"black\" points=\"105.13,-39.9 115.72,-39.5 107.19,-33.21 105.13,-39.9\"/>\n<text text-anchor=\"middle\" x=\"75.5\" y=\"-37.8\" font-family=\"Times,serif\" font-size=\"14.00\">df/db=?</text>\n</g>\n</g>\n</svg>\n",
            "text/plain": [
              "<graphviz.graphs.Digraph at 0x7b4f5541f430>"
            ]
          },
          "metadata": {},
          "execution_count": 150
        }
      ],
      "source": [
        "e1 = graphviz.Digraph('first expression', filename='fsm.gv')\n",
        "\n",
        "e1.attr(rankdir='LR', size='8,5')\n",
        "\n",
        "e1.attr('node', shape='circle')\n",
        "e1.edge('a', 'f', label='df/da=?')\n",
        "e1.edge('b', 'f', label='df/db=?')\n",
        "\n",
        "e1"
      ]
    },
    {
      "cell_type": "code",
      "execution_count": 151,
      "metadata": {
        "colab": {
          "base_uri": "https://localhost:8080/",
          "height": 232
        },
        "id": "0nittR-mZFeX",
        "outputId": "edc69582-b244-4cf6-8796-347dad7157c1"
      },
      "outputs": [
        {
          "output_type": "execute_result",
          "data": {
            "image/svg+xml": "<?xml version=\"1.0\" encoding=\"UTF-8\" standalone=\"no\"?>\n<!DOCTYPE svg PUBLIC \"-//W3C//DTD SVG 1.1//EN\"\n \"http://www.w3.org/Graphics/SVG/1.1/DTD/svg11.dtd\">\n<!-- Generated by graphviz version 2.43.0 (0)\n -->\n<!-- Title: second expression Pages: 1 -->\n<svg width=\"276pt\" height=\"158pt\"\n viewBox=\"0.00 0.00 276.00 158.00\" xmlns=\"http://www.w3.org/2000/svg\" xmlns:xlink=\"http://www.w3.org/1999/xlink\">\n<g id=\"graph0\" class=\"graph\" transform=\"scale(1 1) rotate(0) translate(4 154)\">\n<title>second expression</title>\n<polygon fill=\"white\" stroke=\"transparent\" points=\"-4,4 -4,-154 272,-154 272,4 -4,4\"/>\n<!-- a -->\n<g id=\"node1\" class=\"node\">\n<title>a</title>\n<ellipse fill=\"none\" stroke=\"black\" cx=\"18\" cy=\"-75\" rx=\"18\" ry=\"18\"/>\n<text text-anchor=\"middle\" x=\"18\" y=\"-71.3\" font-family=\"Times,serif\" font-size=\"14.00\">a</text>\n</g>\n<!-- c -->\n<g id=\"node2\" class=\"node\">\n<title>c</title>\n<ellipse fill=\"none\" stroke=\"black\" cx=\"135\" cy=\"-102\" rx=\"18\" ry=\"18\"/>\n<text text-anchor=\"middle\" x=\"135\" y=\"-98.3\" font-family=\"Times,serif\" font-size=\"14.00\">c</text>\n</g>\n<!-- a&#45;&gt;c -->\n<g id=\"edge1\" class=\"edge\">\n<title>a&#45;&gt;c</title>\n<path fill=\"none\" stroke=\"black\" d=\"M35.97,-78.98C54.76,-83.4 85.31,-90.57 107.31,-95.73\"/>\n<polygon fill=\"black\" stroke=\"black\" points=\"106.8,-99.21 117.34,-98.09 108.4,-92.39 106.8,-99.21\"/>\n<text text-anchor=\"middle\" x=\"76.5\" y=\"-96.8\" font-family=\"Times,serif\" font-size=\"14.00\">dc/da=?</text>\n</g>\n<!-- e -->\n<g id=\"node4\" class=\"node\">\n<title>e</title>\n<ellipse fill=\"none\" stroke=\"black\" cx=\"135\" cy=\"-48\" rx=\"18\" ry=\"18\"/>\n<text text-anchor=\"middle\" x=\"135\" y=\"-44.3\" font-family=\"Times,serif\" font-size=\"14.00\">e</text>\n</g>\n<!-- a&#45;&gt;e -->\n<g id=\"edge3\" class=\"edge\">\n<title>a&#45;&gt;e</title>\n<path fill=\"none\" stroke=\"black\" d=\"M35.28,-69.49C41.14,-67.61 47.83,-65.58 54,-64 71.5,-59.51 91.43,-55.53 107.01,-52.65\"/>\n<polygon fill=\"black\" stroke=\"black\" points=\"107.8,-56.07 117.03,-50.85 106.56,-49.18 107.8,-56.07\"/>\n<text text-anchor=\"middle\" x=\"76.5\" y=\"-67.8\" font-family=\"Times,serif\" font-size=\"14.00\">de/da=?</text>\n</g>\n<!-- f -->\n<g id=\"node6\" class=\"node\">\n<title>f</title>\n<ellipse fill=\"none\" stroke=\"black\" cx=\"250\" cy=\"-75\" rx=\"18\" ry=\"18\"/>\n<text text-anchor=\"middle\" x=\"250\" y=\"-71.3\" font-family=\"Times,serif\" font-size=\"14.00\">f</text>\n</g>\n<!-- c&#45;&gt;f -->\n<g id=\"edge5\" class=\"edge\">\n<title>c&#45;&gt;f</title>\n<path fill=\"none\" stroke=\"black\" d=\"M152.67,-98.02C171.03,-93.63 200.81,-86.51 222.4,-81.36\"/>\n<polygon fill=\"black\" stroke=\"black\" points=\"223.35,-84.73 232.26,-79 221.72,-77.92 223.35,-84.73\"/>\n<text text-anchor=\"middle\" x=\"192.5\" y=\"-96.8\" font-family=\"Times,serif\" font-size=\"14.00\">df/dc=?</text>\n</g>\n<!-- b -->\n<g id=\"node3\" class=\"node\">\n<title>b</title>\n<ellipse fill=\"none\" stroke=\"black\" cx=\"18\" cy=\"-132\" rx=\"18\" ry=\"18\"/>\n<text text-anchor=\"middle\" x=\"18\" y=\"-128.3\" font-family=\"Times,serif\" font-size=\"14.00\">b</text>\n</g>\n<!-- b&#45;&gt;c -->\n<g id=\"edge2\" class=\"edge\">\n<title>b&#45;&gt;c</title>\n<path fill=\"none\" stroke=\"black\" d=\"M35.97,-127.57C54.85,-122.65 85.58,-114.63 107.61,-108.88\"/>\n<polygon fill=\"black\" stroke=\"black\" points=\"108.54,-112.26 117.34,-106.35 106.78,-105.48 108.54,-112.26\"/>\n<text text-anchor=\"middle\" x=\"76.5\" y=\"-125.8\" font-family=\"Times,serif\" font-size=\"14.00\">dc/db=?</text>\n</g>\n<!-- e&#45;&gt;f -->\n<g id=\"edge6\" class=\"edge\">\n<title>e&#45;&gt;f</title>\n<path fill=\"none\" stroke=\"black\" d=\"M152.85,-50.94C168.73,-53.83 193.12,-58.59 214,-64 216.89,-64.75 219.9,-65.59 222.88,-66.47\"/>\n<polygon fill=\"black\" stroke=\"black\" points=\"222.13,-69.9 232.72,-69.5 224.19,-63.21 222.13,-69.9\"/>\n<text text-anchor=\"middle\" x=\"192.5\" y=\"-67.8\" font-family=\"Times,serif\" font-size=\"14.00\">df/de=?</text>\n</g>\n<!-- d -->\n<g id=\"node5\" class=\"node\">\n<title>d</title>\n<ellipse fill=\"none\" stroke=\"black\" cx=\"18\" cy=\"-18\" rx=\"18\" ry=\"18\"/>\n<text text-anchor=\"middle\" x=\"18\" y=\"-14.3\" font-family=\"Times,serif\" font-size=\"14.00\">d</text>\n</g>\n<!-- d&#45;&gt;e -->\n<g id=\"edge4\" class=\"edge\">\n<title>d&#45;&gt;e</title>\n<path fill=\"none\" stroke=\"black\" d=\"M36.03,-20.87C52.35,-23.8 77.59,-28.79 99,-35 102.17,-35.92 105.47,-36.99 108.72,-38.12\"/>\n<polygon fill=\"black\" stroke=\"black\" points=\"107.54,-41.41 118.13,-41.55 109.94,-34.83 107.54,-41.41\"/>\n<text text-anchor=\"middle\" x=\"76.5\" y=\"-38.8\" font-family=\"Times,serif\" font-size=\"14.00\">de/dd=?</text>\n</g>\n</g>\n</svg>\n",
            "text/plain": [
              "<graphviz.graphs.Digraph at 0x7b4f558a70d0>"
            ]
          },
          "metadata": {},
          "execution_count": 151
        }
      ],
      "source": [
        "e2 = graphviz.Digraph('second expression', filename='fsm.gv')\n",
        "\n",
        "e2.attr(rankdir='LR', size='8,5')\n",
        "\n",
        "e2.attr('node', shape='circle')\n",
        "e2.edge('a', 'c', label='dc/da=?')\n",
        "e2.edge('b', 'c', label='dc/db=?')\n",
        "e2.edge('a', 'e', label='de/da=?')\n",
        "e2.edge('d', 'e', label='de/dd=?')\n",
        "e2.edge('c', 'f', label='df/dc=?')\n",
        "e2.edge('e', 'f', label='df/de=?')\n",
        "\n",
        "e2"
      ]
    },
    {
      "cell_type": "markdown",
      "metadata": {
        "id": "A5oi21W4gpeM"
      },
      "source": [
        "## Exercise c) What happens if we run backward again?\n",
        "\n",
        "Try to execute the code below. Explain what happens.\n",
        "\n",
        "When we run backward again the gradient will be on top of the previously calculated gradient. This is called gradient accumualtion because the gradient is not set to 0."
      ]
    },
    {
      "cell_type": "code",
      "execution_count": 152,
      "metadata": {
        "colab": {
          "base_uri": "https://localhost:8080/"
        },
        "id": "DCtpJyr-gyX1",
        "outputId": "43c995c2-6272-4877-afe7-d1fbded5b0e0"
      },
      "outputs": [
        {
          "output_type": "stream",
          "name": "stdout",
          "text": [
            "Var(v=3.0000, grad=28.0000)\n",
            "Var(v=5.0000, grad=6.0000)\n",
            "Var(v=15.0000, grad=2.0000)\n",
            "Var(v=9.0000, grad=6.0000)\n",
            "Var(v=27.0000, grad=2.0000)\n",
            "Var(v=42.0000, grad=2.0000)\n"
          ]
        }
      ],
      "source": [
        "f.backward()\n",
        "\n",
        "for v in [a, b, c, d, e, f]:\n",
        "    print(v)"
      ]
    },
    {
      "cell_type": "markdown",
      "metadata": {
        "id": "e8bPVq2VhsP-"
      },
      "source": [
        "## Exercise d) Zero gradient\n",
        "\n",
        "We can zero the gradient by backpropagating a -1.0 as is shown in the example below. (If you have run backward multiple time then you also have to run the cell below an equal amount of times.) Explain what is going on.\n",
        "\n",
        "Because we backpropagate -1.0 we zero out the gradient varieble a, so in this case we do not see the gradients accumulating the same way as before"
      ]
    },
    {
      "cell_type": "code",
      "execution_count": 153,
      "metadata": {
        "colab": {
          "base_uri": "https://localhost:8080/"
        },
        "id": "OnyPDQx9lJe0",
        "outputId": "0ac92688-4eef-4a5d-a5c4-db162211ab1e"
      },
      "outputs": [
        {
          "output_type": "stream",
          "name": "stdout",
          "text": [
            "Var(v=2.0000, grad=0.0000)\n",
            "Var(v=5.0000, grad=6.0000)\n",
            "Var(v=15.0000, grad=2.0000)\n",
            "Var(v=9.0000, grad=6.0000)\n",
            "Var(v=27.0000, grad=2.0000)\n",
            "Var(v=42.0000, grad=2.0000)\n",
            "Var(v=2.0000, grad=0.0000)\n",
            "Var(v=5.0000, grad=3.0000)\n",
            "Var(v=15.0000, grad=1.0000)\n",
            "Var(v=9.0000, grad=3.0000)\n",
            "Var(v=27.0000, grad=1.0000)\n",
            "Var(v=42.0000, grad=1.0000)\n"
          ]
        }
      ],
      "source": [
        "a = Var(2.0)\n",
        "\n",
        "for v in [a, b, c, d, e, f]:\n",
        "    print(v)\n",
        "\n",
        "f.backprop(-1.0)\n",
        "\n",
        "for v in [a, b, c, d, e, f]:\n",
        "    print(v)"
      ]
    },
    {
      "cell_type": "markdown",
      "metadata": {
        "id": "U4057_ljNvWB"
      },
      "source": [
        "## Exercise e) Test correctness of derivatives with the finite difference method\n",
        "\n",
        "Write a small function that uses [the finite difference method](https://en.wikipedia.org/wiki/Finite_difference_method) to numerically test that backpropation implementation is working. In short we will use\n",
        "$$\n",
        "\\frac{\\partial f(a)}{\\partial a} \\approx \\frac{f(a+da)-f(a)}{da}\n",
        "$$\n",
        "for $da \\ll 1$.\n",
        "\n",
        "As an example, we could approximate the derivative of the function $f(a)=a^2$ in e.g. the value $a=4$ using the finite difference method. This amounts to inserting the relevant values and approximating the gradient $f'(4)$ with the fraction above.\n"
      ]
    },
    {
      "cell_type": "code",
      "execution_count": 154,
      "metadata": {
        "colab": {
          "base_uri": "https://localhost:8080/"
        },
        "id": "9TGil92lSXDN",
        "outputId": "7084cd12-8258-4da9-a2e2-29caff273ee5"
      },
      "outputs": [
        {
          "output_type": "stream",
          "name": "stdout",
          "text": [
            "Var(v=3.0000, grad=5.0000)\n",
            "Var(v=5.0000, grad=3.0000)\n",
            "Var(v=15.0000, grad=1.0000)\n",
            "5.000000413701855\n"
          ]
        }
      ],
      "source": [
        "# f function - try to change the code to test other types of functions as well (such as different polynomials etc.)\n",
        "def f_function(a):\n",
        "  a = Var(a)\n",
        "  b = Var(5.0)\n",
        "  f = a * b\n",
        "  f.backward()\n",
        "  return a,b,f\n",
        "\n",
        "for v in f_function(3.0):\n",
        "  print(v)\n",
        "\n",
        "# Insert your finite difference code here\n",
        "def finite_difference(da=1e-10):\n",
        "    \"\"\"\n",
        "    This function compute the finite difference between\n",
        "\n",
        "    Input:\n",
        "    da:          The finite difference                           (float)\n",
        "\n",
        "    Output:\n",
        "    finite_difference: numerical approximation to the derivative (float)\n",
        "    \"\"\"\n",
        "\n",
        "    a_val = 3.0  # The value of 'a' for which we want to calculate the derivative\n",
        "    a_plus_da_val = a_val + da  # Perturbed value of 'a'\n",
        "\n",
        "    # Recreate the computational graph for the perturbed 'a'\n",
        "    a_var_perturbed = Var(a_plus_da_val)\n",
        "    b_var = Var(5.0)\n",
        "    f_var_perturbed = a_var_perturbed * b_var\n",
        "    f_var_perturbed.backward()\n",
        "\n",
        "    # Compute f(a + da)\n",
        "    fa_da = f_var_perturbed.v\n",
        "\n",
        "    # Compute f(a)\n",
        "    a_var, _, f_var = f_function(3.0)\n",
        "    fa = f_var.v\n",
        "    #fa_da = 0           # <- Insert correct expression\n",
        "    #fa = 0               # <- Insert correct expression\n",
        "\n",
        "    finite_difference = (fa_da - fa) / da\n",
        "\n",
        "    return finite_difference\n",
        "\n",
        "print(finite_difference())"
      ]
    },
    {
      "cell_type": "markdown",
      "metadata": {
        "id": "6pZar5RKaUkg"
      },
      "source": [
        "# Create an artificial dataset to play with\n",
        "\n",
        "We create a non-linear 1d regression task. The generator supports various noise levels and it creates train, validation and test sets. You can modify it yourself if you want more or less challenging tasks."
      ]
    },
    {
      "cell_type": "code",
      "execution_count": 155,
      "metadata": {
        "id": "Y6yfMAQ8aduj"
      },
      "outputs": [],
      "source": [
        "import numpy as np\n",
        "import matplotlib.pyplot as plt\n",
        "\n",
        "np.random.seed(42)"
      ]
    },
    {
      "cell_type": "code",
      "execution_count": 156,
      "metadata": {
        "id": "4YabfD43ajNh"
      },
      "outputs": [],
      "source": [
        "def data_generator(noise=0.1, n_samples=300, D1=True):\n",
        "    # Create covariates and response variable\n",
        "    if D1:\n",
        "        X = np.linspace(-3, 3, num=n_samples).reshape(-1,1) # 1-D\n",
        "        np.random.shuffle(X)\n",
        "        y = np.random.normal((0.5*np.sin(X[:,0]*3) + X[:,0]), noise) # 1-D with trend\n",
        "    else:\n",
        "        X = np.random.multivariate_normal(np.zeros(3), noise*np.eye(3), size = n_samples) # 3-D\n",
        "        np.random.shuffle(X)\n",
        "        y = np.sin(X[:,0]) - 5*(X[:,1]**2) + 0.5*X[:,2] # 3-D\n",
        "\n",
        "    # Stack them together vertically to split data set\n",
        "    data_set = np.vstack((X.T,y)).T\n",
        "\n",
        "    train, validation, test = np.split(data_set, [int(0.35*n_samples), int(0.7*n_samples)], axis=0)\n",
        "\n",
        "    # Standardization of the data, remember we do the standardization with the training set mean and standard deviation\n",
        "    train_mu = np.mean(train, axis=0)\n",
        "    train_sigma = np.std(train, axis=0)\n",
        "\n",
        "    train = (train-train_mu)/train_sigma\n",
        "    validation = (validation-train_mu)/train_sigma\n",
        "    test = (test-train_mu)/train_sigma\n",
        "\n",
        "    x_train, x_validation, x_test = train[:,:-1], validation[:,:-1], test[:,:-1]\n",
        "    y_train, y_validation, y_test = train[:,-1], validation[:,-1], test[:,-1]\n",
        "\n",
        "    return x_train, y_train,  x_validation, y_validation, x_test, y_test"
      ]
    },
    {
      "cell_type": "code",
      "execution_count": 157,
      "metadata": {
        "id": "u1oDngHLapIz"
      },
      "outputs": [],
      "source": [
        "D1 = True\n",
        "x_train, y_train,  x_validation, y_validation, x_test, y_test = data_generator(noise=0.5, D1=D1)"
      ]
    },
    {
      "cell_type": "code",
      "execution_count": 158,
      "metadata": {
        "colab": {
          "base_uri": "https://localhost:8080/",
          "height": 430
        },
        "id": "Ysfa3FsBavlm",
        "outputId": "1be88c43-5b8f-41cb-bf0b-35936d7e7e4b"
      },
      "outputs": [
        {
          "output_type": "display_data",
          "data": {
            "text/plain": [
              "<Figure size 640x480 with 1 Axes>"
            ],
            "image/png": "[encoded data removed]"
          },
          "metadata": {}
        }
      ],
      "source": [
        "if D1:\n",
        "    plt.scatter(x_train[:,0], y_train);\n",
        "    plt.scatter(x_validation[:,0], y_validation);\n",
        "    plt.scatter(x_test[:,0], y_test);\n",
        "else:\n",
        "    plt.scatter(x_train[:,1], y_train);\n",
        "    plt.scatter(x_validation[:,1], y_validation);\n",
        "    plt.scatter(x_test[:,1], y_test);\n",
        "plt.show()"
      ]
    },
    {
      "cell_type": "code",
      "execution_count": 159,
      "metadata": {
        "id": "zac2HHNlgbpm"
      },
      "outputs": [],
      "source": [
        "# convert from nparray to Var\n",
        "def nparray_to_Var(x):\n",
        "  if x.ndim==1:\n",
        "    y = [[Var(float(x[i]))] for i in range(x.shape[0])] # always work with list of list\n",
        "  else:\n",
        "    y = [[Var(float(x[i,j])) for j in range(x.shape[1])] for i in range(x.shape[0])]\n",
        "  return y\n",
        "\n",
        "x_train = nparray_to_Var(x_train)\n",
        "y_train = nparray_to_Var(y_train)\n",
        "x_validation = nparray_to_Var(x_validation)\n",
        "y_validation = nparray_to_Var(y_validation)\n",
        "x_test = nparray_to_Var(x_test)\n",
        "y_test = nparray_to_Var(y_test)\n"
      ]
    },
    {
      "cell_type": "markdown",
      "metadata": {
        "id": "VbjrqcpVFtGe"
      },
      "source": [
        "# Defining and initializing the network\n",
        "\n",
        "The steps to create a feed forward neural network are the following:\n",
        "\n",
        "1. **Number of hidden layer and hidden units**. We have to define the number of hidden units in each layer. The number of features in X and the output dimensionality (the size of Y) are given but the numbers in between are set by the researcher. Remember that for each unit in each layer beside in the input has a bias term.\n",
        "2. **Activation functions** for each hidden layer. Each hidden layer in your list must have an activation function (it can also be the linear activation which is equivalent to identity function). The power of neural networks comes from non-linear activation functions that learn representations (features) from the data allowing us to learn from it.\n",
        "3. **Parameter initialization**. We will initialize the weights to have random values. This is done in practice by drawing pseudo random numbers from a Gaussian or uniform distribution. It turns out that for deeper models we have to be careful about how we scale the random numbers. This will be the topic of the exercise below. For now we will just use unit variance Gaussians.  \n",
        "\n",
        "In order to make life easier for ourselves we define a DenseLayer class that takes care of initialization and the forward pass. We can also extend it later with print and advanced initialization capabilities. For the latter we have introduced a Initializer class.\n",
        "\n",
        "Note that we use Sequence in the code below. A Sequence is an ordered list. This means the order we insert and access items are the same."
      ]
    },
    {
      "cell_type": "code",
      "execution_count": 160,
      "metadata": {
        "id": "ij_ieRsAt7Xt"
      },
      "outputs": [],
      "source": [
        "class Initializer:\n",
        "\n",
        "  def init_weights(self, n_in, n_out):\n",
        "    raise NotImplementedError\n",
        "\n",
        "  def init_bias(self, n_out):\n",
        "    raise NotImplementedError"
      ]
    },
    {
      "cell_type": "code",
      "execution_count": 161,
      "metadata": {
        "id": "eb18N5phuIha"
      },
      "outputs": [],
      "source": [
        "import random\n",
        "\n",
        "class NormalInitializer(Initializer):\n",
        "\n",
        "  def __init__(self, mean=0, std=0.1):\n",
        "    self.mean = mean\n",
        "    self.std = std\n",
        "\n",
        "  def init_weights(self, n_in, n_out):\n",
        "    return [[Var(random.gauss(self.mean, self.std)) for _ in range(n_out)] for _ in range(n_in)]\n",
        "\n",
        "  def init_bias(self, n_out):\n",
        "    return [Var(0.0) for _ in range(n_out)]\n",
        "\n",
        "class ConstantInitializer(Initializer):\n",
        "\n",
        "  def __init__(self, weight=1.0, bias=0.0):\n",
        "    self.weight = weight\n",
        "    self.bias = bias\n",
        "\n",
        "  def init_weights(self, n_in, n_out):\n",
        "    return [[Var(self.weight) for _ in range(n_out)] for _ in range(n_in)]\n",
        "\n",
        "  def init_bias(self, n_out):\n",
        "    return [Var(self.bias) for _ in range(n_out)]"
      ]
    },
    {
      "cell_type": "code",
      "execution_count": 162,
      "metadata": {
        "id": "jOLYGnZKuM6W"
      },
      "outputs": [],
      "source": [
        "from typing import Sequence\n",
        "\n",
        "class DenseLayer:\n",
        "    def __init__(self, n_in: int, n_out: int, act_fn, initializer = NormalInitializer()):\n",
        "        self.weights = initializer.init_weights(n_in, n_out)\n",
        "        self.bias = initializer.init_bias(n_out)\n",
        "        self.act_fn = act_fn\n",
        "\n",
        "    def __repr__(self):\n",
        "        return 'Weights: ' + repr(self.weights) + ' Biases: ' + repr(self.bias)\n",
        "\n",
        "    def parameters(self) -> Sequence[Var]:\n",
        "      params = []\n",
        "      for r in self.weights:\n",
        "        params += r\n",
        "\n",
        "      return params + self.bias\n",
        "\n",
        "    def forward(self, single_input: Sequence[Var]) -> Sequence[Var]:\n",
        "        # self.weights is a matrix with dimension n_in x n_out. We check that the dimensionality of the input\n",
        "        # to the current layer matches the number of nodes in the current layer\n",
        "        assert len(self.weights) == len(single_input), \"weights and single_input must match in first dimension\"\n",
        "        weights = self.weights\n",
        "        out = []\n",
        "        # For some given data point single_input, we now want to calculate the resulting value in each node in the current layer\n",
        "        # We therefore loop over the (number of) nodes in the current layer:\n",
        "        for j in range(len(weights[0])):\n",
        "            # Initialize the node value depending on its corresponding parameters.\n",
        "            node = self.bias[j] # <- Insert code\n",
        "            # We now finish the linear transformation corresponding to the parameters of the currently considered node.\n",
        "            for i in range(len(single_input)):\n",
        "                node += single_input[i] * self.weights[i][j]  # <- Insert code\n",
        "            node = self.act_fn(node)\n",
        "            out.append(node)\n",
        "\n",
        "        return out\n",
        "\n",
        "    #EXERCISE PRINT\n",
        "    def print_parameters(self, layer_number):\n",
        "      # Print information about layer number\n",
        "      print(f\"Layer {layer_number} Parameters:\")\n",
        "      print(\"Weights:\")\n",
        "      for i, row in enumerate(self.weights):\n",
        "          for j, weight in enumerate(row):\n",
        "              print(f\"  Weight[{i}][{j}]: {weight}\")\n",
        "\n",
        "      print(\"Biases:\")\n",
        "      for i, bias in enumerate(self.bias):\n",
        "          print(f\"  Bias[{i}]: {bias}\")"
      ]
    },
    {
      "cell_type": "markdown",
      "metadata": {
        "id": "jpIZPBpNI0pO"
      },
      "source": [
        "## Exercise f) Add more activation functions\n",
        "\n",
        "To have a full definition of the neural network, we must define an activation function for every layer. Several activation functions have been proposed and have different characteristics. In the Var class we have already defined the rectified linear init (relu).\n",
        "\n",
        "Implement the following activation functions in the Var class:\n",
        "\n",
        "* Identity: $$\\mathrm{identity}(x) = x$$\n",
        "* Hyperbolic tangent: $$\\tanh(x)$$\n",
        "* Sigmoid (or logistic function): $$\\mathrm{sigmoid}(x) = \\frac{1}{1.0 + \\exp(-x ) }$$  Hint: $\\mathrm{sigmoid}'(x)= \\mathrm{sigmoid}(x)(1-\\mathrm{sigmoid}(x))$.  \n",
        "\n",
        "Hint: You can seek inspiration in the relu method in the Var class."
      ]
    },
    {
      "cell_type": "markdown",
      "metadata": {
        "id": "p_8n_SKnIW2F"
      },
      "source": [
        "## Exercise g) Complete the forward pass\n",
        "\n",
        "In the code below we initialize a 1-5-1 network and pass the training set through it. *The forward method in DenseLayer is **not** complete*. It just outputs zeros right now. The method forward should perform an [affine transformation](https://en.wikipedia.org/wiki/Affine_transformation) on the input followed by an application of the activation function."
      ]
    },
    {
      "cell_type": "code",
      "execution_count": 163,
      "metadata": {
        "colab": {
          "base_uri": "https://localhost:8080/"
        },
        "id": "xDEjtePxE7Mv",
        "outputId": "b7f3c989-bc18-4aa8-9274-98133e8c805b"
      },
      "outputs": [
        {
          "output_type": "stream",
          "name": "stdout",
          "text": [
            "[[Var(v=-0.0055, grad=0.0000)], [Var(v=-0.0111, grad=0.0000)], [Var(v=-0.0010, grad=0.0000)], [Var(v=-0.0242, grad=0.0000)], [Var(v=-0.0082, grad=0.0000)], [Var(v=-0.0075, grad=0.0000)], [Var(v=-0.0049, grad=0.0000)], [Var(v=-0.0058, grad=0.0000)], [Var(v=-0.0250, grad=0.0000)], [Var(v=-0.0030, grad=0.0000)], [Var(v=-0.0085, grad=0.0000)], [Var(v=-0.0154, grad=0.0000)], [Var(v=-0.0068, grad=0.0000)], [Var(v=-0.0176, grad=0.0000)], [Var(v=-0.0037, grad=0.0000)], [Var(v=-0.0071, grad=0.0000)], [Var(v=-0.0131, grad=0.0000)], [Var(v=-0.0062, grad=0.0000)], [Var(v=-0.0007, grad=0.0000)], [Var(v=-0.0022, grad=0.0000)], [Var(v=-0.0115, grad=0.0000)], [Var(v=-0.0051, grad=0.0000)], [Var(v=-0.0096, grad=0.0000)], [Var(v=-0.0097, grad=0.0000)], [Var(v=-0.0067, grad=0.0000)], [Var(v=-0.0182, grad=0.0000)], [Var(v=-0.0124, grad=0.0000)], [Var(v=-0.0136, grad=0.0000)], [Var(v=-0.0014, grad=0.0000)], [Var(v=-0.0086, grad=0.0000)], [Var(v=-0.0228, grad=0.0000)], [Var(v=-0.0021, grad=0.0000)], [Var(v=-0.0198, grad=0.0000)], [Var(v=-0.0215, grad=0.0000)], [Var(v=-0.0066, grad=0.0000)], [Var(v=-0.0040, grad=0.0000)], [Var(v=-0.0246, grad=0.0000)], [Var(v=-0.0093, grad=0.0000)], [Var(v=-0.0174, grad=0.0000)], [Var(v=-0.0124, grad=0.0000)], [Var(v=-0.0088, grad=0.0000)], [Var(v=-0.0119, grad=0.0000)], [Var(v=-0.0128, grad=0.0000)], [Var(v=-0.0148, grad=0.0000)], [Var(v=-0.0117, grad=0.0000)], [Var(v=-0.0143, grad=0.0000)], [Var(v=-0.0082, grad=0.0000)], [Var(v=-0.0078, grad=0.0000)], [Var(v=-0.0055, grad=0.0000)], [Var(v=-0.0080, grad=0.0000)], [Var(v=-0.0035, grad=0.0000)], [Var(v=-0.0003, grad=0.0000)], [Var(v=-0.0087, grad=0.0000)], [Var(v=-0.0121, grad=0.0000)], [Var(v=-0.0138, grad=0.0000)], [Var(v=-0.0121, grad=0.0000)], [Var(v=-0.0080, grad=0.0000)], [Var(v=-0.0089, grad=0.0000)], [Var(v=-0.0045, grad=0.0000)], [Var(v=-0.0213, grad=0.0000)], [Var(v=-0.0081, grad=0.0000)], [Var(v=-0.0150, grad=0.0000)], [Var(v=-0.0248, grad=0.0000)], [Var(v=-0.0039, grad=0.0000)], [Var(v=-0.0029, grad=0.0000)], [Var(v=-0.0204, grad=0.0000)], [Var(v=-0.0218, grad=0.0000)], [Var(v=-0.0102, grad=0.0000)], [Var(v=-0.0156, grad=0.0000)], [Var(v=-0.0040, grad=0.0000)], [Var(v=-0.0060, grad=0.0000)], [Var(v=-0.0027, grad=0.0000)], [Var(v=-0.0079, grad=0.0000)], [Var(v=-0.0046, grad=0.0000)], [Var(v=-0.0021, grad=0.0000)], [Var(v=-0.0125, grad=0.0000)], [Var(v=-0.0108, grad=0.0000)], [Var(v=-0.0104, grad=0.0000)], [Var(v=-0.0137, grad=0.0000)], [Var(v=-0.0130, grad=0.0000)], [Var(v=-0.0020, grad=0.0000)], [Var(v=-0.0012, grad=0.0000)], [Var(v=-0.0224, grad=0.0000)], [Var(v=-0.0031, grad=0.0000)], [Var(v=-0.0113, grad=0.0000)], [Var(v=-0.0049, grad=0.0000)], [Var(v=-0.0042, grad=0.0000)], [Var(v=-0.0126, grad=0.0000)], [Var(v=-0.0231, grad=0.0000)], [Var(v=-0.0240, grad=0.0000)], [Var(v=-0.0047, grad=0.0000)], [Var(v=-0.0073, grad=0.0000)], [Var(v=-0.0134, grad=0.0000)], [Var(v=-0.0074, grad=0.0000)], [Var(v=-0.0191, grad=0.0000)], [Var(v=-0.0229, grad=0.0000)], [Var(v=-0.0034, grad=0.0000)], [Var(v=-0.0006, grad=0.0000)], [Var(v=-0.0118, grad=0.0000)], [Var(v=-0.0136, grad=0.0000)], [Var(v=-0.0077, grad=0.0000)], [Var(v=-0.0132, grad=0.0000)], [Var(v=-0.0202, grad=0.0000)], [Var(v=-0.0037, grad=0.0000)], [Var(v=-0.0110, grad=0.0000)]]\n"
          ]
        }
      ],
      "source": [
        "NN = [\n",
        "    DenseLayer(1, 5, lambda x: x.relu()),\n",
        "    DenseLayer(5, 1, lambda x: x.identity())\n",
        "]\n",
        "\n",
        "def forward(input, network):\n",
        "\n",
        "  def forward_single(x, network):\n",
        "    for layer in network:\n",
        "        x = layer.forward(x)\n",
        "    return x\n",
        "\n",
        "  output = [ forward_single(input[n], network) for n in range(len(input))]\n",
        "  return output\n",
        "\n",
        "print(forward(x_train, NN))\n"
      ]
    },
    {
      "cell_type": "markdown",
      "metadata": {
        "id": "oLrGJytZFtGm"
      },
      "source": [
        "## Exercise h) Print all network parameters\n",
        "\n",
        "Make a function that prints all the parameters of the network (weights and biases) with information about in which layer the appear. In the object oriented spirit you should introduce a method in the DenseLayer class to print the parameters of a layer. Hint: You can take inspiration from the corresponding method in Var."
      ]
    },
    {
      "cell_type": "code",
      "execution_count": 164,
      "metadata": {
        "id": "iac-VwYGFtGm",
        "colab": {
          "base_uri": "https://localhost:8080/"
        },
        "outputId": "302f1ece-3d0a-4972-c0e7-c1bbbc5ba6ee"
      },
      "outputs": [
        {
          "output_type": "stream",
          "name": "stdout",
          "text": [
            "Layer 1 Parameters:\n",
            "Weights:\n",
            "  Weight[0][0]: Var(v=0.2012, grad=0.0000)\n",
            "  Weight[0][1]: Var(v=0.0421, grad=0.0000)\n",
            "  Weight[0][2]: Var(v=0.0657, grad=0.0000)\n",
            "  Weight[0][3]: Var(v=0.0040, grad=0.0000)\n",
            "  Weight[1][0]: Var(v=-0.0948, grad=0.0000)\n",
            "  Weight[1][1]: Var(v=0.0666, grad=0.0000)\n",
            "  Weight[1][2]: Var(v=0.0247, grad=0.0000)\n",
            "  Weight[1][3]: Var(v=-0.1647, grad=0.0000)\n",
            "  Weight[2][0]: Var(v=0.1244, grad=0.0000)\n",
            "  Weight[2][1]: Var(v=0.0968, grad=0.0000)\n",
            "  Weight[2][2]: Var(v=-0.0469, grad=0.0000)\n",
            "  Weight[2][3]: Var(v=-0.0887, grad=0.0000)\n",
            "Biases:\n",
            "  Bias[0]: Var(v=0.0000, grad=0.0000)\n",
            "  Bias[1]: Var(v=0.0000, grad=0.0000)\n",
            "  Bias[2]: Var(v=0.0000, grad=0.0000)\n",
            "  Bias[3]: Var(v=0.0000, grad=0.0000)\n",
            "Layer 2 Parameters:\n",
            "Weights:\n",
            "  Weight[0][0]: Var(v=-0.0584, grad=0.0000)\n",
            "  Weight[0][1]: Var(v=0.0167, grad=0.0000)\n",
            "  Weight[1][0]: Var(v=0.0771, grad=0.0000)\n",
            "  Weight[1][1]: Var(v=-0.0820, grad=0.0000)\n",
            "  Weight[2][0]: Var(v=-0.0762, grad=0.0000)\n",
            "  Weight[2][1]: Var(v=0.0376, grad=0.0000)\n",
            "  Weight[3][0]: Var(v=-0.0933, grad=0.0000)\n",
            "  Weight[3][1]: Var(v=0.0807, grad=0.0000)\n",
            "Biases:\n",
            "  Bias[0]: Var(v=0.0000, grad=0.0000)\n",
            "  Bias[1]: Var(v=0.0000, grad=0.0000)\n"
          ]
        }
      ],
      "source": [
        "# Insert code here and in the DenseLayer class\n",
        "\n",
        "layer1 = DenseLayer(3, 4, lambda x: x.relu())\n",
        "layer2 = DenseLayer(4, 2, lambda x: x.identity())\n",
        "\n",
        "layer1.print_parameters(layer_number=1)\n",
        "layer2.print_parameters(layer_number=2)"
      ]
    },
    {
      "cell_type": "markdown",
      "metadata": {
        "id": "_79HOAXrFtHK"
      },
      "source": [
        "## Visualization\n",
        "\n",
        "Now that we have defined our activation functions we can visualize them to see what they look like:"
      ]
    },
    {
      "cell_type": "code",
      "execution_count": 165,
      "metadata": {
        "id": "1FcylHqLTl-Z",
        "colab": {
          "base_uri": "https://localhost:8080/",
          "height": 447
        },
        "outputId": "1424b505-4f66-451b-d0db-cea73ea9e5c3"
      },
      "outputs": [
        {
          "output_type": "execute_result",
          "data": {
            "text/plain": [
              "[<matplotlib.lines.Line2D at 0x7b4f5793c580>]"
            ]
          },
          "metadata": {},
          "execution_count": 165
        },
        {
          "output_type": "display_data",
          "data": {
            "text/plain": [
              "<Figure size 640x480 with 1 Axes>"
            ],
            "image/png": "[encoded data removed]"
          },
          "metadata": {}
        }
      ],
      "source": [
        "x = np.linspace(-6, 6, 100)\n",
        "\n",
        "# convert from Var to ndarray\n",
        "def Var_to_nparray(x):\n",
        "  y = np.zeros((len(x),len(x[0])))\n",
        "  for i in range(len(x)):\n",
        "    for j in range(len(x[0])):\n",
        "      y[i,j] = x[i][j].v\n",
        "  return y\n",
        "\n",
        "# define 1-1 network with weight = 1 and relu activation\n",
        "NN = [ DenseLayer(1, 1, lambda x: x.relu(), initializer = ConstantInitializer(1.0)) ]\n",
        "y = Var_to_nparray(forward(nparray_to_Var(x), NN))\n",
        "\n",
        "#y = Var_to_nparray(relu(nparray_to_Var(x)))\n",
        "plt.plot(x,y)"
      ]
    },
    {
      "cell_type": "code",
      "execution_count": 168,
      "metadata": {
        "id": "oOL2UolJFtHL",
        "colab": {
          "base_uri": "https://localhost:8080/",
          "height": 476
        },
        "outputId": "ec991818-57a6-4b47-af19-7b2fe4c04a23"
      },
      "outputs": [
        {
          "output_type": "display_data",
          "data": {
            "text/plain": [
              "<Figure size 500x500 with 1 Axes>"
            ],
            "image/png": "[encoded data removed]"
          },
          "metadata": {}
        }
      ],
      "source": [
        "# Testing all activation layers\n",
        "import math # I NEEDED TO IMPORT MATH FOR THIS TO WORK\n",
        "x = np.linspace(-6, 6, 100)\n",
        "units = {\n",
        "    \"identity\": lambda x: x.identity(),\n",
        "    \"sigmoid\": lambda x: x.sigmoid(),\n",
        "    \"relu\": lambda x: x.relu(),\n",
        "    \"tanh\": lambda x: x.tanh()\n",
        "}\n",
        "\n",
        "plt.figure(figsize=(5, 5))\n",
        "[plt.plot(x, Var_to_nparray(forward(nparray_to_Var(x), [DenseLayer(1, 1, unit, initializer = ConstantInitializer(1.0))]) ), label=unit_name, lw=2) for unit_name, unit in units.items()] # unit(nparray_to_Var(x))), label=unit_name, lw=2) for unit_name, unit in units.items()]\n",
        "plt.legend(loc=2, fontsize=16)\n",
        "plt.title('Our activation functions', fontsize=20)\n",
        "plt.ylim([-2, 5])\n",
        "plt.xlim([-6, 6])\n",
        "plt.show()"
      ]
    },
    {
      "cell_type": "markdown",
      "metadata": {
        "id": "b-jdEl-7FtGs"
      },
      "source": [
        "# Advanced initialization schemes\n",
        "\n",
        "If we are not careful with initialization, the signals we propagate forward ($a^{(l)}$, $l=1,\\ldots,L$) and backward ($\\delta^l$, $l=L,L-1,\\ldots,1$) can blow up or shrink to zero. A statistical analysis of the variance of the signals for different activation functions can be found in these two papers: [Glorot initialization](http://proceedings.mlr.press/v9/glorot10a/glorot10a.pdf) and [He initialization](https://arxiv.org/pdf/1502.01852v1.pdf).\n",
        "\n",
        "The result of the analyses are proposals for how to make the initialization such that the variance of the signals (forward and backward) are kept approxmimatly constant when propagating from layer to layer. The exact expressions depend upon the non-linear activation function used. In Glorot initialization, the aim is to keep both the forward and backward variances constant whereas He only aims at keeping the variance in the forward pass constant.\n",
        "\n",
        "We define $n_{in}$ and $n_{out}$ as the number of input units and output units of a particular layer.\n",
        "\n",
        "The Glorot initialization has the form:\n",
        "\n",
        "$$w_{ij} \\sim N \\bigg( 0, \\, \\frac{2 \\alpha }{n_{in} + n_{out}} \\bigg) \\ . $$\n",
        "\n",
        "where $N(\\mu,\\sigma^2)$ is a Gaussian distribution with mean $\\mu$ and variance $\\sigma^2$ and $\\alpha$ is a parameter that depends upon the activation function used. For $\\tanh$, $\\alpha=1$ and for Rectified Linear Unit (ReLU) activations, $\\alpha=2$. (It is also possible to use a uniform distribution for initialization, see [this blog post](https://mmuratarat.github.io/2019-02-25/xavier-glorot-he-weight-init).)\n",
        "\n",
        "The He initialization is very similar\n",
        "\n",
        "$$w_{ij} \\sim N \\bigg( 0, \\, \\frac{\\alpha}{n_{in}} \\bigg) \\ . $$"
      ]
    },
    {
      "cell_type": "markdown",
      "metadata": {
        "id": "mqeyab9qFtGs"
      },
      "source": [
        "## Exercise i) Glorot and He initialization\n",
        "\n",
        "Using the Initializer class, implement functions that implement Glorot and He\n",
        "\n",
        "Explain briefly how you would test numerically that these initializations have the sought after property. Hint: See plots in Glorot paper.\n",
        "\n",
        "Comment: If you want to be more advanced then try to make a universal initializer taking both the activation function and type (Glorot or He) as argument."
      ]
    },
    {
      "cell_type": "code",
      "execution_count": 169,
      "metadata": {
        "id": "Qyk01CgaFtGt"
      },
      "outputs": [],
      "source": [
        "## Glorot\n",
        "def DenseLayer_Glorot_tanh(n_in: int, n_out: int):\n",
        "  std = np.sqrt(1.0 / (n_in + n_out)) # <- replace with proper initialization\n",
        "  return DenseLayer(n_in, n_out, lambda x: x.tanh(), initializer = NormalInitializer(std))\n",
        "\n",
        "## He\n",
        "def DenseLayer_He_relu(n_in: int, n_out: int):\n",
        "  std = np.sqrt(2.0 / n_in) # <- replace with proper initialization\n",
        "  return DenseLayer(n_in, n_out, lambda x: x.relu(), initializer = NormalInitializer(std))"
      ]
    },
    {
      "cell_type": "markdown",
      "metadata": {
        "id": "-XyXBD37FtHk"
      },
      "source": [
        "## Exercise j) Forward pass unit test\n",
        "\n",
        "Write a bit of code to make a unit test that the forward pass works. This can be done by defining a simple network with for example all weights equal to one (using the ConstantInitializer method) and identity activation functions.\n",
        "\n",
        "Hints: Use the [assert](https://www.w3schools.com/python/ref_keyword_assert.asp), the nparray_to_Var and the Var_to_nparray commands."
      ]
    },
    {
      "cell_type": "code",
      "execution_count": 174,
      "metadata": {
        "id": "k0miqRUAFtHl",
        "colab": {
          "base_uri": "https://localhost:8080/"
        },
        "outputId": "e9f9c5a0-dd2e-48ad-f204-38dea1552a4e"
      },
      "outputs": [
        {
          "output_type": "stream",
          "name": "stdout",
          "text": [
            "Forward pass unit test passed!\n"
          ]
        }
      ],
      "source": [
        "#insert code here\n",
        "\n",
        "import numpy as np\n",
        "\n",
        "# Define a simple network with known weights and identity activation function\n",
        "# Define a simple network with all weights equal to one and identity activation functions\n",
        "NN = [\n",
        "    DenseLayer(1, 1, lambda x: x.identity(), initializer=ConstantInitializer(1.0)),\n",
        "]\n",
        "\n",
        "# Input data\n",
        "x = np.array([[2.0]])  # Example input data\n",
        "\n",
        "# Forward pass\n",
        "output = forward(nparray_to_Var(x), NN)\n",
        "\n",
        "# Expected output for identity activation and weights equal to one\n",
        "expected_output = x  # Adjust this based on your network architecture\n",
        "\n",
        "# Convert the output to a NumPy array for comparison\n",
        "output_np = Var_to_nparray(output)\n",
        "\n",
        "# Assert that the output matches the expected output\n",
        "assert np.allclose(output_np, expected_output), \"Forward pass unit test failed\"\n",
        "\n",
        "print(\"Forward pass unit test passed!\")\n",
        "\n",
        "\n",
        "\n",
        "\n"
      ]
    },
    {
      "cell_type": "markdown",
      "metadata": {
        "id": "faCxhfFnFtHp"
      },
      "source": [
        "# Loss functions\n",
        "\n",
        "We are only missing a loss function to we need to define a loss function and its derivative with respect to the output of the neural network $y$"
      ]
    },
    {
      "cell_type": "code",
      "execution_count": 175,
      "metadata": {
        "id": "I2eDYKvAFtHq"
      },
      "outputs": [],
      "source": [
        "def squared_loss(t, y):\n",
        "\n",
        "  # add check that sizes agree\n",
        "\n",
        "  def squared_loss_single(t, y):\n",
        "    Loss = Var(0.0)\n",
        "    for i in range(len(t)): # sum over outputs\n",
        "      Loss += (t[i]-y[i]) ** 2\n",
        "    return Loss\n",
        "\n",
        "  Loss = Var(0.0)\n",
        "  for n in range(len(t)): # sum over training data\n",
        "    Loss += squared_loss_single(t[n],y[n])\n",
        "  return Loss"
      ]
    },
    {
      "cell_type": "markdown",
      "metadata": {
        "id": "SrwSJ2UWFtHu"
      },
      "source": [
        "## Exercise k) Implement cross entropy loss\n",
        "\n",
        "Insert code below to implement cross-entropy loss for general dimensionality of $t$. Use a logits formulation:\n",
        "$$\n",
        "\\rm{Loss} = - \\sum_i t_i \\, log \\, p_i\n",
        "$$\n",
        "with $p$ given by the the softmax function in terms of the logits $h$:\n",
        "$$\n",
        "p_i = \\frac{\\exp(h_i)}{\\sum_{i'} \\exp(h_{i'})} .\n",
        "$$\n",
        "Inserting $p$ in the expression for the loss gives\n",
        "$$\n",
        "\\rm{Loss} = - \\sum_i t_i h_i + \\rm{LogSumExp}(h) \\ ,\n",
        "$$\n",
        "where\n",
        "$$\n",
        "\\rm{LogSumExp}(h) = \\log \\sum_i \\exp h_i \\ .\n",
        "$$\n",
        "This is true for $t$ being a one-hot vector.\n",
        "\n",
        "Call the function to convince yourself it works.\n",
        "\n",
        "In practice you want to implement a [numerically stable](https://leimao.github.io/blog/LogSumExp/) version of LogSumExp. But we will not bother about that here.\n",
        "\n",
        "Help: You can add these methods in the Var class:\n",
        "\n",
        "    def exp(self):\n",
        "        return Var(exp(self.v), lambda: [(self, exp(self.v))])\n",
        "    \n",
        "    def log(self):\n",
        "        return Var(log(self.v), lambda: [(self, self.v ** -1)])"
      ]
    },
    {
      "cell_type": "code",
      "execution_count": 177,
      "metadata": {
        "id": "6nMuxyfzFtHv"
      },
      "outputs": [],
      "source": [
        "def cross_entropy_loss(t, h):\n",
        "\n",
        "    Loss = Var(0.0)\n",
        "    # Insert code here\n",
        "    # Calculate the LogSumExp(h)\n",
        "    log_sum_exp = h[0].clone()\n",
        "    for i in range(1, len(h)):\n",
        "        log_sum_exp = log_sum_exp.log() + (h[i] - log_sum_exp).exp()\n",
        "\n",
        "    # Calculate the cross-entropy loss\n",
        "    for i in range(len(t)):\n",
        "        Loss -= t[i] * h[i] - log_sum_exp\n",
        "    return Loss"
      ]
    },
    {
      "cell_type": "markdown",
      "metadata": {
        "id": "8fAF5ew4FtHy"
      },
      "source": [
        "# Backward pass\n",
        "\n",
        "Now the magic happens! We get the calculation of the gradients for free. Just do:"
      ]
    },
    {
      "cell_type": "code",
      "execution_count": 178,
      "metadata": {
        "id": "iHyfPPI9Qqwu"
      },
      "outputs": [],
      "source": [
        "NN = [\n",
        "    DenseLayer(1, 5, lambda x: x.relu()),\n",
        "    DenseLayer(5, 1, lambda x: x.identity())\n",
        "]\n",
        "\n",
        "output = forward(x_train, NN)\n",
        "\n",
        "Loss = squared_loss(y_train,output)\n",
        "Loss.backward()"
      ]
    },
    {
      "cell_type": "markdown",
      "metadata": {
        "id": "49biIAYKQ1oG"
      },
      "source": [
        "and the gradients will be calculated:"
      ]
    },
    {
      "cell_type": "code",
      "execution_count": 179,
      "metadata": {
        "id": "_rGt1bq_Q7uk",
        "colab": {
          "base_uri": "https://localhost:8080/"
        },
        "outputId": "f10370f1-f279-4fd1-d5c1-e1d9e583219c"
      },
      "outputs": [
        {
          "output_type": "stream",
          "name": "stdout",
          "text": [
            "Layer 0 \n",
            " Weights: [[Var(v=-0.0339, grad=13.1689), Var(v=-0.0599, grad=-0.5672), Var(v=-0.0502, grad=5.1064), Var(v=0.1019, grad=8.0456), Var(v=0.0664, grad=0.6923)]] Biases: [Var(v=0.0000, grad=-11.9683), Var(v=0.0000, grad=0.5155), Var(v=0.0000, grad=-4.6409), Var(v=0.0000, grad=6.9100), Var(v=0.0000, grad=0.5946)]\n",
            "Layer 1 \n",
            " Weights: [[Var(v=-0.1382, grad=3.2353)], [Var(v=0.0060, grad=5.7113)], [Var(v=-0.0536, grad=4.7861)], [Var(v=-0.0785, grad=-10.4492)], [Var(v=-0.0068, grad=-6.8100)]] Biases: [Var(v=0.0000, grad=-1.4329)]\n"
          ]
        },
        {
          "output_type": "execute_result",
          "data": {
            "text/plain": [
              "[None, None]"
            ]
          },
          "metadata": {},
          "execution_count": 179
        }
      ],
      "source": [
        "[print('Layer', i, '\\n', NN[i]) for i in range(len(NN))]"
      ]
    },
    {
      "cell_type": "markdown",
      "metadata": {
        "id": "D7d7qK0uFtH9"
      },
      "source": [
        "# Backward pass unit test\n",
        "\n",
        "Above we used finite differences to test that Nanograd is actually doing what it is supposed to do. We can in principle try the same for the neural network. But we will trust that the test above is enough."
      ]
    },
    {
      "cell_type": "markdown",
      "metadata": {
        "id": "WgBi8GOSFtIN"
      },
      "source": [
        "# Training and validation\n",
        "\n",
        "We are ready to train some neural networks!\n",
        "\n",
        "We initialize again:"
      ]
    },
    {
      "cell_type": "code",
      "execution_count": 180,
      "metadata": {
        "id": "01ePmzBzRtdh"
      },
      "outputs": [],
      "source": [
        "NN = [\n",
        "    DenseLayer(1, 15, lambda x: x.relu()),\n",
        "    DenseLayer(15, 50, lambda x: x.relu()),\n",
        "    DenseLayer(50, 1, lambda x: x.identity())\n",
        "]\n",
        "\n",
        "output = forward(x_train, NN)\n",
        "\n",
        "Loss = squared_loss(y_train,output)\n",
        "Loss.backward()"
      ]
    },
    {
      "cell_type": "markdown",
      "metadata": {
        "id": "10iRPiQ1ISHw"
      },
      "source": [
        "and make an update:\n",
        "\n",
        "We introduce a help function parameters to have a handle in all parameters in the network."
      ]
    },
    {
      "cell_type": "code",
      "execution_count": 181,
      "metadata": {
        "id": "dhAI7eyeznia",
        "colab": {
          "base_uri": "https://localhost:8080/"
        },
        "outputId": "288b9a5e-93a5-425f-ba19-f9904d632f71"
      },
      "outputs": [
        {
          "output_type": "stream",
          "name": "stdout",
          "text": [
            "Network before update:\n",
            "Layer 0 \n",
            " Weights: [[Var(v=0.1741, grad=-1.0866), Var(v=0.0559, grad=-0.3274), Var(v=0.0277, grad=-2.1489), Var(v=0.0574, grad=8.7536), Var(v=-0.1548, grad=-1.7780), Var(v=0.1472, grad=-3.8999), Var(v=-0.0149, grad=3.0875), Var(v=-0.0117, grad=-1.2414), Var(v=0.0470, grad=-1.7418), Var(v=0.1356, grad=-4.3754), Var(v=0.0419, grad=-5.8857), Var(v=0.0865, grad=-4.1727), Var(v=-0.0401, grad=3.2069), Var(v=0.0601, grad=1.4157), Var(v=0.0911, grad=2.8522)]] Biases: [Var(v=0.0000, grad=-0.9336), Var(v=0.0000, grad=-0.2813), Var(v=0.0000, grad=-1.8464), Var(v=0.0000, grad=7.5213), Var(v=0.0000, grad=1.6161), Var(v=0.0000, grad=-3.3509), Var(v=0.0000, grad=-2.8064), Var(v=0.0000, grad=1.1284), Var(v=0.0000, grad=-1.4966), Var(v=0.0000, grad=-3.7594), Var(v=0.0000, grad=-5.0572), Var(v=0.0000, grad=-3.5853), Var(v=0.0000, grad=-2.9150), Var(v=0.0000, grad=1.2164), Var(v=0.0000, grad=2.4506)]\n",
            "Layer 1 \n",
            " Weights: [[Var(v=-0.0577, grad=0.9176), Var(v=-0.0651, grad=-0.5530), Var(v=0.1785, grad=0.0618), Var(v=0.1224, grad=0.5530), Var(v=0.1876, grad=-0.4060), Var(v=0.0346, grad=0.7986), Var(v=0.1957, grad=-1.2901), Var(v=0.0294, grad=-1.7561), Var(v=0.0958, grad=1.0581), Var(v=0.0239, grad=0.0000), Var(v=-0.0141, grad=-3.5265), Var(v=0.0623, grad=-1.2800), Var(v=0.0180, grad=2.8271), Var(v=-0.0151, grad=0.0000), Var(v=0.0629, grad=1.7258), Var(v=0.0108, grad=0.0000), Var(v=-0.0055, grad=0.5317), Var(v=-0.0384, grad=0.0000), Var(v=-0.0961, grad=-0.0930), Var(v=0.0602, grad=1.1129), Var(v=-0.0817, grad=0.0000), Var(v=-0.0451, grad=-1.6553), Var(v=0.0388, grad=1.5899), Var(v=-0.0534, grad=0.0000), Var(v=0.1184, grad=-0.1308), Var(v=0.0015, grad=0.0000), Var(v=-0.0026, grad=0.0000), Var(v=0.0069, grad=-2.1693), Var(v=0.0850, grad=-3.3428), Var(v=0.0152, grad=-0.4205), Var(v=0.0815, grad=-1.0187), Var(v=0.1454, grad=-0.2530), Var(v=0.1773, grad=1.1791), Var(v=-0.0048, grad=-0.7795), Var(v=-0.1608, grad=0.0000), Var(v=0.2069, grad=-0.9449), Var(v=-0.1274, grad=0.0000), Var(v=0.0244, grad=-0.1530), Var(v=0.0324, grad=-1.2798), Var(v=-0.0382, grad=0.0000), Var(v=0.0363, grad=2.0805), Var(v=0.0138, grad=0.0000), Var(v=0.0153, grad=-2.1145), Var(v=-0.1045, grad=-1.2040), Var(v=0.1269, grad=0.1972), Var(v=0.1461, grad=-0.2712), Var(v=0.1022, grad=-2.9170), Var(v=0.0092, grad=0.0000), Var(v=-0.0868, grad=0.0000), Var(v=0.1063, grad=2.5759)], [Var(v=0.0998, grad=0.2945), Var(v=-0.1897, grad=-0.1775), Var(v=-0.2077, grad=0.0198), Var(v=0.0872, grad=0.1775), Var(v=-0.1855, grad=-0.1303), Var(v=-0.1381, grad=0.2563), Var(v=0.1244, grad=-0.4140), Var(v=0.1230, grad=-0.5636), Var(v=-0.0731, grad=0.3396), Var(v=-0.0664, grad=0.0000), Var(v=0.0195, grad=-1.1318), Var(v=0.0930, grad=-0.4108), Var(v=0.1542, grad=0.9073), Var(v=-0.0240, grad=0.0000), Var(v=-0.0416, grad=0.5539), Var(v=-0.0237, grad=0.0000), Var(v=-0.0300, grad=0.1707), Var(v=-0.0161, grad=0.0000), Var(v=0.0797, grad=-0.0298), Var(v=0.1016, grad=0.3572), Var(v=0.0493, grad=0.0000), Var(v=-0.1827, grad=-0.5313), Var(v=0.0526, grad=0.5103), Var(v=0.1364, grad=0.0000), Var(v=0.1626, grad=-0.0420), Var(v=0.3640, grad=0.0000), Var(v=0.0064, grad=0.0000), Var(v=-0.0075, grad=-0.6962), Var(v=0.1422, grad=-1.0729), Var(v=-0.0496, grad=-0.1350), Var(v=-0.1206, grad=-0.3269), Var(v=-0.0678, grad=-0.0812), Var(v=-0.0489, grad=0.3784), Var(v=0.0641, grad=-0.2502), Var(v=0.1832, grad=0.0000), Var(v=-0.0715, grad=-0.3033), Var(v=0.0633, grad=0.0000), Var(v=0.0904, grad=-0.0491), Var(v=-0.0054, grad=-0.4107), Var(v=0.0059, grad=0.0000), Var(v=0.1036, grad=0.6677), Var(v=-0.0158, grad=0.0000), Var(v=0.0618, grad=-0.6787), Var(v=-0.0863, grad=-0.3864), Var(v=0.0373, grad=0.0633), Var(v=0.1819, grad=-0.0870), Var(v=0.0391, grad=-0.9362), Var(v=0.0419, grad=0.0000), Var(v=-0.0908, grad=0.0000), Var(v=-0.0460, grad=0.8267)], [Var(v=-0.0708, grad=0.1458), Var(v=0.0438, grad=-0.0879), Var(v=-0.0445, grad=0.0098), Var(v=0.1460, grad=0.0879), Var(v=-0.0757, grad=-0.0645), Var(v=-0.2179, grad=0.1269), Var(v=0.1123, grad=-0.2050), Var(v=-0.0160, grad=-0.2791), Var(v=-0.1789, grad=0.1681), Var(v=0.0495, grad=0.0000), Var(v=-0.1056, grad=-0.5604), Var(v=0.0900, grad=-0.2034), Var(v=0.0174, grad=0.4493), Var(v=-0.0234, grad=0.0000), Var(v=-0.0623, grad=0.2743), Var(v=0.1040, grad=0.0000), Var(v=0.1686, grad=0.0845), Var(v=0.0310, grad=0.0000), Var(v=0.0416, grad=-0.0148), Var(v=0.0104, grad=0.1769), Var(v=-0.1169, grad=0.0000), Var(v=0.1101, grad=-0.2631), Var(v=-0.1210, grad=0.2527), Var(v=0.1133, grad=0.0000), Var(v=-0.0554, grad=-0.0208), Var(v=0.1054, grad=0.0000), Var(v=-0.0352, grad=0.0000), Var(v=0.0290, grad=-0.3448), Var(v=-0.0007, grad=-0.5312), Var(v=0.1000, grad=-0.0668), Var(v=-0.0651, grad=-0.1619), Var(v=-0.0158, grad=-0.0402), Var(v=0.0765, grad=0.1874), Var(v=0.1603, grad=-0.1239), Var(v=0.0451, grad=0.0000), Var(v=0.1864, grad=-0.1502), Var(v=0.0315, grad=0.0000), Var(v=-0.0931, grad=-0.0243), Var(v=0.1166, grad=-0.2034), Var(v=0.0075, grad=0.0000), Var(v=0.0933, grad=0.3306), Var(v=-0.0727, grad=0.0000), Var(v=0.0394, grad=-0.3360), Var(v=-0.0270, grad=-0.1913), Var(v=-0.0202, grad=0.0313), Var(v=0.0257, grad=-0.0431), Var(v=-0.0913, grad=-0.4636), Var(v=0.0060, grad=0.0000), Var(v=0.0893, grad=0.0000), Var(v=0.0532, grad=0.4094)], [Var(v=-0.1716, grad=0.3028), Var(v=0.1710, grad=-0.1825), Var(v=0.0133, grad=0.0204), Var(v=-0.0545, grad=0.1825), Var(v=-0.1018, grad=-0.1340), Var(v=0.0618, grad=0.2635), Var(v=-0.0868, grad=-0.4257), Var(v=-0.0566, grad=-0.5795), Var(v=0.2711, grad=0.3492), Var(v=0.0834, grad=0.0000), Var(v=-0.0334, grad=-1.1637), Var(v=-0.0711, grad=-0.4224), Var(v=-0.0529, grad=0.9329), Var(v=-0.1814, grad=0.0000), Var(v=0.1180, grad=0.5695), Var(v=-0.1859, grad=0.0000), Var(v=0.0197, grad=0.1755), Var(v=-0.0338, grad=0.0000), Var(v=0.0727, grad=-0.0307), Var(v=0.0478, grad=0.3672), Var(v=0.1944, grad=0.0000), Var(v=0.0065, grad=-0.5462), Var(v=0.0007, grad=0.5247), Var(v=0.0805, grad=0.0000), Var(v=0.0565, grad=-0.0432), Var(v=0.2472, grad=0.0000), Var(v=-0.0838, grad=0.0000), Var(v=0.0783, grad=-0.7159), Var(v=-0.2632, grad=-1.1031), Var(v=0.0733, grad=-0.1388), Var(v=0.0641, grad=-0.3362), Var(v=0.0627, grad=-0.0835), Var(v=0.1378, grad=0.3891), Var(v=-0.0340, grad=-0.2572), Var(v=0.2209, grad=0.0000), Var(v=-0.0131, grad=-0.3118), Var(v=-0.0024, grad=0.0000), Var(v=-0.1265, grad=-0.0505), Var(v=0.1535, grad=-0.4223), Var(v=-0.0104, grad=0.0000), Var(v=0.0472, grad=0.6866), Var(v=-0.0009, grad=0.0000), Var(v=-0.0100, grad=-0.6978), Var(v=-0.0830, grad=-0.3973), Var(v=-0.0701, grad=0.0651), Var(v=-0.0610, grad=-0.0895), Var(v=-0.0059, grad=-0.9626), Var(v=-0.2273, grad=0.0000), Var(v=-0.0308, grad=0.0000), Var(v=0.0201, grad=0.8500)], [Var(v=-0.0085, grad=0.0000), Var(v=0.1081, grad=0.4719), Var(v=0.0103, grad=-0.0527), Var(v=-0.0158, grad=-0.4719), Var(v=0.0438, grad=0.3465), Var(v=-0.0696, grad=0.0000), Var(v=-0.1858, grad=0.0000), Var(v=-0.0358, grad=0.0000), Var(v=-0.0196, grad=0.0000), Var(v=0.1120, grad=-1.7523), Var(v=0.0605, grad=3.0097), Var(v=0.0263, grad=1.0924), Var(v=-0.0542, grad=0.0000), Var(v=0.0857, grad=1.5353), Var(v=-0.2694, grad=0.0000), Var(v=0.1930, grad=-1.9797), Var(v=0.0007, grad=-0.4538), Var(v=-0.0575, grad=0.0000), Var(v=0.1086, grad=0.0794), Var(v=0.0015, grad=0.0000), Var(v=0.1135, grad=-0.2487), Var(v=-0.1177, grad=0.0000), Var(v=0.2457, grad=-1.3569), Var(v=0.0382, grad=-0.4387), Var(v=-0.1199, grad=0.0000), Var(v=-0.0007, grad=2.1313), Var(v=0.0741, grad=-0.7695), Var(v=0.0301, grad=1.8514), Var(v=0.1224, grad=2.8529), Var(v=0.1832, grad=0.3589), Var(v=-0.1075, grad=0.0000), Var(v=0.0719, grad=0.2159), Var(v=0.1482, grad=-1.0063), Var(v=-0.0861, grad=0.0000), Var(v=0.0694, grad=-0.5176), Var(v=0.2443, grad=0.8065), Var(v=0.0892, grad=1.4490), Var(v=0.0102, grad=0.1306), Var(v=0.1159, grad=1.0922), Var(v=0.0941, grad=-0.0247), Var(v=-0.0207, grad=-1.7756), Var(v=0.1036, grad=-0.4012), Var(v=0.0450, grad=1.8046), Var(v=0.0343, grad=1.0275), Var(v=0.0009, grad=0.0000), Var(v=-0.0987, grad=0.0000), Var(v=-0.0672, grad=0.0000), Var(v=-0.0529, grad=0.0000), Var(v=0.0021, grad=1.0914), Var(v=-0.0823, grad=0.0000)], [Var(v=0.1325, grad=0.7761), Var(v=0.0784, grad=-0.4677), Var(v=0.0553, grad=0.0523), Var(v=0.0659, grad=0.4677), Var(v=-0.0102, grad=-0.3434), Var(v=-0.0068, grad=0.6754), Var(v=-0.0366, grad=-1.0911), Var(v=0.0145, grad=-1.4853), Var(v=0.0069, grad=0.8949), Var(v=0.0073, grad=0.0000), Var(v=-0.0171, grad=-2.9827), Var(v=-0.0161, grad=-1.0826), Var(v=0.1534, grad=2.3911), Var(v=-0.0622, grad=0.0000), Var(v=-0.0097, grad=1.4597), Var(v=-0.1785, grad=0.0000), Var(v=0.1571, grad=0.4497), Var(v=-0.0776, grad=0.0000), Var(v=0.0302, grad=-0.0787), Var(v=0.0497, grad=0.9413), Var(v=-0.0311, grad=0.0000), Var(v=0.0430, grad=-1.4001), Var(v=0.0045, grad=1.3447), Var(v=0.1408, grad=0.0000), Var(v=-0.0751, grad=-0.1106), Var(v=-0.1150, grad=0.0000), Var(v=-0.1475, grad=0.0000), Var(v=-0.1523, grad=-1.8348), Var(v=0.2394, grad=-2.8273), Var(v=0.1111, grad=-0.3557), Var(v=0.0380, grad=-0.8616), Var(v=0.0107, grad=-0.2140), Var(v=-0.0143, grad=0.9973), Var(v=0.0601, grad=-0.6593), Var(v=-0.1240, grad=0.0000), Var(v=0.1283, grad=-0.7992), Var(v=-0.1411, grad=0.0000), Var(v=-0.0133, grad=-0.1294), Var(v=0.1140, grad=-1.0824), Var(v=0.1095, grad=0.0000), Var(v=-0.0015, grad=1.7597), Var(v=-0.0227, grad=0.0000), Var(v=-0.0153, grad=-1.7884), Var(v=0.2327, grad=-1.0183), Var(v=0.1809, grad=0.1668), Var(v=0.1144, grad=-0.2294), Var(v=0.0834, grad=-2.4671), Var(v=0.0271, grad=0.0000), Var(v=-0.0823, grad=0.0000), Var(v=-0.0109, grad=2.1786)], [Var(v=0.1154, grad=0.0000), Var(v=-0.0450, grad=0.0454), Var(v=0.0370, grad=-0.0051), Var(v=0.0395, grad=-0.0454), Var(v=-0.0486, grad=0.0333), Var(v=0.0253, grad=0.0000), Var(v=-0.1372, grad=0.0000), Var(v=-0.1684, grad=0.0000), Var(v=-0.0073, grad=0.0000), Var(v=-0.0138, grad=-0.1686), Var(v=0.0536, grad=0.2896), Var(v=-0.0521, grad=0.1051), Var(v=0.0755, grad=0.0000), Var(v=-0.0525, grad=0.1477), Var(v=0.1676, grad=0.0000), Var(v=0.2120, grad=-0.1905), Var(v=0.1875, grad=-0.0437), Var(v=-0.0864, grad=0.0000), Var(v=0.0446, grad=0.0076), Var(v=-0.0015, grad=0.0000), Var(v=-0.0052, grad=-0.0239), Var(v=0.0538, grad=0.0000), Var(v=-0.0666, grad=-0.1306), Var(v=0.0082, grad=-0.0422), Var(v=-0.0304, grad=0.0000), Var(v=0.0514, grad=0.2051), Var(v=-0.0934, grad=-0.0740), Var(v=-0.0304, grad=0.1781), Var(v=0.0900, grad=0.2745), Var(v=0.0197, grad=0.0345), Var(v=-0.1343, grad=0.0000), Var(v=-0.1788, grad=0.0208), Var(v=-0.0033, grad=-0.0968), Var(v=-0.0136, grad=0.0000), Var(v=0.0922, grad=-0.0498), Var(v=0.0420, grad=0.0776), Var(v=-0.1371, grad=0.1394), Var(v=0.0557, grad=0.0126), Var(v=0.1003, grad=0.1051), Var(v=0.0032, grad=-0.0024), Var(v=0.1259, grad=-0.1709), Var(v=0.1143, grad=-0.0386), Var(v=0.1443, grad=0.1736), Var(v=-0.0605, grad=0.0989), Var(v=-0.0825, grad=0.0000), Var(v=0.0462, grad=0.0000), Var(v=-0.0310, grad=0.0000), Var(v=0.1199, grad=0.0000), Var(v=-0.2208, grad=0.1050), Var(v=0.1683, grad=0.0000)], [Var(v=-0.0741, grad=0.0000), Var(v=0.0532, grad=0.0356), Var(v=0.1974, grad=-0.0040), Var(v=0.0553, grad=-0.0356), Var(v=-0.0386, grad=0.0261), Var(v=0.0346, grad=0.0000), Var(v=0.1715, grad=0.0000), Var(v=-0.0299, grad=0.0000), Var(v=0.1900, grad=0.0000), Var(v=0.1198, grad=-0.1321), Var(v=0.0891, grad=0.2269), Var(v=-0.1548, grad=0.0823), Var(v=0.0030, grad=0.0000), Var(v=0.0545, grad=0.1157), Var(v=-0.1436, grad=0.0000), Var(v=-0.0190, grad=-0.1492), Var(v=0.0901, grad=-0.0342), Var(v=-0.0764, grad=0.0000), Var(v=0.0009, grad=0.0060), Var(v=-0.0090, grad=0.0000), Var(v=0.0798, grad=-0.0187), Var(v=0.0441, grad=0.0000), Var(v=0.0085, grad=-0.1023), Var(v=0.0442, grad=-0.0331), Var(v=0.0444, grad=0.0000), Var(v=-0.0597, grad=0.1607), Var(v=-0.0377, grad=-0.0580), Var(v=-0.0169, grad=0.1396), Var(v=0.0325, grad=0.2151), Var(v=-0.0068, grad=0.0271), Var(v=-0.0448, grad=0.0000), Var(v=0.1178, grad=0.0163), Var(v=-0.2081, grad=-0.0759), Var(v=-0.0235, grad=0.0000), Var(v=0.0873, grad=-0.0390), Var(v=-0.0917, grad=0.0608), Var(v=-0.0863, grad=0.1092), Var(v=-0.0546, grad=0.0098), Var(v=0.0408, grad=0.0823), Var(v=-0.1181, grad=-0.0019), Var(v=-0.2305, grad=-0.1339), Var(v=0.0268, grad=-0.0302), Var(v=-0.0641, grad=0.1360), Var(v=0.0494, grad=0.0775), Var(v=-0.1079, grad=0.0000), Var(v=-0.0910, grad=0.0000), Var(v=0.1200, grad=0.0000), Var(v=0.0455, grad=0.0000), Var(v=-0.0251, grad=0.0823), Var(v=-0.0327, grad=0.0000)], [Var(v=-0.0086, grad=0.2478), Var(v=0.1540, grad=-0.1493), Var(v=-0.1396, grad=0.0167), Var(v=-0.0976, grad=0.1493), Var(v=-0.0377, grad=-0.1097), Var(v=-0.1544, grad=0.2157), Var(v=0.0490, grad=-0.3484), Var(v=-0.0166, grad=-0.4743), Var(v=0.0471, grad=0.2858), Var(v=-0.1325, grad=0.0000), Var(v=-0.0728, grad=-0.9524), Var(v=0.0189, grad=-0.3457), Var(v=0.0120, grad=0.7635), Var(v=0.0068, grad=0.0000), Var(v=-0.2151, grad=0.4661), Var(v=0.0384, grad=0.0000), Var(v=0.0059, grad=0.1436), Var(v=0.0431, grad=0.0000), Var(v=0.0678, grad=-0.0251), Var(v=0.2546, grad=0.3006), Var(v=0.1807, grad=0.0000), Var(v=0.0975, grad=-0.4471), Var(v=-0.0052, grad=0.4294), Var(v=-0.0152, grad=0.0000), Var(v=0.1379, grad=-0.0353), Var(v=0.0094, grad=0.0000), Var(v=-0.0696, grad=0.0000), Var(v=-0.0255, grad=-0.5859), Var(v=0.0373, grad=-0.9028), Var(v=0.0696, grad=-0.1136), Var(v=-0.0570, grad=-0.2751), Var(v=0.0399, grad=-0.0683), Var(v=0.1217, grad=0.3184), Var(v=-0.0094, grad=-0.2105), Var(v=0.0377, grad=0.0000), Var(v=-0.0724, grad=-0.2552), Var(v=0.0440, grad=0.0000), Var(v=0.0584, grad=-0.0413), Var(v=0.2267, grad=-0.3456), Var(v=-0.1120, grad=0.0000), Var(v=0.1721, grad=0.5619), Var(v=0.0435, grad=0.0000), Var(v=0.0625, grad=-0.5711), Var(v=0.1209, grad=-0.3252), Var(v=-0.1341, grad=0.0532), Var(v=-0.1419, grad=-0.0732), Var(v=0.0916, grad=-0.7878), Var(v=-0.0590, grad=0.0000), Var(v=0.0085, grad=0.0000), Var(v=0.1018, grad=0.6957)], [Var(v=0.1986, grad=0.7150), Var(v=-0.0384, grad=-0.4309), Var(v=-0.0187, grad=0.0482), Var(v=-0.1274, grad=0.4309), Var(v=-0.1475, grad=-0.3164), Var(v=-0.0161, grad=0.6223), Var(v=0.0197, grad=-1.0053), Var(v=-0.0051, grad=-1.3685), Var(v=-0.0962, grad=0.8245), Var(v=0.0142, grad=0.0000), Var(v=0.0347, grad=-2.7482), Var(v=-0.0657, grad=-0.9975), Var(v=0.1193, grad=2.2031), Var(v=-0.1344, grad=0.0000), Var(v=-0.0847, grad=1.3449), Var(v=-0.0850, grad=0.0000), Var(v=0.1428, grad=0.4144), Var(v=-0.1410, grad=0.0000), Var(v=0.1016, grad=-0.0725), Var(v=-0.1174, grad=0.8672), Var(v=-0.1222, grad=0.0000), Var(v=0.0786, grad=-1.2900), Var(v=0.0648, grad=1.2390), Var(v=-0.0956, grad=0.0000), Var(v=0.1854, grad=-0.1019), Var(v=-0.1080, grad=0.0000), Var(v=0.2845, grad=0.0000), Var(v=0.1841, grad=-1.6905), Var(v=0.0223, grad=-2.6050), Var(v=-0.0782, grad=-0.3277), Var(v=0.0697, grad=-0.7938), Var(v=0.2412, grad=-0.1971), Var(v=0.0658, grad=0.9189), Var(v=0.0151, grad=-0.6075), Var(v=0.0921, grad=0.0000), Var(v=0.1660, grad=-0.7364), Var(v=0.0824, grad=0.0000), Var(v=0.1028, grad=-0.1192), Var(v=0.1857, grad=-0.9973), Var(v=-0.0669, grad=0.0000), Var(v=-0.0074, grad=1.6213), Var(v=0.0484, grad=0.0000), Var(v=0.0212, grad=-1.6478), Var(v=0.0363, grad=-0.9382), Var(v=-0.2451, grad=0.1536), Var(v=-0.0620, grad=-0.2113), Var(v=-0.1310, grad=-2.2731), Var(v=0.0132, grad=0.0000), Var(v=-0.0775, grad=0.0000), Var(v=-0.0734, grad=2.0073)], [Var(v=0.0100, grad=0.2211), Var(v=-0.0852, grad=-0.1332), Var(v=0.0607, grad=0.0149), Var(v=-0.0382, grad=0.1332), Var(v=0.0721, grad=-0.0978), Var(v=0.0618, grad=0.1924), Var(v=-0.0622, grad=-0.3108), Var(v=-0.0668, grad=-0.4231), Var(v=-0.1017, grad=0.2549), Var(v=0.1232, grad=0.0000), Var(v=0.0992, grad=-0.8497), Var(v=-0.0592, grad=-0.3084), Var(v=-0.0574, grad=0.6812), Var(v=0.0089, grad=0.0000), Var(v=-0.0788, grad=0.4158), Var(v=-0.0781, grad=0.0000), Var(v=0.0607, grad=0.1281), Var(v=-0.0653, grad=0.0000), Var(v=-0.0368, grad=-0.0224), Var(v=0.0931, grad=0.2681), Var(v=0.0447, grad=0.0000), Var(v=0.0123, grad=-0.3988), Var(v=0.0439, grad=0.3831), Var(v=-0.1155, grad=0.0000), Var(v=-0.0916, grad=-0.0315), Var(v=-0.0333, grad=0.0000), Var(v=-0.0048, grad=0.0000), Var(v=0.1526, grad=-0.5227), Var(v=-0.1147, grad=-0.8054), Var(v=0.1025, grad=-0.1013), Var(v=-0.0552, grad=-0.2454), Var(v=0.0361, grad=-0.0610), Var(v=-0.2186, grad=0.2841), Var(v=-0.0370, grad=-0.1878), Var(v=-0.0617, grad=0.0000), Var(v=-0.0175, grad=-0.2277), Var(v=0.0805, grad=0.0000), Var(v=-0.1007, grad=-0.0369), Var(v=0.1889, grad=-0.3084), Var(v=-0.0650, grad=0.0000), Var(v=0.0407, grad=0.5013), Var(v=-0.0674, grad=0.0000), Var(v=-0.0648, grad=-0.5095), Var(v=0.1215, grad=-0.2901), Var(v=-0.2016, grad=0.0475), Var(v=-0.1602, grad=-0.0653), Var(v=0.0355, grad=-0.7028), Var(v=-0.1645, grad=0.0000), Var(v=-0.0059, grad=0.0000), Var(v=-0.1534, grad=0.6206)], [Var(v=-0.0202, grad=0.4558), Var(v=0.0618, grad=-0.2747), Var(v=-0.0486, grad=0.0307), Var(v=0.0085, grad=0.2747), Var(v=0.0746, grad=-0.2017), Var(v=-0.0247, grad=0.3967), Var(v=0.0748, grad=-0.6409), Var(v=-0.0159, grad=-0.8724), Var(v=0.1389, grad=0.5257), Var(v=-0.0627, grad=0.0000), Var(v=0.0795, grad=-1.7520), Var(v=0.1858, grad=-0.6359), Var(v=-0.1670, grad=1.4045), Var(v=-0.0099, grad=0.0000), Var(v=-0.0315, grad=0.8574), Var(v=0.0398, grad=0.0000), Var(v=-0.0351, grad=0.2642), Var(v=-0.0036, grad=0.0000), Var(v=-0.0777, grad=-0.0462), Var(v=-0.0929, grad=0.5529), Var(v=0.0391, grad=0.0000), Var(v=-0.0516, grad=-0.8224), Var(v=0.0623, grad=0.7899), Var(v=-0.0097, grad=0.0000), Var(v=-0.0334, grad=-0.0650), Var(v=-0.1441, grad=0.0000), Var(v=-0.0409, grad=0.0000), Var(v=0.2769, grad=-1.0777), Var(v=-0.1017, grad=-1.6607), Var(v=0.0257, grad=-0.2089), Var(v=-0.0696, grad=-0.5061), Var(v=0.0812, grad=-0.1257), Var(v=-0.0129, grad=0.5858), Var(v=-0.0471, grad=-0.3873), Var(v=0.0551, grad=0.0000), Var(v=0.0427, grad=-0.4694), Var(v=-0.0540, grad=0.0000), Var(v=0.0518, grad=-0.0760), Var(v=-0.0457, grad=-0.6358), Var(v=0.0939, grad=0.0000), Var(v=0.0442, grad=1.0336), Var(v=0.0321, grad=0.0000), Var(v=-0.0790, grad=-1.0505), Var(v=-0.0332, grad=-0.5981), Var(v=0.0919, grad=0.0979), Var(v=0.0292, grad=-0.1347), Var(v=0.0059, grad=-1.4491), Var(v=0.0467, grad=0.0000), Var(v=0.0148, grad=0.0000), Var(v=0.0638, grad=1.2797)], [Var(v=-0.1710, grad=0.0000), Var(v=0.1242, grad=0.1221), Var(v=0.0939, grad=-0.0136), Var(v=0.0347, grad=-0.1221), Var(v=0.0229, grad=0.0897), Var(v=-0.1877, grad=0.0000), Var(v=-0.0255, grad=0.0000), Var(v=-0.0546, grad=0.0000), Var(v=0.0165, grad=0.0000), Var(v=0.1166, grad=-0.4534), Var(v=0.1514, grad=0.7787), Var(v=0.0244, grad=0.2826), Var(v=-0.1667, grad=0.0000), Var(v=0.0271, grad=0.3972), Var(v=-0.0604, grad=0.0000), Var(v=0.0067, grad=-0.5122), Var(v=0.0905, grad=-0.1174), Var(v=-0.0937, grad=0.0000), Var(v=-0.1735, grad=0.0205), Var(v=-0.0428, grad=0.0000), Var(v=-0.1006, grad=-0.0643), Var(v=-0.1755, grad=0.0000), Var(v=-0.1391, grad=-0.3511), Var(v=0.0006, grad=-0.1135), Var(v=0.0104, grad=0.0000), Var(v=0.0180, grad=0.5514), Var(v=-0.0036, grad=-0.1991), Var(v=-0.0861, grad=0.4790), Var(v=-0.0590, grad=0.7381), Var(v=0.0163, grad=0.0929), Var(v=0.0235, grad=0.0000), Var(v=0.1102, grad=0.0559), Var(v=-0.0297, grad=-0.2604), Var(v=-0.1413, grad=0.0000), Var(v=0.1382, grad=-0.1339), Var(v=-0.0826, grad=0.2087), Var(v=-0.1758, grad=0.3749), Var(v=-0.0316, grad=0.0338), Var(v=-0.0831, grad=0.2826), Var(v=0.0706, grad=-0.0064), Var(v=0.2037, grad=-0.4594), Var(v=0.0109, grad=-0.1038), Var(v=-0.0127, grad=0.4669), Var(v=-0.0106, grad=0.2658), Var(v=-0.0692, grad=0.0000), Var(v=-0.1472, grad=0.0000), Var(v=-0.0817, grad=0.0000), Var(v=-0.1061, grad=0.0000), Var(v=0.1004, grad=0.2824), Var(v=0.0659, grad=0.0000)], [Var(v=0.0083, grad=0.3169), Var(v=0.0546, grad=-0.1910), Var(v=-0.0821, grad=0.0213), Var(v=0.1339, grad=0.1909), Var(v=-0.1065, grad=-0.1402), Var(v=-0.0162, grad=0.2758), Var(v=0.0122, grad=-0.4455), Var(v=0.0283, grad=-0.6064), Var(v=0.1296, grad=0.3654), Var(v=-0.1079, grad=0.0000), Var(v=0.1345, grad=-1.2178), Var(v=-0.0506, grad=-0.4420), Var(v=0.1240, grad=0.9763), Var(v=0.0935, grad=0.0000), Var(v=0.0692, grad=0.5960), Var(v=0.1876, grad=0.0000), Var(v=0.1654, grad=0.1836), Var(v=0.0611, grad=0.0000), Var(v=0.0429, grad=-0.0321), Var(v=-0.0675, grad=0.3843), Var(v=-0.0817, grad=0.0000), Var(v=0.0290, grad=-0.5716), Var(v=0.2713, grad=0.5490), Var(v=-0.1860, grad=0.0000), Var(v=0.0749, grad=-0.0452), Var(v=-0.0454, grad=0.0000), Var(v=-0.0635, grad=0.0000), Var(v=0.0933, grad=-0.7491), Var(v=0.0281, grad=-1.1543), Var(v=-0.0290, grad=-0.1452), Var(v=0.1326, grad=-0.3518), Var(v=-0.0366, grad=-0.0874), Var(v=0.0259, grad=0.4072), Var(v=0.0016, grad=-0.2692), Var(v=-0.0305, grad=0.0000), Var(v=-0.1843, grad=-0.3263), Var(v=0.0335, grad=0.0000), Var(v=0.0813, grad=-0.0528), Var(v=-0.1124, grad=-0.4419), Var(v=-0.1544, grad=0.0000), Var(v=-0.0081, grad=0.7185), Var(v=-0.0925, grad=0.0000), Var(v=0.1589, grad=-0.7302), Var(v=-0.0317, grad=-0.4158), Var(v=0.1491, grad=0.0681), Var(v=0.0527, grad=-0.0936), Var(v=0.0784, grad=-1.0073), Var(v=0.0524, grad=0.0000), Var(v=-0.1007, grad=0.0000), Var(v=0.1004, grad=0.8895)], [Var(v=0.1396, grad=0.4805), Var(v=-0.0239, grad=-0.2896), Var(v=0.0468, grad=0.0324), Var(v=0.0694, grad=0.2896), Var(v=0.0954, grad=-0.2126), Var(v=0.2289, grad=0.4182), Var(v=-0.2365, grad=-0.6755), Var(v=0.0210, grad=-0.9196), Var(v=0.1509, grad=0.5541), Var(v=-0.0815, grad=0.0000), Var(v=-0.0362, grad=-1.8467), Var(v=0.1262, grad=-0.6703), Var(v=-0.0390, grad=1.4804), Var(v=0.2004, grad=0.0000), Var(v=0.1642, grad=0.9037), Var(v=-0.0518, grad=0.0000), Var(v=0.1121, grad=0.2784), Var(v=-0.0259, grad=0.0000), Var(v=-0.0122, grad=-0.0487), Var(v=-0.0245, grad=0.5828), Var(v=0.1134, grad=0.0000), Var(v=-0.0388, grad=-0.8668), Var(v=0.1265, grad=0.8326), Var(v=-0.0801, grad=0.0000), Var(v=-0.0131, grad=-0.0685), Var(v=0.0290, grad=0.0000), Var(v=-0.0496, grad=0.0000), Var(v=-0.0348, grad=-1.1360), Var(v=0.0461, grad=-1.7504), Var(v=0.0301, grad=-0.2202), Var(v=0.1226, grad=-0.5334), Var(v=0.0078, grad=-0.1325), Var(v=-0.1306, grad=0.6174), Var(v=0.1989, grad=-0.4082), Var(v=0.0499, grad=0.0000), Var(v=-0.0522, grad=-0.4948), Var(v=-0.0443, grad=0.0000), Var(v=-0.0940, grad=-0.0801), Var(v=-0.0874, grad=-0.6702), Var(v=0.0495, grad=0.0000), Var(v=-0.0778, grad=1.0895), Var(v=-0.0948, grad=0.0000), Var(v=0.1331, grad=-1.1073), Var(v=-0.0851, grad=-0.6304), Var(v=0.0429, grad=0.1032), Var(v=-0.0931, grad=-0.1420), Var(v=0.0748, grad=-1.5275), Var(v=-0.0423, grad=0.0000), Var(v=-0.0293, grad=0.0000), Var(v=0.0695, grad=1.3488)]] Biases: [Var(v=0.0000, grad=4.5292), Var(v=0.0000, grad=0.0409), Var(v=0.0000, grad=-0.0046), Var(v=0.0000, grad=-0.0409), Var(v=0.0000, grad=0.0300), Var(v=0.0000, grad=3.9420), Var(v=0.0000, grad=-6.3680), Var(v=0.0000, grad=-8.6684), Var(v=0.0000, grad=5.2228), Var(v=0.0000, grad=-10.2868), Var(v=0.0000, grad=0.2610), Var(v=0.0000, grad=0.0947), Var(v=0.0000, grad=13.9548), Var(v=0.0000, grad=9.0131), Var(v=0.0000, grad=8.5188), Var(v=0.0000, grad=-11.6217), Var(v=0.0000, grad=-0.0394), Var(v=0.0000, grad=0.0000), Var(v=0.0000, grad=0.0069), Var(v=0.0000, grad=5.4933), Var(v=0.0000, grad=-1.4598), Var(v=0.0000, grad=-8.1709), Var(v=0.0000, grad=-0.1177), Var(v=0.0000, grad=-2.5756), Var(v=0.0000, grad=-0.6456), Var(v=0.0000, grad=12.5116), Var(v=0.0000, grad=-4.5175), Var(v=0.0000, grad=0.1606), Var(v=0.0000, grad=0.2474), Var(v=0.0000, grad=0.0311), Var(v=0.0000, grad=-5.0284), Var(v=0.0000, grad=0.0187), Var(v=0.0000, grad=-0.0873), Var(v=0.0000, grad=-3.8478), Var(v=0.0000, grad=-3.0383), Var(v=0.0000, grad=0.0699), Var(v=0.0000, grad=8.5063), Var(v=0.0000, grad=0.0113), Var(v=0.0000, grad=0.0947), Var(v=0.0000, grad=-0.1453), Var(v=0.0000, grad=-0.1540), Var(v=0.0000, grad=-2.3552), Var(v=0.0000, grad=0.1565), Var(v=0.0000, grad=0.0891), Var(v=0.0000, grad=0.9732), Var(v=0.0000, grad=-1.3386), Var(v=0.0000, grad=-14.3985), Var(v=0.0000, grad=0.0000), Var(v=0.0000, grad=6.4070), Var(v=0.0000, grad=12.7148)]\n",
            "Layer 2 \n",
            " Weights: [[Var(v=-0.0526, grad=-4.1759)], [Var(v=0.0317, grad=1.5259)], [Var(v=-0.0035, grad=-0.7850)], [Var(v=-0.0317, grad=-2.8310)], [Var(v=0.0233, grad=0.3430)], [Var(v=-0.0458, grad=-0.5740)], [Var(v=0.0740, grad=-2.1784)], [Var(v=0.1007, grad=-0.8399)], [Var(v=-0.0607, grad=-4.2770)], [Var(v=-0.1177, grad=2.2303)], [Var(v=0.2022, grad=0.8208)], [Var(v=0.0734, grad=-2.3784)], [Var(v=-0.1621, grad=-3.5639)], [Var(v=0.1031, grad=1.3665)], [Var(v=-0.0990, grad=-0.3764)], [Var(v=-0.1330, grad=3.1808)], [Var(v=-0.0305, grad=-5.8450)], [Var(v=-0.2179, grad=0.0000)], [Var(v=0.0053, grad=0.2454)], [Var(v=-0.0638, grad=-1.2148)], [Var(v=-0.0167, grad=1.3846)], [Var(v=0.0949, grad=-0.1212)], [Var(v=-0.0912, grad=-2.0405)], [Var(v=-0.0295, grad=0.6321)], [Var(v=0.0075, grad=-4.8639)], [Var(v=0.1432, grad=0.0656)], [Var(v=-0.0517, grad=0.9128)], [Var(v=0.1244, grad=-3.9749)], [Var(v=0.1917, grad=-2.2402)], [Var(v=0.0241, grad=0.4672)], [Var(v=0.0584, grad=-3.2571)], [Var(v=0.0145, grad=-5.4314)], [Var(v=-0.0676, grad=-1.1591)], [Var(v=0.0447, grad=-2.8338)], [Var(v=-0.0348, grad=1.7949)], [Var(v=0.0542, grad=-2.8913)], [Var(v=0.0973, grad=0.3580)], [Var(v=0.0088, grad=-1.0308)], [Var(v=0.0734, grad=-4.3449)], [Var(v=-0.0017, grad=1.5448)], [Var(v=-0.1193, grad=-1.8293)], [Var(v=-0.0270, grad=1.7786)], [Var(v=0.1212, grad=-1.4814)], [Var(v=0.0690, grad=-0.4524)], [Var(v=-0.0113, grad=-1.9076)], [Var(v=0.0155, grad=-2.5086)], [Var(v=0.1673, grad=-2.9518)], [Var(v=0.2607, grad=0.0000)], [Var(v=0.0733, grad=0.0736)], [Var(v=-0.1477, grad=-2.3292)]] Biases: [Var(v=0.0000, grad=1.2908)]\n",
            "\n",
            "Network after update:\n",
            "Layer 0 \n",
            " Weights: [[Var(v=0.1849, grad=-1.0866), Var(v=0.0591, grad=-0.3274), Var(v=0.0492, grad=-2.1489), Var(v=-0.0301, grad=8.7536), Var(v=-0.1371, grad=-1.7780), Var(v=0.1862, grad=-3.8999), Var(v=-0.0458, grad=3.0875), Var(v=0.0007, grad=-1.2414), Var(v=0.0644, grad=-1.7418), Var(v=0.1794, grad=-4.3754), Var(v=0.1008, grad=-5.8857), Var(v=0.1282, grad=-4.1727), Var(v=-0.0721, grad=3.2069), Var(v=0.0460, grad=1.4157), Var(v=0.0626, grad=2.8522)]] Biases: [Var(v=0.0093, grad=-0.9336), Var(v=0.0028, grad=-0.2813), Var(v=0.0185, grad=-1.8464), Var(v=-0.0752, grad=7.5213), Var(v=-0.0162, grad=1.6161), Var(v=0.0335, grad=-3.3509), Var(v=0.0281, grad=-2.8064), Var(v=-0.0113, grad=1.1284), Var(v=0.0150, grad=-1.4966), Var(v=0.0376, grad=-3.7594), Var(v=0.0506, grad=-5.0572), Var(v=0.0359, grad=-3.5853), Var(v=0.0292, grad=-2.9150), Var(v=-0.0122, grad=1.2164), Var(v=-0.0245, grad=2.4506)]\n",
            "Layer 1 \n",
            " Weights: [[Var(v=-0.0668, grad=0.9176), Var(v=-0.0596, grad=-0.5530), Var(v=0.1778, grad=0.0618), Var(v=0.1168, grad=0.5530), Var(v=0.1917, grad=-0.4060), Var(v=0.0266, grad=0.7986), Var(v=0.2086, grad=-1.2901), Var(v=0.0469, grad=-1.7561), Var(v=0.0852, grad=1.0581), Var(v=0.0239, grad=0.0000), Var(v=0.0211, grad=-3.5265), Var(v=0.0751, grad=-1.2800), Var(v=-0.0103, grad=2.8271), Var(v=-0.0151, grad=0.0000), Var(v=0.0457, grad=1.7258), Var(v=0.0108, grad=0.0000), Var(v=-0.0108, grad=0.5317), Var(v=-0.0384, grad=0.0000), Var(v=-0.0952, grad=-0.0930), Var(v=0.0491, grad=1.1129), Var(v=-0.0817, grad=0.0000), Var(v=-0.0285, grad=-1.6553), Var(v=0.0229, grad=1.5899), Var(v=-0.0534, grad=0.0000), Var(v=0.1197, grad=-0.1308), Var(v=0.0015, grad=0.0000), Var(v=-0.0026, grad=0.0000), Var(v=0.0286, grad=-2.1693), Var(v=0.1184, grad=-3.3428), Var(v=0.0194, grad=-0.4205), Var(v=0.0917, grad=-1.0187), Var(v=0.1479, grad=-0.2530), Var(v=0.1655, grad=1.1791), Var(v=0.0030, grad=-0.7795), Var(v=-0.1608, grad=0.0000), Var(v=0.2163, grad=-0.9449), Var(v=-0.1274, grad=0.0000), Var(v=0.0259, grad=-0.1530), Var(v=0.0452, grad=-1.2798), Var(v=-0.0382, grad=0.0000), Var(v=0.0155, grad=2.0805), Var(v=0.0138, grad=0.0000), Var(v=0.0364, grad=-2.1145), Var(v=-0.0924, grad=-1.2040), Var(v=0.1250, grad=0.1972), Var(v=0.1488, grad=-0.2712), Var(v=0.1314, grad=-2.9170), Var(v=0.0092, grad=0.0000), Var(v=-0.0868, grad=0.0000), Var(v=0.0805, grad=2.5759)], [Var(v=0.0968, grad=0.2945), Var(v=-0.1879, grad=-0.1775), Var(v=-0.2079, grad=0.0198), Var(v=0.0854, grad=0.1775), Var(v=-0.1842, grad=-0.1303), Var(v=-0.1406, grad=0.2563), Var(v=0.1285, grad=-0.4140), Var(v=0.1286, grad=-0.5636), Var(v=-0.0765, grad=0.3396), Var(v=-0.0664, grad=0.0000), Var(v=0.0309, grad=-1.1318), Var(v=0.0972, grad=-0.4108), Var(v=0.1452, grad=0.9073), Var(v=-0.0240, grad=0.0000), Var(v=-0.0471, grad=0.5539), Var(v=-0.0237, grad=0.0000), Var(v=-0.0317, grad=0.1707), Var(v=-0.0161, grad=0.0000), Var(v=0.0800, grad=-0.0298), Var(v=0.0980, grad=0.3572), Var(v=0.0493, grad=0.0000), Var(v=-0.1774, grad=-0.5313), Var(v=0.0474, grad=0.5103), Var(v=0.1364, grad=0.0000), Var(v=0.1630, grad=-0.0420), Var(v=0.3640, grad=0.0000), Var(v=0.0064, grad=0.0000), Var(v=-0.0005, grad=-0.6962), Var(v=0.1529, grad=-1.0729), Var(v=-0.0483, grad=-0.1350), Var(v=-0.1173, grad=-0.3269), Var(v=-0.0670, grad=-0.0812), Var(v=-0.0527, grad=0.3784), Var(v=0.0666, grad=-0.2502), Var(v=0.1832, grad=0.0000), Var(v=-0.0685, grad=-0.3033), Var(v=0.0633, grad=0.0000), Var(v=0.0909, grad=-0.0491), Var(v=-0.0013, grad=-0.4107), Var(v=0.0059, grad=0.0000), Var(v=0.0969, grad=0.6677), Var(v=-0.0158, grad=0.0000), Var(v=0.0686, grad=-0.6787), Var(v=-0.0825, grad=-0.3864), Var(v=0.0367, grad=0.0633), Var(v=0.1828, grad=-0.0870), Var(v=0.0484, grad=-0.9362), Var(v=0.0419, grad=0.0000), Var(v=-0.0908, grad=0.0000), Var(v=-0.0542, grad=0.8267)], [Var(v=-0.0723, grad=0.1458), Var(v=0.0446, grad=-0.0879), Var(v=-0.0446, grad=0.0098), Var(v=0.1451, grad=0.0879), Var(v=-0.0750, grad=-0.0645), Var(v=-0.2192, grad=0.1269), Var(v=0.1143, grad=-0.2050), Var(v=-0.0132, grad=-0.2791), Var(v=-0.1805, grad=0.1681), Var(v=0.0495, grad=0.0000), Var(v=-0.1000, grad=-0.5604), Var(v=0.0921, grad=-0.2034), Var(v=0.0129, grad=0.4493), Var(v=-0.0234, grad=0.0000), Var(v=-0.0650, grad=0.2743), Var(v=0.1040, grad=0.0000), Var(v=0.1677, grad=0.0845), Var(v=0.0310, grad=0.0000), Var(v=0.0418, grad=-0.0148), Var(v=0.0086, grad=0.1769), Var(v=-0.1169, grad=0.0000), Var(v=0.1127, grad=-0.2631), Var(v=-0.1235, grad=0.2527), Var(v=0.1133, grad=0.0000), Var(v=-0.0552, grad=-0.0208), Var(v=0.1054, grad=0.0000), Var(v=-0.0352, grad=0.0000), Var(v=0.0325, grad=-0.3448), Var(v=0.0046, grad=-0.5312), Var(v=0.1007, grad=-0.0668), Var(v=-0.0634, grad=-0.1619), Var(v=-0.0154, grad=-0.0402), Var(v=0.0746, grad=0.1874), Var(v=0.1615, grad=-0.1239), Var(v=0.0451, grad=0.0000), Var(v=0.1879, grad=-0.1502), Var(v=0.0315, grad=0.0000), Var(v=-0.0928, grad=-0.0243), Var(v=0.1186, grad=-0.2034), Var(v=0.0075, grad=0.0000), Var(v=0.0900, grad=0.3306), Var(v=-0.0727, grad=0.0000), Var(v=0.0427, grad=-0.3360), Var(v=-0.0251, grad=-0.1913), Var(v=-0.0205, grad=0.0313), Var(v=0.0261, grad=-0.0431), Var(v=-0.0866, grad=-0.4636), Var(v=0.0060, grad=0.0000), Var(v=0.0893, grad=0.0000), Var(v=0.0491, grad=0.4094)], [Var(v=-0.1746, grad=0.3028), Var(v=0.1728, grad=-0.1825), Var(v=0.0131, grad=0.0204), Var(v=-0.0563, grad=0.1825), Var(v=-0.1005, grad=-0.1340), Var(v=0.0592, grad=0.2635), Var(v=-0.0826, grad=-0.4257), Var(v=-0.0508, grad=-0.5795), Var(v=0.2676, grad=0.3492), Var(v=0.0834, grad=0.0000), Var(v=-0.0217, grad=-1.1637), Var(v=-0.0669, grad=-0.4224), Var(v=-0.0622, grad=0.9329), Var(v=-0.1814, grad=0.0000), Var(v=0.1123, grad=0.5695), Var(v=-0.1859, grad=0.0000), Var(v=0.0179, grad=0.1755), Var(v=-0.0338, grad=0.0000), Var(v=0.0730, grad=-0.0307), Var(v=0.0441, grad=0.3672), Var(v=0.1944, grad=0.0000), Var(v=0.0120, grad=-0.5462), Var(v=-0.0045, grad=0.5247), Var(v=0.0805, grad=0.0000), Var(v=0.0569, grad=-0.0432), Var(v=0.2472, grad=0.0000), Var(v=-0.0838, grad=0.0000), Var(v=0.0855, grad=-0.7159), Var(v=-0.2522, grad=-1.1031), Var(v=0.0747, grad=-0.1388), Var(v=0.0675, grad=-0.3362), Var(v=0.0635, grad=-0.0835), Var(v=0.1339, grad=0.3891), Var(v=-0.0314, grad=-0.2572), Var(v=0.2209, grad=0.0000), Var(v=-0.0100, grad=-0.3118), Var(v=-0.0024, grad=0.0000), Var(v=-0.1260, grad=-0.0505), Var(v=0.1577, grad=-0.4223), Var(v=-0.0104, grad=0.0000), Var(v=0.0404, grad=0.6866), Var(v=-0.0009, grad=0.0000), Var(v=-0.0031, grad=-0.6978), Var(v=-0.0791, grad=-0.3973), Var(v=-0.0707, grad=0.0651), Var(v=-0.0601, grad=-0.0895), Var(v=0.0037, grad=-0.9626), Var(v=-0.2273, grad=0.0000), Var(v=-0.0308, grad=0.0000), Var(v=0.0116, grad=0.8500)], [Var(v=-0.0085, grad=0.0000), Var(v=0.1033, grad=0.4719), Var(v=0.0108, grad=-0.0527), Var(v=-0.0111, grad=-0.4719), Var(v=0.0403, grad=0.3465), Var(v=-0.0696, grad=0.0000), Var(v=-0.1858, grad=0.0000), Var(v=-0.0358, grad=0.0000), Var(v=-0.0196, grad=0.0000), Var(v=0.1295, grad=-1.7523), Var(v=0.0304, grad=3.0097), Var(v=0.0154, grad=1.0924), Var(v=-0.0542, grad=0.0000), Var(v=0.0704, grad=1.5353), Var(v=-0.2694, grad=0.0000), Var(v=0.2128, grad=-1.9797), Var(v=0.0052, grad=-0.4538), Var(v=-0.0575, grad=0.0000), Var(v=0.1078, grad=0.0794), Var(v=0.0015, grad=0.0000), Var(v=0.1160, grad=-0.2487), Var(v=-0.1177, grad=0.0000), Var(v=0.2593, grad=-1.3569), Var(v=0.0426, grad=-0.4387), Var(v=-0.1199, grad=0.0000), Var(v=-0.0220, grad=2.1313), Var(v=0.0818, grad=-0.7695), Var(v=0.0116, grad=1.8514), Var(v=0.0938, grad=2.8529), Var(v=0.1796, grad=0.3589), Var(v=-0.1075, grad=0.0000), Var(v=0.0698, grad=0.2159), Var(v=0.1583, grad=-1.0063), Var(v=-0.0861, grad=0.0000), Var(v=0.0746, grad=-0.5176), Var(v=0.2362, grad=0.8065), Var(v=0.0748, grad=1.4490), Var(v=0.0089, grad=0.1306), Var(v=0.1049, grad=1.0922), Var(v=0.0944, grad=-0.0247), Var(v=-0.0029, grad=-1.7756), Var(v=0.1077, grad=-0.4012), Var(v=0.0269, grad=1.8046), Var(v=0.0240, grad=1.0275), Var(v=0.0009, grad=0.0000), Var(v=-0.0987, grad=0.0000), Var(v=-0.0672, grad=0.0000), Var(v=-0.0529, grad=0.0000), Var(v=-0.0088, grad=1.0914), Var(v=-0.0823, grad=0.0000)], [Var(v=0.1248, grad=0.7761), Var(v=0.0831, grad=-0.4677), Var(v=0.0548, grad=0.0523), Var(v=0.0612, grad=0.4677), Var(v=-0.0068, grad=-0.3434), Var(v=-0.0136, grad=0.6754), Var(v=-0.0257, grad=-1.0911), Var(v=0.0293, grad=-1.4853), Var(v=-0.0020, grad=0.8949), Var(v=0.0073, grad=0.0000), Var(v=0.0127, grad=-2.9827), Var(v=-0.0052, grad=-1.0826), Var(v=0.1295, grad=2.3911), Var(v=-0.0622, grad=0.0000), Var(v=-0.0243, grad=1.4597), Var(v=-0.1785, grad=0.0000), Var(v=0.1526, grad=0.4497), Var(v=-0.0776, grad=0.0000), Var(v=0.0310, grad=-0.0787), Var(v=0.0402, grad=0.9413), Var(v=-0.0311, grad=0.0000), Var(v=0.0570, grad=-1.4001), Var(v=-0.0090, grad=1.3447), Var(v=0.1408, grad=0.0000), Var(v=-0.0740, grad=-0.1106), Var(v=-0.1150, grad=0.0000), Var(v=-0.1475, grad=0.0000), Var(v=-0.1340, grad=-1.8348), Var(v=0.2677, grad=-2.8273), Var(v=0.1146, grad=-0.3557), Var(v=0.0466, grad=-0.8616), Var(v=0.0129, grad=-0.2140), Var(v=-0.0243, grad=0.9973), Var(v=0.0667, grad=-0.6593), Var(v=-0.1240, grad=0.0000), Var(v=0.1363, grad=-0.7992), Var(v=-0.1411, grad=0.0000), Var(v=-0.0120, grad=-0.1294), Var(v=0.1249, grad=-1.0824), Var(v=0.1095, grad=0.0000), Var(v=-0.0191, grad=1.7597), Var(v=-0.0227, grad=0.0000), Var(v=0.0026, grad=-1.7884), Var(v=0.2428, grad=-1.0183), Var(v=0.1792, grad=0.1668), Var(v=0.1167, grad=-0.2294), Var(v=0.1080, grad=-2.4671), Var(v=0.0271, grad=0.0000), Var(v=-0.0823, grad=0.0000), Var(v=-0.0327, grad=2.1786)], [Var(v=0.1154, grad=0.0000), Var(v=-0.0455, grad=0.0454), Var(v=0.0370, grad=-0.0051), Var(v=0.0400, grad=-0.0454), Var(v=-0.0489, grad=0.0333), Var(v=0.0253, grad=0.0000), Var(v=-0.1372, grad=0.0000), Var(v=-0.1684, grad=0.0000), Var(v=-0.0073, grad=0.0000), Var(v=-0.0121, grad=-0.1686), Var(v=0.0507, grad=0.2896), Var(v=-0.0532, grad=0.1051), Var(v=0.0755, grad=0.0000), Var(v=-0.0540, grad=0.1477), Var(v=0.1676, grad=0.0000), Var(v=0.2139, grad=-0.1905), Var(v=0.1880, grad=-0.0437), Var(v=-0.0864, grad=0.0000), Var(v=0.0445, grad=0.0076), Var(v=-0.0015, grad=0.0000), Var(v=-0.0049, grad=-0.0239), Var(v=0.0538, grad=0.0000), Var(v=-0.0653, grad=-0.1306), Var(v=0.0086, grad=-0.0422), Var(v=-0.0304, grad=0.0000), Var(v=0.0494, grad=0.2051), Var(v=-0.0926, grad=-0.0740), Var(v=-0.0322, grad=0.1781), Var(v=0.0873, grad=0.2745), Var(v=0.0194, grad=0.0345), Var(v=-0.1343, grad=0.0000), Var(v=-0.1790, grad=0.0208), Var(v=-0.0023, grad=-0.0968), Var(v=-0.0136, grad=0.0000), Var(v=0.0927, grad=-0.0498), Var(v=0.0413, grad=0.0776), Var(v=-0.1385, grad=0.1394), Var(v=0.0556, grad=0.0126), Var(v=0.0993, grad=0.1051), Var(v=0.0033, grad=-0.0024), Var(v=0.1276, grad=-0.1709), Var(v=0.1147, grad=-0.0386), Var(v=0.1426, grad=0.1736), Var(v=-0.0615, grad=0.0989), Var(v=-0.0825, grad=0.0000), Var(v=0.0462, grad=0.0000), Var(v=-0.0310, grad=0.0000), Var(v=0.1199, grad=0.0000), Var(v=-0.2218, grad=0.1050), Var(v=0.1683, grad=0.0000)], [Var(v=-0.0741, grad=0.0000), Var(v=0.0528, grad=0.0356), Var(v=0.1974, grad=-0.0040), Var(v=0.0557, grad=-0.0356), Var(v=-0.0389, grad=0.0261), Var(v=0.0346, grad=0.0000), Var(v=0.1715, grad=0.0000), Var(v=-0.0299, grad=0.0000), Var(v=0.1900, grad=0.0000), Var(v=0.1211, grad=-0.1321), Var(v=0.0869, grad=0.2269), Var(v=-0.1556, grad=0.0823), Var(v=0.0030, grad=0.0000), Var(v=0.0534, grad=0.1157), Var(v=-0.1436, grad=0.0000), Var(v=-0.0175, grad=-0.1492), Var(v=0.0905, grad=-0.0342), Var(v=-0.0764, grad=0.0000), Var(v=0.0009, grad=0.0060), Var(v=-0.0090, grad=0.0000), Var(v=0.0800, grad=-0.0187), Var(v=0.0441, grad=0.0000), Var(v=0.0095, grad=-0.1023), Var(v=0.0445, grad=-0.0331), Var(v=0.0444, grad=0.0000), Var(v=-0.0613, grad=0.1607), Var(v=-0.0371, grad=-0.0580), Var(v=-0.0183, grad=0.1396), Var(v=0.0304, grad=0.2151), Var(v=-0.0071, grad=0.0271), Var(v=-0.0448, grad=0.0000), Var(v=0.1177, grad=0.0163), Var(v=-0.2074, grad=-0.0759), Var(v=-0.0235, grad=0.0000), Var(v=0.0877, grad=-0.0390), Var(v=-0.0923, grad=0.0608), Var(v=-0.0874, grad=0.1092), Var(v=-0.0547, grad=0.0098), Var(v=0.0400, grad=0.0823), Var(v=-0.1180, grad=-0.0019), Var(v=-0.2292, grad=-0.1339), Var(v=0.0271, grad=-0.0302), Var(v=-0.0655, grad=0.1360), Var(v=0.0486, grad=0.0775), Var(v=-0.1079, grad=0.0000), Var(v=-0.0910, grad=0.0000), Var(v=0.1200, grad=0.0000), Var(v=0.0455, grad=0.0000), Var(v=-0.0259, grad=0.0823), Var(v=-0.0327, grad=0.0000)], [Var(v=-0.0110, grad=0.2478), Var(v=0.1555, grad=-0.1493), Var(v=-0.1398, grad=0.0167), Var(v=-0.0991, grad=0.1493), Var(v=-0.0367, grad=-0.1097), Var(v=-0.1565, grad=0.2157), Var(v=0.0525, grad=-0.3484), Var(v=-0.0118, grad=-0.4743), Var(v=0.0443, grad=0.2858), Var(v=-0.1325, grad=0.0000), Var(v=-0.0632, grad=-0.9524), Var(v=0.0224, grad=-0.3457), Var(v=0.0044, grad=0.7635), Var(v=0.0068, grad=0.0000), Var(v=-0.2197, grad=0.4661), Var(v=0.0384, grad=0.0000), Var(v=0.0045, grad=0.1436), Var(v=0.0431, grad=0.0000), Var(v=0.0681, grad=-0.0251), Var(v=0.2516, grad=0.3006), Var(v=0.1807, grad=0.0000), Var(v=0.1019, grad=-0.4471), Var(v=-0.0095, grad=0.4294), Var(v=-0.0152, grad=0.0000), Var(v=0.1382, grad=-0.0353), Var(v=0.0094, grad=0.0000), Var(v=-0.0696, grad=0.0000), Var(v=-0.0196, grad=-0.5859), Var(v=0.0463, grad=-0.9028), Var(v=0.0707, grad=-0.1136), Var(v=-0.0543, grad=-0.2751), Var(v=0.0405, grad=-0.0683), Var(v=0.1185, grad=0.3184), Var(v=-0.0073, grad=-0.2105), Var(v=0.0377, grad=0.0000), Var(v=-0.0699, grad=-0.2552), Var(v=0.0440, grad=0.0000), Var(v=0.0588, grad=-0.0413), Var(v=0.2302, grad=-0.3456), Var(v=-0.1120, grad=0.0000), Var(v=0.1665, grad=0.5619), Var(v=0.0435, grad=0.0000), Var(v=0.0683, grad=-0.5711), Var(v=0.1241, grad=-0.3252), Var(v=-0.1347, grad=0.0532), Var(v=-0.1412, grad=-0.0732), Var(v=0.0995, grad=-0.7878), Var(v=-0.0590, grad=0.0000), Var(v=0.0085, grad=0.0000), Var(v=0.0949, grad=0.6957)], [Var(v=0.1915, grad=0.7150), Var(v=-0.0341, grad=-0.4309), Var(v=-0.0192, grad=0.0482), Var(v=-0.1317, grad=0.4309), Var(v=-0.1444, grad=-0.3164), Var(v=-0.0223, grad=0.6223), Var(v=0.0297, grad=-1.0053), Var(v=0.0086, grad=-1.3685), Var(v=-0.1044, grad=0.8245), Var(v=0.0142, grad=0.0000), Var(v=0.0622, grad=-2.7482), Var(v=-0.0557, grad=-0.9975), Var(v=0.0972, grad=2.2031), Var(v=-0.1344, grad=0.0000), Var(v=-0.0981, grad=1.3449), Var(v=-0.0850, grad=0.0000), Var(v=0.1387, grad=0.4144), Var(v=-0.1410, grad=0.0000), Var(v=0.1023, grad=-0.0725), Var(v=-0.1261, grad=0.8672), Var(v=-0.1222, grad=0.0000), Var(v=0.0915, grad=-1.2900), Var(v=0.0525, grad=1.2390), Var(v=-0.0956, grad=0.0000), Var(v=0.1864, grad=-0.1019), Var(v=-0.1080, grad=0.0000), Var(v=0.2845, grad=0.0000), Var(v=0.2010, grad=-1.6905), Var(v=0.0484, grad=-2.6050), Var(v=-0.0749, grad=-0.3277), Var(v=0.0776, grad=-0.7938), Var(v=0.2431, grad=-0.1971), Var(v=0.0566, grad=0.9189), Var(v=0.0212, grad=-0.6075), Var(v=0.0921, grad=0.0000), Var(v=0.1733, grad=-0.7364), Var(v=0.0824, grad=0.0000), Var(v=0.1040, grad=-0.1192), Var(v=0.1956, grad=-0.9973), Var(v=-0.0669, grad=0.0000), Var(v=-0.0236, grad=1.6213), Var(v=0.0484, grad=0.0000), Var(v=0.0377, grad=-1.6478), Var(v=0.0457, grad=-0.9382), Var(v=-0.2466, grad=0.1536), Var(v=-0.0599, grad=-0.2113), Var(v=-0.1083, grad=-2.2731), Var(v=0.0132, grad=0.0000), Var(v=-0.0775, grad=0.0000), Var(v=-0.0934, grad=2.0073)], [Var(v=0.0078, grad=0.2211), Var(v=-0.0838, grad=-0.1332), Var(v=0.0606, grad=0.0149), Var(v=-0.0395, grad=0.1332), Var(v=0.0731, grad=-0.0978), Var(v=0.0598, grad=0.1924), Var(v=-0.0591, grad=-0.3108), Var(v=-0.0626, grad=-0.4231), Var(v=-0.1042, grad=0.2549), Var(v=0.1232, grad=0.0000), Var(v=0.1077, grad=-0.8497), Var(v=-0.0561, grad=-0.3084), Var(v=-0.0642, grad=0.6812), Var(v=0.0089, grad=0.0000), Var(v=-0.0829, grad=0.4158), Var(v=-0.0781, grad=0.0000), Var(v=0.0594, grad=0.1281), Var(v=-0.0653, grad=0.0000), Var(v=-0.0366, grad=-0.0224), Var(v=0.0904, grad=0.2681), Var(v=0.0447, grad=0.0000), Var(v=0.0163, grad=-0.3988), Var(v=0.0401, grad=0.3831), Var(v=-0.1155, grad=0.0000), Var(v=-0.0913, grad=-0.0315), Var(v=-0.0333, grad=0.0000), Var(v=-0.0048, grad=0.0000), Var(v=0.1579, grad=-0.5227), Var(v=-0.1066, grad=-0.8054), Var(v=0.1035, grad=-0.1013), Var(v=-0.0528, grad=-0.2454), Var(v=0.0368, grad=-0.0610), Var(v=-0.2214, grad=0.2841), Var(v=-0.0351, grad=-0.1878), Var(v=-0.0617, grad=0.0000), Var(v=-0.0152, grad=-0.2277), Var(v=0.0805, grad=0.0000), Var(v=-0.1003, grad=-0.0369), Var(v=0.1920, grad=-0.3084), Var(v=-0.0650, grad=0.0000), Var(v=0.0356, grad=0.5013), Var(v=-0.0674, grad=0.0000), Var(v=-0.0597, grad=-0.5095), Var(v=0.1244, grad=-0.2901), Var(v=-0.2021, grad=0.0475), Var(v=-0.1596, grad=-0.0653), Var(v=0.0425, grad=-0.7028), Var(v=-0.1645, grad=0.0000), Var(v=-0.0059, grad=0.0000), Var(v=-0.1596, grad=0.6206)], [Var(v=-0.0247, grad=0.4558), Var(v=0.0645, grad=-0.2747), Var(v=-0.0489, grad=0.0307), Var(v=0.0058, grad=0.2747), Var(v=0.0766, grad=-0.2017), Var(v=-0.0287, grad=0.3967), Var(v=0.0812, grad=-0.6409), Var(v=-0.0072, grad=-0.8724), Var(v=0.1336, grad=0.5257), Var(v=-0.0627, grad=0.0000), Var(v=0.0971, grad=-1.7520), Var(v=0.1921, grad=-0.6359), Var(v=-0.1810, grad=1.4045), Var(v=-0.0099, grad=0.0000), Var(v=-0.0401, grad=0.8574), Var(v=0.0398, grad=0.0000), Var(v=-0.0378, grad=0.2642), Var(v=-0.0036, grad=0.0000), Var(v=-0.0772, grad=-0.0462), Var(v=-0.0984, grad=0.5529), Var(v=0.0391, grad=0.0000), Var(v=-0.0433, grad=-0.8224), Var(v=0.0544, grad=0.7899), Var(v=-0.0097, grad=0.0000), Var(v=-0.0328, grad=-0.0650), Var(v=-0.1441, grad=0.0000), Var(v=-0.0409, grad=0.0000), Var(v=0.2877, grad=-1.0777), Var(v=-0.0850, grad=-1.6607), Var(v=0.0278, grad=-0.2089), Var(v=-0.0646, grad=-0.5061), Var(v=0.0825, grad=-0.1257), Var(v=-0.0188, grad=0.5858), Var(v=-0.0433, grad=-0.3873), Var(v=0.0551, grad=0.0000), Var(v=0.0474, grad=-0.4694), Var(v=-0.0540, grad=0.0000), Var(v=0.0526, grad=-0.0760), Var(v=-0.0393, grad=-0.6358), Var(v=0.0939, grad=0.0000), Var(v=0.0339, grad=1.0336), Var(v=0.0321, grad=0.0000), Var(v=-0.0685, grad=-1.0505), Var(v=-0.0272, grad=-0.5981), Var(v=0.0909, grad=0.0979), Var(v=0.0306, grad=-0.1347), Var(v=0.0204, grad=-1.4491), Var(v=0.0467, grad=0.0000), Var(v=0.0148, grad=0.0000), Var(v=0.0510, grad=1.2797)], [Var(v=-0.1710, grad=0.0000), Var(v=0.1230, grad=0.1221), Var(v=0.0941, grad=-0.0136), Var(v=0.0359, grad=-0.1221), Var(v=0.0220, grad=0.0897), Var(v=-0.1877, grad=0.0000), Var(v=-0.0255, grad=0.0000), Var(v=-0.0546, grad=0.0000), Var(v=0.0165, grad=0.0000), Var(v=0.1212, grad=-0.4534), Var(v=0.1436, grad=0.7787), Var(v=0.0216, grad=0.2826), Var(v=-0.1667, grad=0.0000), Var(v=0.0231, grad=0.3972), Var(v=-0.0604, grad=0.0000), Var(v=0.0118, grad=-0.5122), Var(v=0.0916, grad=-0.1174), Var(v=-0.0937, grad=0.0000), Var(v=-0.1737, grad=0.0205), Var(v=-0.0428, grad=0.0000), Var(v=-0.0999, grad=-0.0643), Var(v=-0.1755, grad=0.0000), Var(v=-0.1356, grad=-0.3511), Var(v=0.0017, grad=-0.1135), Var(v=0.0104, grad=0.0000), Var(v=0.0125, grad=0.5514), Var(v=-0.0016, grad=-0.1991), Var(v=-0.0909, grad=0.4790), Var(v=-0.0664, grad=0.7381), Var(v=0.0154, grad=0.0929), Var(v=0.0235, grad=0.0000), Var(v=0.1097, grad=0.0559), Var(v=-0.0271, grad=-0.2604), Var(v=-0.1413, grad=0.0000), Var(v=0.1395, grad=-0.1339), Var(v=-0.0847, grad=0.2087), Var(v=-0.1796, grad=0.3749), Var(v=-0.0320, grad=0.0338), Var(v=-0.0859, grad=0.2826), Var(v=0.0707, grad=-0.0064), Var(v=0.2082, grad=-0.4594), Var(v=0.0120, grad=-0.1038), Var(v=-0.0174, grad=0.4669), Var(v=-0.0133, grad=0.2658), Var(v=-0.0692, grad=0.0000), Var(v=-0.1472, grad=0.0000), Var(v=-0.0817, grad=0.0000), Var(v=-0.1061, grad=0.0000), Var(v=0.0976, grad=0.2824), Var(v=0.0659, grad=0.0000)], [Var(v=0.0051, grad=0.3169), Var(v=0.0565, grad=-0.1910), Var(v=-0.0823, grad=0.0213), Var(v=0.1320, grad=0.1909), Var(v=-0.1051, grad=-0.1402), Var(v=-0.0190, grad=0.2758), Var(v=0.0166, grad=-0.4455), Var(v=0.0343, grad=-0.6064), Var(v=0.1259, grad=0.3654), Var(v=-0.1079, grad=0.0000), Var(v=0.1467, grad=-1.2178), Var(v=-0.0462, grad=-0.4420), Var(v=0.1142, grad=0.9763), Var(v=0.0935, grad=0.0000), Var(v=0.0632, grad=0.5960), Var(v=0.1876, grad=0.0000), Var(v=0.1636, grad=0.1836), Var(v=0.0611, grad=0.0000), Var(v=0.0432, grad=-0.0321), Var(v=-0.0714, grad=0.3843), Var(v=-0.0817, grad=0.0000), Var(v=0.0347, grad=-0.5716), Var(v=0.2658, grad=0.5490), Var(v=-0.1860, grad=0.0000), Var(v=0.0754, grad=-0.0452), Var(v=-0.0454, grad=0.0000), Var(v=-0.0635, grad=0.0000), Var(v=0.1008, grad=-0.7491), Var(v=0.0397, grad=-1.1543), Var(v=-0.0276, grad=-0.1452), Var(v=0.1361, grad=-0.3518), Var(v=-0.0357, grad=-0.0874), Var(v=0.0218, grad=0.4072), Var(v=0.0043, grad=-0.2692), Var(v=-0.0305, grad=0.0000), Var(v=-0.1811, grad=-0.3263), Var(v=0.0335, grad=0.0000), Var(v=0.0818, grad=-0.0528), Var(v=-0.1079, grad=-0.4419), Var(v=-0.1544, grad=0.0000), Var(v=-0.0153, grad=0.7185), Var(v=-0.0925, grad=0.0000), Var(v=0.1662, grad=-0.7302), Var(v=-0.0275, grad=-0.4158), Var(v=0.1484, grad=0.0681), Var(v=0.0536, grad=-0.0936), Var(v=0.0885, grad=-1.0073), Var(v=0.0524, grad=0.0000), Var(v=-0.1007, grad=0.0000), Var(v=0.0916, grad=0.8895)], [Var(v=0.1348, grad=0.4805), Var(v=-0.0210, grad=-0.2896), Var(v=0.0465, grad=0.0324), Var(v=0.0665, grad=0.2896), Var(v=0.0976, grad=-0.2126), Var(v=0.2247, grad=0.4182), Var(v=-0.2298, grad=-0.6755), Var(v=0.0302, grad=-0.9196), Var(v=0.1454, grad=0.5541), Var(v=-0.0815, grad=0.0000), Var(v=-0.0178, grad=-1.8467), Var(v=0.1329, grad=-0.6703), Var(v=-0.0538, grad=1.4804), Var(v=0.2004, grad=0.0000), Var(v=0.1552, grad=0.9037), Var(v=-0.0518, grad=0.0000), Var(v=0.1093, grad=0.2784), Var(v=-0.0259, grad=0.0000), Var(v=-0.0117, grad=-0.0487), Var(v=-0.0303, grad=0.5828), Var(v=0.1134, grad=0.0000), Var(v=-0.0301, grad=-0.8668), Var(v=0.1182, grad=0.8326), Var(v=-0.0801, grad=0.0000), Var(v=-0.0124, grad=-0.0685), Var(v=0.0290, grad=0.0000), Var(v=-0.0496, grad=0.0000), Var(v=-0.0235, grad=-1.1360), Var(v=0.0636, grad=-1.7504), Var(v=0.0323, grad=-0.2202), Var(v=0.1279, grad=-0.5334), Var(v=0.0091, grad=-0.1325), Var(v=-0.1368, grad=0.6174), Var(v=0.2029, grad=-0.4082), Var(v=0.0499, grad=0.0000), Var(v=-0.0473, grad=-0.4948), Var(v=-0.0443, grad=0.0000), Var(v=-0.0932, grad=-0.0801), Var(v=-0.0807, grad=-0.6702), Var(v=0.0495, grad=0.0000), Var(v=-0.0887, grad=1.0895), Var(v=-0.0948, grad=0.0000), Var(v=0.1442, grad=-1.1073), Var(v=-0.0788, grad=-0.6304), Var(v=0.0418, grad=0.1032), Var(v=-0.0917, grad=-0.1420), Var(v=0.0901, grad=-1.5275), Var(v=-0.0423, grad=0.0000), Var(v=-0.0293, grad=0.0000), Var(v=0.0560, grad=1.3488)]] Biases: [Var(v=-0.0453, grad=4.5292), Var(v=-0.0004, grad=0.0409), Var(v=0.0000, grad=-0.0046), Var(v=0.0004, grad=-0.0409), Var(v=-0.0003, grad=0.0300), Var(v=-0.0394, grad=3.9420), Var(v=0.0637, grad=-6.3680), Var(v=0.0867, grad=-8.6684), Var(v=-0.0522, grad=5.2228), Var(v=0.1029, grad=-10.2868), Var(v=-0.0026, grad=0.2610), Var(v=-0.0009, grad=0.0947), Var(v=-0.1395, grad=13.9548), Var(v=-0.0901, grad=9.0131), Var(v=-0.0852, grad=8.5188), Var(v=0.1162, grad=-11.6217), Var(v=0.0004, grad=-0.0394), Var(v=0.0000, grad=0.0000), Var(v=-0.0001, grad=0.0069), Var(v=-0.0549, grad=5.4933), Var(v=0.0146, grad=-1.4598), Var(v=0.0817, grad=-8.1709), Var(v=0.0012, grad=-0.1177), Var(v=0.0258, grad=-2.5756), Var(v=0.0065, grad=-0.6456), Var(v=-0.1251, grad=12.5116), Var(v=0.0452, grad=-4.5175), Var(v=-0.0016, grad=0.1606), Var(v=-0.0025, grad=0.2474), Var(v=-0.0003, grad=0.0311), Var(v=0.0503, grad=-5.0284), Var(v=-0.0002, grad=0.0187), Var(v=0.0009, grad=-0.0873), Var(v=0.0385, grad=-3.8478), Var(v=0.0304, grad=-3.0383), Var(v=-0.0007, grad=0.0699), Var(v=-0.0851, grad=8.5063), Var(v=-0.0001, grad=0.0113), Var(v=-0.0009, grad=0.0947), Var(v=0.0015, grad=-0.1453), Var(v=0.0015, grad=-0.1540), Var(v=0.0236, grad=-2.3552), Var(v=-0.0016, grad=0.1565), Var(v=-0.0009, grad=0.0891), Var(v=-0.0097, grad=0.9732), Var(v=0.0134, grad=-1.3386), Var(v=0.1440, grad=-14.3985), Var(v=0.0000, grad=0.0000), Var(v=-0.0641, grad=6.4070), Var(v=-0.1271, grad=12.7148)]\n",
            "Layer 2 \n",
            " Weights: [[Var(v=-0.0109, grad=-4.1759)], [Var(v=0.0164, grad=1.5259)], [Var(v=0.0043, grad=-0.7850)], [Var(v=-0.0034, grad=-2.8310)], [Var(v=0.0199, grad=0.3430)], [Var(v=-0.0401, grad=-0.5740)], [Var(v=0.0958, grad=-2.1784)], [Var(v=0.1091, grad=-0.8399)], [Var(v=-0.0179, grad=-4.2770)], [Var(v=-0.1400, grad=2.2303)], [Var(v=0.1940, grad=0.8208)], [Var(v=0.0972, grad=-2.3784)], [Var(v=-0.1265, grad=-3.5639)], [Var(v=0.0895, grad=1.3665)], [Var(v=-0.0952, grad=-0.3764)], [Var(v=-0.1648, grad=3.1808)], [Var(v=0.0280, grad=-5.8450)], [Var(v=-0.2179, grad=0.0000)], [Var(v=0.0029, grad=0.2454)], [Var(v=-0.0517, grad=-1.2148)], [Var(v=-0.0306, grad=1.3846)], [Var(v=0.0961, grad=-0.1212)], [Var(v=-0.0708, grad=-2.0405)], [Var(v=-0.0358, grad=0.6321)], [Var(v=0.0561, grad=-4.8639)], [Var(v=0.1425, grad=0.0656)], [Var(v=-0.0608, grad=0.9128)], [Var(v=0.1641, grad=-3.9749)], [Var(v=0.2141, grad=-2.2402)], [Var(v=0.0194, grad=0.4672)], [Var(v=0.0910, grad=-3.2571)], [Var(v=0.0688, grad=-5.4314)], [Var(v=-0.0560, grad=-1.1591)], [Var(v=0.0730, grad=-2.8338)], [Var(v=-0.0527, grad=1.7949)], [Var(v=0.0831, grad=-2.8913)], [Var(v=0.0938, grad=0.3580)], [Var(v=0.0191, grad=-1.0308)], [Var(v=0.1168, grad=-4.3449)], [Var(v=-0.0171, grad=1.5448)], [Var(v=-0.1010, grad=-1.8293)], [Var(v=-0.0447, grad=1.7786)], [Var(v=0.1361, grad=-1.4814)], [Var(v=0.0736, grad=-0.4524)], [Var(v=0.0078, grad=-1.9076)], [Var(v=0.0406, grad=-2.5086)], [Var(v=0.1968, grad=-2.9518)], [Var(v=0.2607, grad=0.0000)], [Var(v=0.0726, grad=0.0736)], [Var(v=-0.1244, grad=-2.3292)]] Biases: [Var(v=-0.0129, grad=1.2908)]\n",
            "\n",
            "Network after zeroing gradients:\n",
            "Layer 0 \n",
            " Weights: [[Var(v=0.1849, grad=0.0000), Var(v=0.0591, grad=0.0000), Var(v=0.0492, grad=0.0000), Var(v=-0.0301, grad=0.0000), Var(v=-0.1371, grad=0.0000), Var(v=0.1862, grad=0.0000), Var(v=-0.0458, grad=0.0000), Var(v=0.0007, grad=0.0000), Var(v=0.0644, grad=0.0000), Var(v=0.1794, grad=0.0000), Var(v=0.1008, grad=0.0000), Var(v=0.1282, grad=0.0000), Var(v=-0.0721, grad=0.0000), Var(v=0.0460, grad=0.0000), Var(v=0.0626, grad=0.0000)]] Biases: [Var(v=0.0093, grad=0.0000), Var(v=0.0028, grad=0.0000), Var(v=0.0185, grad=0.0000), Var(v=-0.0752, grad=0.0000), Var(v=-0.0162, grad=0.0000), Var(v=0.0335, grad=0.0000), Var(v=0.0281, grad=0.0000), Var(v=-0.0113, grad=0.0000), Var(v=0.0150, grad=0.0000), Var(v=0.0376, grad=0.0000), Var(v=0.0506, grad=0.0000), Var(v=0.0359, grad=0.0000), Var(v=0.0292, grad=0.0000), Var(v=-0.0122, grad=0.0000), Var(v=-0.0245, grad=0.0000)]\n",
            "Layer 1 \n",
            " Weights: [[Var(v=-0.0668, grad=0.0000), Var(v=-0.0596, grad=0.0000), Var(v=0.1778, grad=0.0000), Var(v=0.1168, grad=0.0000), Var(v=0.1917, grad=0.0000), Var(v=0.0266, grad=0.0000), Var(v=0.2086, grad=0.0000), Var(v=0.0469, grad=0.0000), Var(v=0.0852, grad=0.0000), Var(v=0.0239, grad=0.0000), Var(v=0.0211, grad=0.0000), Var(v=0.0751, grad=0.0000), Var(v=-0.0103, grad=0.0000), Var(v=-0.0151, grad=0.0000), Var(v=0.0457, grad=0.0000), Var(v=0.0108, grad=0.0000), Var(v=-0.0108, grad=0.0000), Var(v=-0.0384, grad=0.0000), Var(v=-0.0952, grad=0.0000), Var(v=0.0491, grad=0.0000), Var(v=-0.0817, grad=0.0000), Var(v=-0.0285, grad=0.0000), Var(v=0.0229, grad=0.0000), Var(v=-0.0534, grad=0.0000), Var(v=0.1197, grad=0.0000), Var(v=0.0015, grad=0.0000), Var(v=-0.0026, grad=0.0000), Var(v=0.0286, grad=0.0000), Var(v=0.1184, grad=0.0000), Var(v=0.0194, grad=0.0000), Var(v=0.0917, grad=0.0000), Var(v=0.1479, grad=0.0000), Var(v=0.1655, grad=0.0000), Var(v=0.0030, grad=0.0000), Var(v=-0.1608, grad=0.0000), Var(v=0.2163, grad=0.0000), Var(v=-0.1274, grad=0.0000), Var(v=0.0259, grad=0.0000), Var(v=0.0452, grad=0.0000), Var(v=-0.0382, grad=0.0000), Var(v=0.0155, grad=0.0000), Var(v=0.0138, grad=0.0000), Var(v=0.0364, grad=0.0000), Var(v=-0.0924, grad=0.0000), Var(v=0.1250, grad=0.0000), Var(v=0.1488, grad=0.0000), Var(v=0.1314, grad=0.0000), Var(v=0.0092, grad=0.0000), Var(v=-0.0868, grad=0.0000), Var(v=0.0805, grad=0.0000)], [Var(v=0.0968, grad=0.0000), Var(v=-0.1879, grad=0.0000), Var(v=-0.2079, grad=0.0000), Var(v=0.0854, grad=0.0000), Var(v=-0.1842, grad=0.0000), Var(v=-0.1406, grad=0.0000), Var(v=0.1285, grad=0.0000), Var(v=0.1286, grad=0.0000), Var(v=-0.0765, grad=0.0000), Var(v=-0.0664, grad=0.0000), Var(v=0.0309, grad=0.0000), Var(v=0.0972, grad=0.0000), Var(v=0.1452, grad=0.0000), Var(v=-0.0240, grad=0.0000), Var(v=-0.0471, grad=0.0000), Var(v=-0.0237, grad=0.0000), Var(v=-0.0317, grad=0.0000), Var(v=-0.0161, grad=0.0000), Var(v=0.0800, grad=0.0000), Var(v=0.0980, grad=0.0000), Var(v=0.0493, grad=0.0000), Var(v=-0.1774, grad=0.0000), Var(v=0.0474, grad=0.0000), Var(v=0.1364, grad=0.0000), Var(v=0.1630, grad=0.0000), Var(v=0.3640, grad=0.0000), Var(v=0.0064, grad=0.0000), Var(v=-0.0005, grad=0.0000), Var(v=0.1529, grad=0.0000), Var(v=-0.0483, grad=0.0000), Var(v=-0.1173, grad=0.0000), Var(v=-0.0670, grad=0.0000), Var(v=-0.0527, grad=0.0000), Var(v=0.0666, grad=0.0000), Var(v=0.1832, grad=0.0000), Var(v=-0.0685, grad=0.0000), Var(v=0.0633, grad=0.0000), Var(v=0.0909, grad=0.0000), Var(v=-0.0013, grad=0.0000), Var(v=0.0059, grad=0.0000), Var(v=0.0969, grad=0.0000), Var(v=-0.0158, grad=0.0000), Var(v=0.0686, grad=0.0000), Var(v=-0.0825, grad=0.0000), Var(v=0.0367, grad=0.0000), Var(v=0.1828, grad=0.0000), Var(v=0.0484, grad=0.0000), Var(v=0.0419, grad=0.0000), Var(v=-0.0908, grad=0.0000), Var(v=-0.0542, grad=0.0000)], [Var(v=-0.0723, grad=0.0000), Var(v=0.0446, grad=0.0000), Var(v=-0.0446, grad=0.0000), Var(v=0.1451, grad=0.0000), Var(v=-0.0750, grad=0.0000), Var(v=-0.2192, grad=0.0000), Var(v=0.1143, grad=0.0000), Var(v=-0.0132, grad=0.0000), Var(v=-0.1805, grad=0.0000), Var(v=0.0495, grad=0.0000), Var(v=-0.1000, grad=0.0000), Var(v=0.0921, grad=0.0000), Var(v=0.0129, grad=0.0000), Var(v=-0.0234, grad=0.0000), Var(v=-0.0650, grad=0.0000), Var(v=0.1040, grad=0.0000), Var(v=0.1677, grad=0.0000), Var(v=0.0310, grad=0.0000), Var(v=0.0418, grad=0.0000), Var(v=0.0086, grad=0.0000), Var(v=-0.1169, grad=0.0000), Var(v=0.1127, grad=0.0000), Var(v=-0.1235, grad=0.0000), Var(v=0.1133, grad=0.0000), Var(v=-0.0552, grad=0.0000), Var(v=0.1054, grad=0.0000), Var(v=-0.0352, grad=0.0000), Var(v=0.0325, grad=0.0000), Var(v=0.0046, grad=0.0000), Var(v=0.1007, grad=0.0000), Var(v=-0.0634, grad=0.0000), Var(v=-0.0154, grad=0.0000), Var(v=0.0746, grad=0.0000), Var(v=0.1615, grad=0.0000), Var(v=0.0451, grad=0.0000), Var(v=0.1879, grad=0.0000), Var(v=0.0315, grad=0.0000), Var(v=-0.0928, grad=0.0000), Var(v=0.1186, grad=0.0000), Var(v=0.0075, grad=0.0000), Var(v=0.0900, grad=0.0000), Var(v=-0.0727, grad=0.0000), Var(v=0.0427, grad=0.0000), Var(v=-0.0251, grad=0.0000), Var(v=-0.0205, grad=0.0000), Var(v=0.0261, grad=0.0000), Var(v=-0.0866, grad=0.0000), Var(v=0.0060, grad=0.0000), Var(v=0.0893, grad=0.0000), Var(v=0.0491, grad=0.0000)], [Var(v=-0.1746, grad=0.0000), Var(v=0.1728, grad=0.0000), Var(v=0.0131, grad=0.0000), Var(v=-0.0563, grad=0.0000), Var(v=-0.1005, grad=0.0000), Var(v=0.0592, grad=0.0000), Var(v=-0.0826, grad=0.0000), Var(v=-0.0508, grad=0.0000), Var(v=0.2676, grad=0.0000), Var(v=0.0834, grad=0.0000), Var(v=-0.0217, grad=0.0000), Var(v=-0.0669, grad=0.0000), Var(v=-0.0622, grad=0.0000), Var(v=-0.1814, grad=0.0000), Var(v=0.1123, grad=0.0000), Var(v=-0.1859, grad=0.0000), Var(v=0.0179, grad=0.0000), Var(v=-0.0338, grad=0.0000), Var(v=0.0730, grad=0.0000), Var(v=0.0441, grad=0.0000), Var(v=0.1944, grad=0.0000), Var(v=0.0120, grad=0.0000), Var(v=-0.0045, grad=0.0000), Var(v=0.0805, grad=0.0000), Var(v=0.0569, grad=0.0000), Var(v=0.2472, grad=0.0000), Var(v=-0.0838, grad=0.0000), Var(v=0.0855, grad=0.0000), Var(v=-0.2522, grad=0.0000), Var(v=0.0747, grad=0.0000), Var(v=0.0675, grad=0.0000), Var(v=0.0635, grad=0.0000), Var(v=0.1339, grad=0.0000), Var(v=-0.0314, grad=0.0000), Var(v=0.2209, grad=0.0000), Var(v=-0.0100, grad=0.0000), Var(v=-0.0024, grad=0.0000), Var(v=-0.1260, grad=0.0000), Var(v=0.1577, grad=0.0000), Var(v=-0.0104, grad=0.0000), Var(v=0.0404, grad=0.0000), Var(v=-0.0009, grad=0.0000), Var(v=-0.0031, grad=0.0000), Var(v=-0.0791, grad=0.0000), Var(v=-0.0707, grad=0.0000), Var(v=-0.0601, grad=0.0000), Var(v=0.0037, grad=0.0000), Var(v=-0.2273, grad=0.0000), Var(v=-0.0308, grad=0.0000), Var(v=0.0116, grad=0.0000)], [Var(v=-0.0085, grad=0.0000), Var(v=0.1033, grad=0.0000), Var(v=0.0108, grad=0.0000), Var(v=-0.0111, grad=0.0000), Var(v=0.0403, grad=0.0000), Var(v=-0.0696, grad=0.0000), Var(v=-0.1858, grad=0.0000), Var(v=-0.0358, grad=0.0000), Var(v=-0.0196, grad=0.0000), Var(v=0.1295, grad=0.0000), Var(v=0.0304, grad=0.0000), Var(v=0.0154, grad=0.0000), Var(v=-0.0542, grad=0.0000), Var(v=0.0704, grad=0.0000), Var(v=-0.2694, grad=0.0000), Var(v=0.2128, grad=0.0000), Var(v=0.0052, grad=0.0000), Var(v=-0.0575, grad=0.0000), Var(v=0.1078, grad=0.0000), Var(v=0.0015, grad=0.0000), Var(v=0.1160, grad=0.0000), Var(v=-0.1177, grad=0.0000), Var(v=0.2593, grad=0.0000), Var(v=0.0426, grad=0.0000), Var(v=-0.1199, grad=0.0000), Var(v=-0.0220, grad=0.0000), Var(v=0.0818, grad=0.0000), Var(v=0.0116, grad=0.0000), Var(v=0.0938, grad=0.0000), Var(v=0.1796, grad=0.0000), Var(v=-0.1075, grad=0.0000), Var(v=0.0698, grad=0.0000), Var(v=0.1583, grad=0.0000), Var(v=-0.0861, grad=0.0000), Var(v=0.0746, grad=0.0000), Var(v=0.2362, grad=0.0000), Var(v=0.0748, grad=0.0000), Var(v=0.0089, grad=0.0000), Var(v=0.1049, grad=0.0000), Var(v=0.0944, grad=0.0000), Var(v=-0.0029, grad=0.0000), Var(v=0.1077, grad=0.0000), Var(v=0.0269, grad=0.0000), Var(v=0.0240, grad=0.0000), Var(v=0.0009, grad=0.0000), Var(v=-0.0987, grad=0.0000), Var(v=-0.0672, grad=0.0000), Var(v=-0.0529, grad=0.0000), Var(v=-0.0088, grad=0.0000), Var(v=-0.0823, grad=0.0000)], [Var(v=0.1248, grad=0.0000), Var(v=0.0831, grad=0.0000), Var(v=0.0548, grad=0.0000), Var(v=0.0612, grad=0.0000), Var(v=-0.0068, grad=0.0000), Var(v=-0.0136, grad=0.0000), Var(v=-0.0257, grad=0.0000), Var(v=0.0293, grad=0.0000), Var(v=-0.0020, grad=0.0000), Var(v=0.0073, grad=0.0000), Var(v=0.0127, grad=0.0000), Var(v=-0.0052, grad=0.0000), Var(v=0.1295, grad=0.0000), Var(v=-0.0622, grad=0.0000), Var(v=-0.0243, grad=0.0000), Var(v=-0.1785, grad=0.0000), Var(v=0.1526, grad=0.0000), Var(v=-0.0776, grad=0.0000), Var(v=0.0310, grad=0.0000), Var(v=0.0402, grad=0.0000), Var(v=-0.0311, grad=0.0000), Var(v=0.0570, grad=0.0000), Var(v=-0.0090, grad=0.0000), Var(v=0.1408, grad=0.0000), Var(v=-0.0740, grad=0.0000), Var(v=-0.1150, grad=0.0000), Var(v=-0.1475, grad=0.0000), Var(v=-0.1340, grad=0.0000), Var(v=0.2677, grad=0.0000), Var(v=0.1146, grad=0.0000), Var(v=0.0466, grad=0.0000), Var(v=0.0129, grad=0.0000), Var(v=-0.0243, grad=0.0000), Var(v=0.0667, grad=0.0000), Var(v=-0.1240, grad=0.0000), Var(v=0.1363, grad=0.0000), Var(v=-0.1411, grad=0.0000), Var(v=-0.0120, grad=0.0000), Var(v=0.1249, grad=0.0000), Var(v=0.1095, grad=0.0000), Var(v=-0.0191, grad=0.0000), Var(v=-0.0227, grad=0.0000), Var(v=0.0026, grad=0.0000), Var(v=0.2428, grad=0.0000), Var(v=0.1792, grad=0.0000), Var(v=0.1167, grad=0.0000), Var(v=0.1080, grad=0.0000), Var(v=0.0271, grad=0.0000), Var(v=-0.0823, grad=0.0000), Var(v=-0.0327, grad=0.0000)], [Var(v=0.1154, grad=0.0000), Var(v=-0.0455, grad=0.0000), Var(v=0.0370, grad=0.0000), Var(v=0.0400, grad=0.0000), Var(v=-0.0489, grad=0.0000), Var(v=0.0253, grad=0.0000), Var(v=-0.1372, grad=0.0000), Var(v=-0.1684, grad=0.0000), Var(v=-0.0073, grad=0.0000), Var(v=-0.0121, grad=0.0000), Var(v=0.0507, grad=0.0000), Var(v=-0.0532, grad=0.0000), Var(v=0.0755, grad=0.0000), Var(v=-0.0540, grad=0.0000), Var(v=0.1676, grad=0.0000), Var(v=0.2139, grad=0.0000), Var(v=0.1880, grad=0.0000), Var(v=-0.0864, grad=0.0000), Var(v=0.0445, grad=0.0000), Var(v=-0.0015, grad=0.0000), Var(v=-0.0049, grad=0.0000), Var(v=0.0538, grad=0.0000), Var(v=-0.0653, grad=0.0000), Var(v=0.0086, grad=0.0000), Var(v=-0.0304, grad=0.0000), Var(v=0.0494, grad=0.0000), Var(v=-0.0926, grad=0.0000), Var(v=-0.0322, grad=0.0000), Var(v=0.0873, grad=0.0000), Var(v=0.0194, grad=0.0000), Var(v=-0.1343, grad=0.0000), Var(v=-0.1790, grad=0.0000), Var(v=-0.0023, grad=0.0000), Var(v=-0.0136, grad=0.0000), Var(v=0.0927, grad=0.0000), Var(v=0.0413, grad=0.0000), Var(v=-0.1385, grad=0.0000), Var(v=0.0556, grad=0.0000), Var(v=0.0993, grad=0.0000), Var(v=0.0033, grad=0.0000), Var(v=0.1276, grad=0.0000), Var(v=0.1147, grad=0.0000), Var(v=0.1426, grad=0.0000), Var(v=-0.0615, grad=0.0000), Var(v=-0.0825, grad=0.0000), Var(v=0.0462, grad=0.0000), Var(v=-0.0310, grad=0.0000), Var(v=0.1199, grad=0.0000), Var(v=-0.2218, grad=0.0000), Var(v=0.1683, grad=0.0000)], [Var(v=-0.0741, grad=0.0000), Var(v=0.0528, grad=0.0000), Var(v=0.1974, grad=0.0000), Var(v=0.0557, grad=0.0000), Var(v=-0.0389, grad=0.0000), Var(v=0.0346, grad=0.0000), Var(v=0.1715, grad=0.0000), Var(v=-0.0299, grad=0.0000), Var(v=0.1900, grad=0.0000), Var(v=0.1211, grad=0.0000), Var(v=0.0869, grad=0.0000), Var(v=-0.1556, grad=0.0000), Var(v=0.0030, grad=0.0000), Var(v=0.0534, grad=0.0000), Var(v=-0.1436, grad=0.0000), Var(v=-0.0175, grad=0.0000), Var(v=0.0905, grad=0.0000), Var(v=-0.0764, grad=0.0000), Var(v=0.0009, grad=0.0000), Var(v=-0.0090, grad=0.0000), Var(v=0.0800, grad=0.0000), Var(v=0.0441, grad=0.0000), Var(v=0.0095, grad=0.0000), Var(v=0.0445, grad=0.0000), Var(v=0.0444, grad=0.0000), Var(v=-0.0613, grad=0.0000), Var(v=-0.0371, grad=0.0000), Var(v=-0.0183, grad=0.0000), Var(v=0.0304, grad=0.0000), Var(v=-0.0071, grad=0.0000), Var(v=-0.0448, grad=0.0000), Var(v=0.1177, grad=0.0000), Var(v=-0.2074, grad=0.0000), Var(v=-0.0235, grad=0.0000), Var(v=0.0877, grad=0.0000), Var(v=-0.0923, grad=0.0000), Var(v=-0.0874, grad=0.0000), Var(v=-0.0547, grad=0.0000), Var(v=0.0400, grad=0.0000), Var(v=-0.1180, grad=0.0000), Var(v=-0.2292, grad=0.0000), Var(v=0.0271, grad=0.0000), Var(v=-0.0655, grad=0.0000), Var(v=0.0486, grad=0.0000), Var(v=-0.1079, grad=0.0000), Var(v=-0.0910, grad=0.0000), Var(v=0.1200, grad=0.0000), Var(v=0.0455, grad=0.0000), Var(v=-0.0259, grad=0.0000), Var(v=-0.0327, grad=0.0000)], [Var(v=-0.0110, grad=0.0000), Var(v=0.1555, grad=0.0000), Var(v=-0.1398, grad=0.0000), Var(v=-0.0991, grad=0.0000), Var(v=-0.0367, grad=0.0000), Var(v=-0.1565, grad=0.0000), Var(v=0.0525, grad=0.0000), Var(v=-0.0118, grad=0.0000), Var(v=0.0443, grad=0.0000), Var(v=-0.1325, grad=0.0000), Var(v=-0.0632, grad=0.0000), Var(v=0.0224, grad=0.0000), Var(v=0.0044, grad=0.0000), Var(v=0.0068, grad=0.0000), Var(v=-0.2197, grad=0.0000), Var(v=0.0384, grad=0.0000), Var(v=0.0045, grad=0.0000), Var(v=0.0431, grad=0.0000), Var(v=0.0681, grad=0.0000), Var(v=0.2516, grad=0.0000), Var(v=0.1807, grad=0.0000), Var(v=0.1019, grad=0.0000), Var(v=-0.0095, grad=0.0000), Var(v=-0.0152, grad=0.0000), Var(v=0.1382, grad=0.0000), Var(v=0.0094, grad=0.0000), Var(v=-0.0696, grad=0.0000), Var(v=-0.0196, grad=0.0000), Var(v=0.0463, grad=0.0000), Var(v=0.0707, grad=0.0000), Var(v=-0.0543, grad=0.0000), Var(v=0.0405, grad=0.0000), Var(v=0.1185, grad=0.0000), Var(v=-0.0073, grad=0.0000), Var(v=0.0377, grad=0.0000), Var(v=-0.0699, grad=0.0000), Var(v=0.0440, grad=0.0000), Var(v=0.0588, grad=0.0000), Var(v=0.2302, grad=0.0000), Var(v=-0.1120, grad=0.0000), Var(v=0.1665, grad=0.0000), Var(v=0.0435, grad=0.0000), Var(v=0.0683, grad=0.0000), Var(v=0.1241, grad=0.0000), Var(v=-0.1347, grad=0.0000), Var(v=-0.1412, grad=0.0000), Var(v=0.0995, grad=0.0000), Var(v=-0.0590, grad=0.0000), Var(v=0.0085, grad=0.0000), Var(v=0.0949, grad=0.0000)], [Var(v=0.1915, grad=0.0000), Var(v=-0.0341, grad=0.0000), Var(v=-0.0192, grad=0.0000), Var(v=-0.1317, grad=0.0000), Var(v=-0.1444, grad=0.0000), Var(v=-0.0223, grad=0.0000), Var(v=0.0297, grad=0.0000), Var(v=0.0086, grad=0.0000), Var(v=-0.1044, grad=0.0000), Var(v=0.0142, grad=0.0000), Var(v=0.0622, grad=0.0000), Var(v=-0.0557, grad=0.0000), Var(v=0.0972, grad=0.0000), Var(v=-0.1344, grad=0.0000), Var(v=-0.0981, grad=0.0000), Var(v=-0.0850, grad=0.0000), Var(v=0.1387, grad=0.0000), Var(v=-0.1410, grad=0.0000), Var(v=0.1023, grad=0.0000), Var(v=-0.1261, grad=0.0000), Var(v=-0.1222, grad=0.0000), Var(v=0.0915, grad=0.0000), Var(v=0.0525, grad=0.0000), Var(v=-0.0956, grad=0.0000), Var(v=0.1864, grad=0.0000), Var(v=-0.1080, grad=0.0000), Var(v=0.2845, grad=0.0000), Var(v=0.2010, grad=0.0000), Var(v=0.0484, grad=0.0000), Var(v=-0.0749, grad=0.0000), Var(v=0.0776, grad=0.0000), Var(v=0.2431, grad=0.0000), Var(v=0.0566, grad=0.0000), Var(v=0.0212, grad=0.0000), Var(v=0.0921, grad=0.0000), Var(v=0.1733, grad=0.0000), Var(v=0.0824, grad=0.0000), Var(v=0.1040, grad=0.0000), Var(v=0.1956, grad=0.0000), Var(v=-0.0669, grad=0.0000), Var(v=-0.0236, grad=0.0000), Var(v=0.0484, grad=0.0000), Var(v=0.0377, grad=0.0000), Var(v=0.0457, grad=0.0000), Var(v=-0.2466, grad=0.0000), Var(v=-0.0599, grad=0.0000), Var(v=-0.1083, grad=0.0000), Var(v=0.0132, grad=0.0000), Var(v=-0.0775, grad=0.0000), Var(v=-0.0934, grad=0.0000)], [Var(v=0.0078, grad=0.0000), Var(v=-0.0838, grad=0.0000), Var(v=0.0606, grad=0.0000), Var(v=-0.0395, grad=0.0000), Var(v=0.0731, grad=0.0000), Var(v=0.0598, grad=0.0000), Var(v=-0.0591, grad=0.0000), Var(v=-0.0626, grad=0.0000), Var(v=-0.1042, grad=0.0000), Var(v=0.1232, grad=0.0000), Var(v=0.1077, grad=0.0000), Var(v=-0.0561, grad=0.0000), Var(v=-0.0642, grad=0.0000), Var(v=0.0089, grad=0.0000), Var(v=-0.0829, grad=0.0000), Var(v=-0.0781, grad=0.0000), Var(v=0.0594, grad=0.0000), Var(v=-0.0653, grad=0.0000), Var(v=-0.0366, grad=0.0000), Var(v=0.0904, grad=0.0000), Var(v=0.0447, grad=0.0000), Var(v=0.0163, grad=0.0000), Var(v=0.0401, grad=0.0000), Var(v=-0.1155, grad=0.0000), Var(v=-0.0913, grad=0.0000), Var(v=-0.0333, grad=0.0000), Var(v=-0.0048, grad=0.0000), Var(v=0.1579, grad=0.0000), Var(v=-0.1066, grad=0.0000), Var(v=0.1035, grad=0.0000), Var(v=-0.0528, grad=0.0000), Var(v=0.0368, grad=0.0000), Var(v=-0.2214, grad=0.0000), Var(v=-0.0351, grad=0.0000), Var(v=-0.0617, grad=0.0000), Var(v=-0.0152, grad=0.0000), Var(v=0.0805, grad=0.0000), Var(v=-0.1003, grad=0.0000), Var(v=0.1920, grad=0.0000), Var(v=-0.0650, grad=0.0000), Var(v=0.0356, grad=0.0000), Var(v=-0.0674, grad=0.0000), Var(v=-0.0597, grad=0.0000), Var(v=0.1244, grad=0.0000), Var(v=-0.2021, grad=0.0000), Var(v=-0.1596, grad=0.0000), Var(v=0.0425, grad=0.0000), Var(v=-0.1645, grad=0.0000), Var(v=-0.0059, grad=0.0000), Var(v=-0.1596, grad=0.0000)], [Var(v=-0.0247, grad=0.0000), Var(v=0.0645, grad=0.0000), Var(v=-0.0489, grad=0.0000), Var(v=0.0058, grad=0.0000), Var(v=0.0766, grad=0.0000), Var(v=-0.0287, grad=0.0000), Var(v=0.0812, grad=0.0000), Var(v=-0.0072, grad=0.0000), Var(v=0.1336, grad=0.0000), Var(v=-0.0627, grad=0.0000), Var(v=0.0971, grad=0.0000), Var(v=0.1921, grad=0.0000), Var(v=-0.1810, grad=0.0000), Var(v=-0.0099, grad=0.0000), Var(v=-0.0401, grad=0.0000), Var(v=0.0398, grad=0.0000), Var(v=-0.0378, grad=0.0000), Var(v=-0.0036, grad=0.0000), Var(v=-0.0772, grad=0.0000), Var(v=-0.0984, grad=0.0000), Var(v=0.0391, grad=0.0000), Var(v=-0.0433, grad=0.0000), Var(v=0.0544, grad=0.0000), Var(v=-0.0097, grad=0.0000), Var(v=-0.0328, grad=0.0000), Var(v=-0.1441, grad=0.0000), Var(v=-0.0409, grad=0.0000), Var(v=0.2877, grad=0.0000), Var(v=-0.0850, grad=0.0000), Var(v=0.0278, grad=0.0000), Var(v=-0.0646, grad=0.0000), Var(v=0.0825, grad=0.0000), Var(v=-0.0188, grad=0.0000), Var(v=-0.0433, grad=0.0000), Var(v=0.0551, grad=0.0000), Var(v=0.0474, grad=0.0000), Var(v=-0.0540, grad=0.0000), Var(v=0.0526, grad=0.0000), Var(v=-0.0393, grad=0.0000), Var(v=0.0939, grad=0.0000), Var(v=0.0339, grad=0.0000), Var(v=0.0321, grad=0.0000), Var(v=-0.0685, grad=0.0000), Var(v=-0.0272, grad=0.0000), Var(v=0.0909, grad=0.0000), Var(v=0.0306, grad=0.0000), Var(v=0.0204, grad=0.0000), Var(v=0.0467, grad=0.0000), Var(v=0.0148, grad=0.0000), Var(v=0.0510, grad=0.0000)], [Var(v=-0.1710, grad=0.0000), Var(v=0.1230, grad=0.0000), Var(v=0.0941, grad=0.0000), Var(v=0.0359, grad=0.0000), Var(v=0.0220, grad=0.0000), Var(v=-0.1877, grad=0.0000), Var(v=-0.0255, grad=0.0000), Var(v=-0.0546, grad=0.0000), Var(v=0.0165, grad=0.0000), Var(v=0.1212, grad=0.0000), Var(v=0.1436, grad=0.0000), Var(v=0.0216, grad=0.0000), Var(v=-0.1667, grad=0.0000), Var(v=0.0231, grad=0.0000), Var(v=-0.0604, grad=0.0000), Var(v=0.0118, grad=0.0000), Var(v=0.0916, grad=0.0000), Var(v=-0.0937, grad=0.0000), Var(v=-0.1737, grad=0.0000), Var(v=-0.0428, grad=0.0000), Var(v=-0.0999, grad=0.0000), Var(v=-0.1755, grad=0.0000), Var(v=-0.1356, grad=0.0000), Var(v=0.0017, grad=0.0000), Var(v=0.0104, grad=0.0000), Var(v=0.0125, grad=0.0000), Var(v=-0.0016, grad=0.0000), Var(v=-0.0909, grad=0.0000), Var(v=-0.0664, grad=0.0000), Var(v=0.0154, grad=0.0000), Var(v=0.0235, grad=0.0000), Var(v=0.1097, grad=0.0000), Var(v=-0.0271, grad=0.0000), Var(v=-0.1413, grad=0.0000), Var(v=0.1395, grad=0.0000), Var(v=-0.0847, grad=0.0000), Var(v=-0.1796, grad=0.0000), Var(v=-0.0320, grad=0.0000), Var(v=-0.0859, grad=0.0000), Var(v=0.0707, grad=0.0000), Var(v=0.2082, grad=0.0000), Var(v=0.0120, grad=0.0000), Var(v=-0.0174, grad=0.0000), Var(v=-0.0133, grad=0.0000), Var(v=-0.0692, grad=0.0000), Var(v=-0.1472, grad=0.0000), Var(v=-0.0817, grad=0.0000), Var(v=-0.1061, grad=0.0000), Var(v=0.0976, grad=0.0000), Var(v=0.0659, grad=0.0000)], [Var(v=0.0051, grad=0.0000), Var(v=0.0565, grad=0.0000), Var(v=-0.0823, grad=0.0000), Var(v=0.1320, grad=0.0000), Var(v=-0.1051, grad=0.0000), Var(v=-0.0190, grad=0.0000), Var(v=0.0166, grad=0.0000), Var(v=0.0343, grad=0.0000), Var(v=0.1259, grad=0.0000), Var(v=-0.1079, grad=0.0000), Var(v=0.1467, grad=0.0000), Var(v=-0.0462, grad=0.0000), Var(v=0.1142, grad=0.0000), Var(v=0.0935, grad=0.0000), Var(v=0.0632, grad=0.0000), Var(v=0.1876, grad=0.0000), Var(v=0.1636, grad=0.0000), Var(v=0.0611, grad=0.0000), Var(v=0.0432, grad=0.0000), Var(v=-0.0714, grad=0.0000), Var(v=-0.0817, grad=0.0000), Var(v=0.0347, grad=0.0000), Var(v=0.2658, grad=0.0000), Var(v=-0.1860, grad=0.0000), Var(v=0.0754, grad=0.0000), Var(v=-0.0454, grad=0.0000), Var(v=-0.0635, grad=0.0000), Var(v=0.1008, grad=0.0000), Var(v=0.0397, grad=0.0000), Var(v=-0.0276, grad=0.0000), Var(v=0.1361, grad=0.0000), Var(v=-0.0357, grad=0.0000), Var(v=0.0218, grad=0.0000), Var(v=0.0043, grad=0.0000), Var(v=-0.0305, grad=0.0000), Var(v=-0.1811, grad=0.0000), Var(v=0.0335, grad=0.0000), Var(v=0.0818, grad=0.0000), Var(v=-0.1079, grad=0.0000), Var(v=-0.1544, grad=0.0000), Var(v=-0.0153, grad=0.0000), Var(v=-0.0925, grad=0.0000), Var(v=0.1662, grad=0.0000), Var(v=-0.0275, grad=0.0000), Var(v=0.1484, grad=0.0000), Var(v=0.0536, grad=0.0000), Var(v=0.0885, grad=0.0000), Var(v=0.0524, grad=0.0000), Var(v=-0.1007, grad=0.0000), Var(v=0.0916, grad=0.0000)], [Var(v=0.1348, grad=0.0000), Var(v=-0.0210, grad=0.0000), Var(v=0.0465, grad=0.0000), Var(v=0.0665, grad=0.0000), Var(v=0.0976, grad=0.0000), Var(v=0.2247, grad=0.0000), Var(v=-0.2298, grad=0.0000), Var(v=0.0302, grad=0.0000), Var(v=0.1454, grad=0.0000), Var(v=-0.0815, grad=0.0000), Var(v=-0.0178, grad=0.0000), Var(v=0.1329, grad=0.0000), Var(v=-0.0538, grad=0.0000), Var(v=0.2004, grad=0.0000), Var(v=0.1552, grad=0.0000), Var(v=-0.0518, grad=0.0000), Var(v=0.1093, grad=0.0000), Var(v=-0.0259, grad=0.0000), Var(v=-0.0117, grad=0.0000), Var(v=-0.0303, grad=0.0000), Var(v=0.1134, grad=0.0000), Var(v=-0.0301, grad=0.0000), Var(v=0.1182, grad=0.0000), Var(v=-0.0801, grad=0.0000), Var(v=-0.0124, grad=0.0000), Var(v=0.0290, grad=0.0000), Var(v=-0.0496, grad=0.0000), Var(v=-0.0235, grad=0.0000), Var(v=0.0636, grad=0.0000), Var(v=0.0323, grad=0.0000), Var(v=0.1279, grad=0.0000), Var(v=0.0091, grad=0.0000), Var(v=-0.1368, grad=0.0000), Var(v=0.2029, grad=0.0000), Var(v=0.0499, grad=0.0000), Var(v=-0.0473, grad=0.0000), Var(v=-0.0443, grad=0.0000), Var(v=-0.0932, grad=0.0000), Var(v=-0.0807, grad=0.0000), Var(v=0.0495, grad=0.0000), Var(v=-0.0887, grad=0.0000), Var(v=-0.0948, grad=0.0000), Var(v=0.1442, grad=0.0000), Var(v=-0.0788, grad=0.0000), Var(v=0.0418, grad=0.0000), Var(v=-0.0917, grad=0.0000), Var(v=0.0901, grad=0.0000), Var(v=-0.0423, grad=0.0000), Var(v=-0.0293, grad=0.0000), Var(v=0.0560, grad=0.0000)]] Biases: [Var(v=-0.0453, grad=0.0000), Var(v=-0.0004, grad=0.0000), Var(v=0.0000, grad=0.0000), Var(v=0.0004, grad=0.0000), Var(v=-0.0003, grad=0.0000), Var(v=-0.0394, grad=0.0000), Var(v=0.0637, grad=0.0000), Var(v=0.0867, grad=0.0000), Var(v=-0.0522, grad=0.0000), Var(v=0.1029, grad=0.0000), Var(v=-0.0026, grad=0.0000), Var(v=-0.0009, grad=0.0000), Var(v=-0.1395, grad=0.0000), Var(v=-0.0901, grad=0.0000), Var(v=-0.0852, grad=0.0000), Var(v=0.1162, grad=0.0000), Var(v=0.0004, grad=0.0000), Var(v=0.0000, grad=0.0000), Var(v=-0.0001, grad=0.0000), Var(v=-0.0549, grad=0.0000), Var(v=0.0146, grad=0.0000), Var(v=0.0817, grad=0.0000), Var(v=0.0012, grad=0.0000), Var(v=0.0258, grad=0.0000), Var(v=0.0065, grad=0.0000), Var(v=-0.1251, grad=0.0000), Var(v=0.0452, grad=0.0000), Var(v=-0.0016, grad=0.0000), Var(v=-0.0025, grad=0.0000), Var(v=-0.0003, grad=0.0000), Var(v=0.0503, grad=0.0000), Var(v=-0.0002, grad=0.0000), Var(v=0.0009, grad=0.0000), Var(v=0.0385, grad=0.0000), Var(v=0.0304, grad=0.0000), Var(v=-0.0007, grad=0.0000), Var(v=-0.0851, grad=0.0000), Var(v=-0.0001, grad=0.0000), Var(v=-0.0009, grad=0.0000), Var(v=0.0015, grad=0.0000), Var(v=0.0015, grad=0.0000), Var(v=0.0236, grad=0.0000), Var(v=-0.0016, grad=0.0000), Var(v=-0.0009, grad=0.0000), Var(v=-0.0097, grad=0.0000), Var(v=0.0134, grad=0.0000), Var(v=0.1440, grad=0.0000), Var(v=0.0000, grad=0.0000), Var(v=-0.0641, grad=0.0000), Var(v=-0.1271, grad=0.0000)]\n",
            "Layer 2 \n",
            " Weights: [[Var(v=-0.0109, grad=0.0000)], [Var(v=0.0164, grad=0.0000)], [Var(v=0.0043, grad=0.0000)], [Var(v=-0.0034, grad=0.0000)], [Var(v=0.0199, grad=0.0000)], [Var(v=-0.0401, grad=0.0000)], [Var(v=0.0958, grad=0.0000)], [Var(v=0.1091, grad=0.0000)], [Var(v=-0.0179, grad=0.0000)], [Var(v=-0.1400, grad=0.0000)], [Var(v=0.1940, grad=0.0000)], [Var(v=0.0972, grad=0.0000)], [Var(v=-0.1265, grad=0.0000)], [Var(v=0.0895, grad=0.0000)], [Var(v=-0.0952, grad=0.0000)], [Var(v=-0.1648, grad=0.0000)], [Var(v=0.0280, grad=0.0000)], [Var(v=-0.2179, grad=0.0000)], [Var(v=0.0029, grad=0.0000)], [Var(v=-0.0517, grad=0.0000)], [Var(v=-0.0306, grad=0.0000)], [Var(v=0.0961, grad=0.0000)], [Var(v=-0.0708, grad=0.0000)], [Var(v=-0.0358, grad=0.0000)], [Var(v=0.0561, grad=0.0000)], [Var(v=0.1425, grad=0.0000)], [Var(v=-0.0608, grad=0.0000)], [Var(v=0.1641, grad=0.0000)], [Var(v=0.2141, grad=0.0000)], [Var(v=0.0194, grad=0.0000)], [Var(v=0.0910, grad=0.0000)], [Var(v=0.0688, grad=0.0000)], [Var(v=-0.0560, grad=0.0000)], [Var(v=0.0730, grad=0.0000)], [Var(v=-0.0527, grad=0.0000)], [Var(v=0.0831, grad=0.0000)], [Var(v=0.0938, grad=0.0000)], [Var(v=0.0191, grad=0.0000)], [Var(v=0.1168, grad=0.0000)], [Var(v=-0.0171, grad=0.0000)], [Var(v=-0.1010, grad=0.0000)], [Var(v=-0.0447, grad=0.0000)], [Var(v=0.1361, grad=0.0000)], [Var(v=0.0736, grad=0.0000)], [Var(v=0.0078, grad=0.0000)], [Var(v=0.0406, grad=0.0000)], [Var(v=0.1968, grad=0.0000)], [Var(v=0.2607, grad=0.0000)], [Var(v=0.0726, grad=0.0000)], [Var(v=-0.1244, grad=0.0000)]] Biases: [Var(v=-0.0129, grad=0.0000)]\n"
          ]
        },
        {
          "output_type": "execute_result",
          "data": {
            "text/plain": [
              "[None, None, None]"
            ]
          },
          "metadata": {},
          "execution_count": 181
        }
      ],
      "source": [
        "print('Network before update:')\n",
        "[print('Layer', i, '\\n', NN[i]) for i in range(len(NN))]\n",
        "\n",
        "def parameters(network):\n",
        "  params = []\n",
        "  for layer in range(len(network)):\n",
        "    params += network[layer].parameters()\n",
        "  return params\n",
        "\n",
        "def update_parameters(params, learning_rate=0.01):\n",
        "  for p in params:\n",
        "    p.v -= learning_rate*p.grad\n",
        "\n",
        "def zero_gradients(params):\n",
        "  for p in params:\n",
        "    p.grad = 0.0\n",
        "\n",
        "update_parameters(parameters(NN))\n",
        "\n",
        "print('\\nNetwork after update:')\n",
        "[print('Layer', i, '\\n', NN[i]) for i in range(len(NN))]\n",
        "\n",
        "zero_gradients(parameters(NN))\n",
        "\n",
        "print('\\nNetwork after zeroing gradients:')\n",
        "[print('Layer', i, '\\n', NN[i]) for i in range(len(NN))]"
      ]
    },
    {
      "cell_type": "code",
      "execution_count": 182,
      "metadata": {
        "id": "woWYpdw6FtIO"
      },
      "outputs": [],
      "source": [
        "# Initialize an arbitrary neural network\n",
        "NN = [\n",
        "    DenseLayer(1, 8, lambda x: x.relu()),\n",
        "    DenseLayer(8, 1, lambda x: x.identity())\n",
        "]\n",
        "\n",
        "# Recommended hyper-parameters for 3-D:\n",
        "#NN = [\n",
        "#    DenseLayer(3, 16, lambda x: x.relu()),\n",
        "#    DenseLayer(16, 1, lambda x: x.identity())\n",
        "#]\n",
        "\n",
        "\n",
        "### Notice that, when we switch from tanh to relu activation, we decrease the learning rate. This is due the stability of the gradients\n",
        "## of the activation functions."
      ]
    },
    {
      "cell_type": "code",
      "execution_count": 183,
      "metadata": {
        "id": "mdqaqYBVFtIR"
      },
      "outputs": [],
      "source": [
        "# Initialize training hyperparameters\n",
        "EPOCHS = 200\n",
        "LEARN_R = 2e-3"
      ]
    },
    {
      "cell_type": "code",
      "execution_count": 184,
      "metadata": {
        "colab": {
          "base_uri": "https://localhost:8080/"
        },
        "id": "5kfg76GMFtIW",
        "outputId": "8e8fb220-655c-4bd4-9811-e21a6fda44dc",
        "scrolled": true
      },
      "outputs": [
        {
          "output_type": "stream",
          "name": "stdout",
          "text": [
            "   0 ( 0.00%) Train loss: 105.326 \t Validation loss: 104.445\n",
            "  10 ( 5.00%) Train loss: 23.697 \t Validation loss: 17.431\n",
            "  20 (10.00%) Train loss: 13.845 \t Validation loss: 10.663\n",
            "  30 (15.00%) Train loss: 13.276 \t Validation loss: 10.149\n",
            "  40 (20.00%) Train loss: 12.881 \t Validation loss: 9.711\n",
            "  50 (25.00%) Train loss: 12.664 \t Validation loss: 9.445\n",
            "  60 (30.00%) Train loss: 12.496 \t Validation loss: 9.217\n",
            "  70 (35.00%) Train loss: 12.363 \t Validation loss: 9.042\n",
            "  80 (40.00%) Train loss: 12.228 \t Validation loss: 8.919\n",
            "  90 (45.00%) Train loss: 12.134 \t Validation loss: 8.869\n",
            " 100 (50.00%) Train loss: 12.045 \t Validation loss: 8.879\n",
            " 110 (55.00%) Train loss: 11.954 \t Validation loss: 8.895\n",
            " 120 (60.00%) Train loss: 11.926 \t Validation loss: 8.904\n",
            " 130 (65.00%) Train loss: 11.911 \t Validation loss: 8.921\n",
            " 140 (70.00%) Train loss: 11.903 \t Validation loss: 8.935\n",
            " 150 (75.00%) Train loss: 11.899 \t Validation loss: 8.949\n",
            " 160 (80.00%) Train loss: 11.896 \t Validation loss: 8.958\n",
            " 170 (85.00%) Train loss: 11.895 \t Validation loss: 8.965\n",
            " 180 (90.00%) Train loss: 11.894 \t Validation loss: 8.971\n",
            " 190 (95.00%) Train loss: 11.894 \t Validation loss: 8.975\n"
          ]
        }
      ],
      "source": [
        "train_loss = []\n",
        "val_loss = []\n",
        "\n",
        "for e in range(EPOCHS):\n",
        "\n",
        "    # Forward pass and loss computation\n",
        "    Loss = squared_loss(y_train, forward(x_train, NN))\n",
        "\n",
        "    # Backward pass\n",
        "    Loss.backward()\n",
        "\n",
        "    # gradient descent update\n",
        "    update_parameters(parameters(NN), LEARN_R)\n",
        "    zero_gradients(parameters(NN))\n",
        "\n",
        "    # Training loss\n",
        "    train_loss.append(Loss.v)\n",
        "\n",
        "    # Validation\n",
        "    Loss_validation = squared_loss(y_validation, forward(x_validation, NN))\n",
        "    val_loss.append(Loss_validation.v)\n",
        "\n",
        "    if e%10==0:\n",
        "        print(\"{:4d}\".format(e),\n",
        "              \"({:5.2f}%)\".format(e/EPOCHS*100),\n",
        "              \"Train loss: {:4.3f} \\t Validation loss: {:4.3f}\".format(train_loss[-1], val_loss[-1]))\n",
        "\n"
      ]
    },
    {
      "cell_type": "code",
      "execution_count": 185,
      "metadata": {
        "colab": {
          "base_uri": "https://localhost:8080/",
          "height": 430
        },
        "id": "VetyRWFwFtIY",
        "outputId": "387e475b-c6d8-4962-d679-00df582061b3"
      },
      "outputs": [
        {
          "output_type": "display_data",
          "data": {
            "text/plain": [
              "<Figure size 640x480 with 1 Axes>"
            ],
            "image/png": "[encoded data removed]"
          },
          "metadata": {}
        }
      ],
      "source": [
        "plt.plot(range(len(train_loss)), train_loss);\n",
        "plt.plot(range(len(val_loss)), val_loss);"
      ]
    },
    {
      "cell_type": "markdown",
      "metadata": {
        "id": "8OgmIrM9FtIb"
      },
      "source": [
        "# Testing\n",
        "\n",
        "We have kept the calculation of the test error separate in order to emphasize that you should not use the test set in optimization."
      ]
    },
    {
      "cell_type": "code",
      "execution_count": 186,
      "metadata": {
        "id": "HmNi7S-vFtIc"
      },
      "outputs": [],
      "source": [
        "output_test = forward(x_test, NN)"
      ]
    },
    {
      "cell_type": "code",
      "execution_count": 187,
      "metadata": {
        "colab": {
          "base_uri": "https://localhost:8080/",
          "height": 504
        },
        "id": "7mmJOTSEFtIf",
        "outputId": "8e27f2a3-5c8b-4f1c-a2fe-30bdf61d5502"
      },
      "outputs": [
        {
          "output_type": "stream",
          "name": "stdout",
          "text": [
            "Test loss:  9.802\n"
          ]
        },
        {
          "output_type": "display_data",
          "data": {
            "text/plain": [
              "<Figure size 640x480 with 1 Axes>"
            ],
            "image/png": "[encoded data removed]"
          },
          "metadata": {}
        }
      ],
      "source": [
        "y_test_np = Var_to_nparray(y_test)\n",
        "plt.scatter(y_test_np, Var_to_nparray(output_test));\n",
        "plt.plot([np.min(y_test_np), np.max(y_test_np)], [np.min(y_test_np), np.max(y_test_np)], color='k');\n",
        "plt.xlabel(\"y\");\n",
        "plt.ylabel(\"$\\hat{y}$\");\n",
        "plt.title(\"Model prediction vs real in the test set, the close to the line the better\")\n",
        "plt.grid(True);\n",
        "plt.axis('equal');\n",
        "plt.tight_layout();\n",
        "\n",
        "Loss_test = squared_loss(y_test, forward(x_test, NN))\n",
        "\n",
        "print(\"Test loss:  {:4.3f}\".format(Loss_test.v))"
      ]
    },
    {
      "cell_type": "code",
      "execution_count": 188,
      "metadata": {
        "colab": {
          "base_uri": "https://localhost:8080/",
          "height": 449
        },
        "id": "ODi0WlmQFtIh",
        "outputId": "ea5454a7-c1d7-4da7-c80d-1e8635371ae6"
      },
      "outputs": [
        {
          "output_type": "display_data",
          "data": {
            "text/plain": [
              "<Figure size 640x480 with 1 Axes>"
            ],
            "image/png": "[encoded data removed]"
          },
          "metadata": {}
        }
      ],
      "source": [
        "x_test_np = Var_to_nparray(x_test)\n",
        "x_train_np = Var_to_nparray(x_train)\n",
        "y_train_np = Var_to_nparray(y_train)\n",
        "if D1:\n",
        "    plt.scatter(x_train_np, y_train_np, label=\"train data\");\n",
        "    plt.scatter(x_test_np, Var_to_nparray(output_test), label=\"test prediction\");\n",
        "    plt.scatter(x_test_np, y_test_np, label=\"test data\");\n",
        "    plt.legend();\n",
        "    plt.xlabel(\"x\");\n",
        "    plt.ylabel(\"y\");\n",
        "else:\n",
        "    plt.scatter(x_train_np[:,1], y_train, label=\"train data\");\n",
        "    plt.scatter(x_test_np[:,1], Var_to_nparray(output_test), label=\"test data prediction\");\n",
        "    plt.scatter(x_test_np[:,1], y_test_np, label=\"test data\");\n",
        "    plt.legend();\n",
        "    plt.xlabel(\"x\");\n",
        "    plt.ylabel(\"y\");"
      ]
    },
    {
      "cell_type": "markdown",
      "metadata": {
        "id": "zTBAmjsAFtIk"
      },
      "source": [
        "## Exercise l) Show overfitting, underfitting and just right fitting\n",
        "\n",
        "Vary the architecture and other things to show clear signs of overfitting (=training loss significantly lower than test loss) and underfitting (=not fitting enoung to training data so that test performance is also hurt).\n",
        "\n",
        "See also if you can get a good compromise which leads to a low validation loss.\n",
        "\n",
        "For this problem do you see any big difference between validation and test loss? The answer here will probably be no. Discuss cases where it is important to keep the two separate.\n",
        "\n",
        "_Insert written answer here._\n"
      ]
    },
    {
      "cell_type": "code",
      "execution_count": 189,
      "metadata": {
        "id": "tQZCn2dxFtIl",
        "colab": {
          "base_uri": "https://localhost:8080/"
        },
        "outputId": "cd26fac2-1ca6-4bd8-9a50-359d6d19cc9c"
      },
      "outputs": [
        {
          "output_type": "stream",
          "name": "stdout",
          "text": [
            "   0 ( 0.00%) Train loss: 106.349 \t Validation loss: 108.135\n"
          ]
        }
      ],
      "source": [
        "# Insert your code for getting overfitting, underfitting and just right fitting\n",
        "#UNDERFITTING\n",
        "NN = [\n",
        "    DenseLayer(1, 2, lambda x: x.relu()),\n",
        "    DenseLayer(2, 1, lambda x: x.identity())\n",
        "]\n",
        "\n",
        "# Initialize training hyperparameters\n",
        "EPOCHS = 10\n",
        "LEARN_R = 2e-3\n",
        "\n",
        "train_loss = []\n",
        "val_loss = []\n",
        "\n",
        "for e in range(EPOCHS):\n",
        "\n",
        "    # Forward pass and loss computation\n",
        "    Loss = squared_loss(y_train, forward(x_train, NN))\n",
        "\n",
        "    # Backward pass\n",
        "    Loss.backward()\n",
        "\n",
        "    # gradient descent update\n",
        "    update_parameters(parameters(NN), LEARN_R)\n",
        "    zero_gradients(parameters(NN))\n",
        "\n",
        "    # Training loss\n",
        "    train_loss.append(Loss.v)\n",
        "\n",
        "    # Validation\n",
        "    Loss_validation = squared_loss(y_validation, forward(x_validation, NN))\n",
        "    val_loss.append(Loss_validation.v)\n",
        "\n",
        "    if e%10==0:\n",
        "        print(\"{:4d}\".format(e),\n",
        "              \"({:5.2f}%)\".format(e/EPOCHS*100),\n",
        "              \"Train loss: {:4.3f} \\t Validation loss: {:4.3f}\".format(train_loss[-1], val_loss[-1]))\n",
        ""
      ]
    },
    {
      "cell_type": "code",
      "source": [
        "#OVERFITTING\n",
        "NN = [\n",
        "    DenseLayer(1, 150, lambda x: x.relu()),\n",
        "    DenseLayer(150, 1, lambda x: x.identity())\n",
        "]\n",
        "\n",
        "# Initialize training hyperparameters\n",
        "EPOCHS = 1000\n",
        "LEARN_R = 2e-4\n",
        "\n",
        "train_loss = []\n",
        "val_loss = []\n",
        "\n",
        "for e in range(EPOCHS):\n",
        "\n",
        "    # Forward pass and loss computation\n",
        "    Loss = squared_loss(y_train, forward(x_train, NN))\n",
        "\n",
        "    # Backward pass\n",
        "    Loss.backward()\n",
        "\n",
        "    # gradient descent update\n",
        "    update_parameters(parameters(NN), LEARN_R)\n",
        "    zero_gradients(parameters(NN))\n",
        "\n",
        "    # Training loss\n",
        "    train_loss.append(Loss.v)\n",
        "\n",
        "    # Validation\n",
        "    Loss_validation = squared_loss(y_validation, forward(x_validation, NN))\n",
        "    val_loss.append(Loss_validation.v)\n",
        "\n",
        "    if e%10==0:\n",
        "        print(\"{:4d}\".format(e),\n",
        "              \"({:5.2f}%)\".format(e/EPOCHS*100),\n",
        "              \"Train loss: {:4.3f} \\t Validation loss: {:4.3f}\".format(train_loss[-1], val_loss[-1]))\n",
        ""
      ],
      "metadata": {
        "colab": {
          "base_uri": "https://localhost:8080/"
        },
        "id": "t04QIX4vcg1u",
        "outputId": "3f6bd1ea-7ab7-4272-cafd-15366d0e311c"
      },
      "execution_count": null,
      "outputs": [
        {
          "output_type": "stream",
          "name": "stdout",
          "text": [
            "   0 ( 0.00%) Train loss: 98.742 \t Validation loss: 93.879\n",
            "  10 ( 1.00%) Train loss: 46.054 \t Validation loss: 44.684\n",
            "  20 ( 2.00%) Train loss: 25.178 \t Validation loss: 23.786\n",
            "  30 ( 3.00%) Train loss: 17.206 \t Validation loss: 15.231\n",
            "  40 ( 4.00%) Train loss: 14.446 \t Validation loss: 11.951\n",
            "  50 ( 5.00%) Train loss: 13.535 \t Validation loss: 10.677\n",
            "  60 ( 6.00%) Train loss: 13.214 \t Validation loss: 10.143\n",
            "  70 ( 7.00%) Train loss: 13.073 \t Validation loss: 9.891\n",
            "  80 ( 8.00%) Train loss: 12.983 \t Validation loss: 9.749\n",
            "  90 ( 9.00%) Train loss: 12.913 \t Validation loss: 9.664\n",
            " 100 (10.00%) Train loss: 12.856 \t Validation loss: 9.607\n",
            " 110 (11.00%) Train loss: 12.803 \t Validation loss: 9.561\n",
            " 120 (12.00%) Train loss: 12.751 \t Validation loss: 9.519\n",
            " 130 (13.00%) Train loss: 12.701 \t Validation loss: 9.482\n",
            " 140 (14.00%) Train loss: 12.657 \t Validation loss: 9.449\n",
            " 150 (15.00%) Train loss: 12.615 \t Validation loss: 9.418\n",
            " 160 (16.00%) Train loss: 12.573 \t Validation loss: 9.388\n",
            " 170 (17.00%) Train loss: 12.536 \t Validation loss: 9.360\n",
            " 180 (18.00%) Train loss: 12.503 \t Validation loss: 9.334\n",
            " 190 (19.00%) Train loss: 12.474 \t Validation loss: 9.309\n",
            " 200 (20.00%) Train loss: 12.448 \t Validation loss: 9.284\n",
            " 210 (21.00%) Train loss: 12.423 \t Validation loss: 9.261\n",
            " 220 (22.00%) Train loss: 12.401 \t Validation loss: 9.239\n",
            " 230 (23.00%) Train loss: 12.379 \t Validation loss: 9.218\n",
            " 240 (24.00%) Train loss: 12.358 \t Validation loss: 9.199\n",
            " 250 (25.00%) Train loss: 12.338 \t Validation loss: 9.181\n",
            " 260 (26.00%) Train loss: 12.318 \t Validation loss: 9.163\n",
            " 270 (27.00%) Train loss: 12.299 \t Validation loss: 9.145\n",
            " 280 (28.00%) Train loss: 12.279 \t Validation loss: 9.128\n",
            " 290 (29.00%) Train loss: 12.260 \t Validation loss: 9.112\n",
            " 300 (30.00%) Train loss: 12.243 \t Validation loss: 9.095\n",
            " 310 (31.00%) Train loss: 12.227 \t Validation loss: 9.080\n",
            " 320 (32.00%) Train loss: 12.211 \t Validation loss: 9.066\n",
            " 330 (33.00%) Train loss: 12.196 \t Validation loss: 9.054\n",
            " 340 (34.00%) Train loss: 12.181 \t Validation loss: 9.041\n",
            " 350 (35.00%) Train loss: 12.167 \t Validation loss: 9.029\n",
            " 360 (36.00%) Train loss: 12.154 \t Validation loss: 9.017\n",
            " 370 (37.00%) Train loss: 12.141 \t Validation loss: 9.006\n",
            " 380 (38.00%) Train loss: 12.129 \t Validation loss: 8.995\n",
            " 390 (39.00%) Train loss: 12.118 \t Validation loss: 8.985\n",
            " 400 (40.00%) Train loss: 12.106 \t Validation loss: 8.976\n",
            " 410 (41.00%) Train loss: 12.095 \t Validation loss: 8.968\n",
            " 420 (42.00%) Train loss: 12.085 \t Validation loss: 8.960\n",
            " 430 (43.00%) Train loss: 12.075 \t Validation loss: 8.951\n",
            " 440 (44.00%) Train loss: 12.066 \t Validation loss: 8.944\n",
            " 450 (45.00%) Train loss: 12.058 \t Validation loss: 8.937\n",
            " 460 (46.00%) Train loss: 12.049 \t Validation loss: 8.932\n",
            " 470 (47.00%) Train loss: 12.040 \t Validation loss: 8.927\n",
            " 480 (48.00%) Train loss: 12.032 \t Validation loss: 8.923\n",
            " 490 (49.00%) Train loss: 12.024 \t Validation loss: 8.920\n",
            " 500 (50.00%) Train loss: 12.016 \t Validation loss: 8.916\n",
            " 510 (51.00%) Train loss: 12.008 \t Validation loss: 8.913\n",
            " 520 (52.00%) Train loss: 12.001 \t Validation loss: 8.910\n",
            " 530 (53.00%) Train loss: 11.993 \t Validation loss: 8.907\n",
            " 540 (54.00%) Train loss: 11.987 \t Validation loss: 8.904\n",
            " 550 (55.00%) Train loss: 11.981 \t Validation loss: 8.902\n",
            " 560 (56.00%) Train loss: 11.975 \t Validation loss: 8.899\n",
            " 570 (57.00%) Train loss: 11.970 \t Validation loss: 8.897\n",
            " 580 (58.00%) Train loss: 11.965 \t Validation loss: 8.896\n",
            " 590 (59.00%) Train loss: 11.961 \t Validation loss: 8.894\n",
            " 600 (60.00%) Train loss: 11.957 \t Validation loss: 8.893\n",
            " 610 (61.00%) Train loss: 11.953 \t Validation loss: 8.893\n",
            " 620 (62.00%) Train loss: 11.949 \t Validation loss: 8.893\n",
            " 630 (63.00%) Train loss: 11.946 \t Validation loss: 8.894\n"
          ]
        }
      ]
    },
    {
      "cell_type": "code",
      "source": [
        "#JUST RIGHT?\n",
        "NN = [\n",
        "    DenseLayer(1, 25, lambda x: x.relu()),\n",
        "    DenseLayer(25, 1, lambda x: x.identity())\n",
        "]\n",
        "\n",
        "# Initialize training hyperparameters\n",
        "EPOCHS = 500\n",
        "LEARN_R = 2e-3\n",
        "\n",
        "train_loss = []\n",
        "val_loss = []\n",
        "\n",
        "for e in range(EPOCHS):\n",
        "\n",
        "    # Forward pass and loss computation\n",
        "    Loss = squared_loss(y_train, forward(x_train, NN))\n",
        "\n",
        "    # Backward pass\n",
        "    Loss.backward()\n",
        "\n",
        "    # gradient descent update\n",
        "    update_parameters(parameters(NN), LEARN_R)\n",
        "    zero_gradients(parameters(NN))\n",
        "\n",
        "    # Training loss\n",
        "    train_loss.append(Loss.v)\n",
        "\n",
        "    # Validation\n",
        "    Loss_validation = squared_loss(y_validation, forward(x_validation, NN))\n",
        "    val_loss.append(Loss_validation.v)\n",
        "\n",
        "    if e%10==0:\n",
        "        print(\"{:4d}\".format(e),\n",
        "              \"({:5.2f}%)\".format(e/EPOCHS*100),\n",
        "              \"Train loss: {:4.3f} \\t Validation loss: {:4.3f}\".format(train_loss[-1], val_loss[-1]))\n",
        ""
      ],
      "metadata": {
        "colab": {
          "base_uri": "https://localhost:8080/"
        },
        "id": "X4S005UfhCCI",
        "outputId": "cc1be59d-f515-47bf-f2f5-f6caa67cd719"
      },
      "execution_count": 192,
      "outputs": [
        {
          "output_type": "stream",
          "name": "stdout",
          "text": [
            "   0 ( 0.00%) Train loss: 109.738 \t Validation loss: 102.381\n",
            "  10 ( 2.00%) Train loss: 17.002 \t Validation loss: 13.729\n",
            "  20 ( 4.00%) Train loss: 13.683 \t Validation loss: 10.698\n",
            "  30 ( 6.00%) Train loss: 13.165 \t Validation loss: 10.096\n",
            "  40 ( 8.00%) Train loss: 12.861 \t Validation loss: 9.704\n",
            "  50 (10.00%) Train loss: 12.614 \t Validation loss: 9.372\n",
            "  60 (12.00%) Train loss: 12.433 \t Validation loss: 9.149\n",
            "  70 (14.00%) Train loss: 12.303 \t Validation loss: 9.036\n",
            "  80 (16.00%) Train loss: 12.209 \t Validation loss: 8.979\n",
            "  90 (18.00%) Train loss: 12.139 \t Validation loss: 8.943\n",
            " 100 (20.00%) Train loss: 12.085 \t Validation loss: 8.922\n",
            " 110 (22.00%) Train loss: 12.032 \t Validation loss: 8.927\n",
            " 120 (24.00%) Train loss: 11.979 \t Validation loss: 8.927\n",
            " 130 (26.00%) Train loss: 11.950 \t Validation loss: 8.936\n",
            " 140 (28.00%) Train loss: 11.934 \t Validation loss: 8.946\n",
            " 150 (30.00%) Train loss: 11.924 \t Validation loss: 8.958\n",
            " 160 (32.00%) Train loss: 11.916 \t Validation loss: 8.973\n",
            " 170 (34.00%) Train loss: 11.906 \t Validation loss: 8.999\n",
            " 180 (36.00%) Train loss: 11.899 \t Validation loss: 9.017\n",
            " 190 (38.00%) Train loss: 11.892 \t Validation loss: 9.035\n",
            " 200 (40.00%) Train loss: 11.881 \t Validation loss: 9.055\n",
            " 210 (42.00%) Train loss: 11.872 \t Validation loss: 9.053\n",
            " 220 (44.00%) Train loss: 11.872 \t Validation loss: 9.044\n",
            " 230 (46.00%) Train loss: 11.871 \t Validation loss: 9.040\n",
            " 240 (48.00%) Train loss: 11.870 \t Validation loss: 9.042\n",
            " 250 (50.00%) Train loss: 11.870 \t Validation loss: 9.032\n",
            " 260 (52.00%) Train loss: 11.870 \t Validation loss: 9.030\n",
            " 270 (54.00%) Train loss: 11.869 \t Validation loss: 9.028\n",
            " 280 (56.00%) Train loss: 11.868 \t Validation loss: 9.024\n",
            " 290 (58.00%) Train loss: 11.868 \t Validation loss: 9.025\n",
            " 300 (60.00%) Train loss: 11.867 \t Validation loss: 9.023\n",
            " 310 (62.00%) Train loss: 11.867 \t Validation loss: 9.022\n",
            " 320 (64.00%) Train loss: 11.866 \t Validation loss: 9.020\n",
            " 330 (66.00%) Train loss: 11.866 \t Validation loss: 9.018\n",
            " 340 (68.00%) Train loss: 11.865 \t Validation loss: 9.019\n",
            " 350 (70.00%) Train loss: 11.864 \t Validation loss: 9.018\n",
            " 360 (72.00%) Train loss: 11.864 \t Validation loss: 9.016\n",
            " 370 (74.00%) Train loss: 11.863 \t Validation loss: 9.016\n",
            " 380 (76.00%) Train loss: 11.862 \t Validation loss: 9.015\n",
            " 390 (78.00%) Train loss: 11.861 \t Validation loss: 9.013\n",
            " 400 (80.00%) Train loss: 11.860 \t Validation loss: 9.012\n",
            " 410 (82.00%) Train loss: 11.859 \t Validation loss: 9.012\n",
            " 420 (84.00%) Train loss: 11.858 \t Validation loss: 9.011\n",
            " 430 (86.00%) Train loss: 11.857 \t Validation loss: 9.009\n",
            " 440 (88.00%) Train loss: 11.856 \t Validation loss: 9.009\n",
            " 450 (90.00%) Train loss: 11.855 \t Validation loss: 9.007\n",
            " 460 (92.00%) Train loss: 11.854 \t Validation loss: 9.005\n",
            " 470 (94.00%) Train loss: 11.852 \t Validation loss: 9.013\n",
            " 480 (96.00%) Train loss: 11.851 \t Validation loss: 9.004\n",
            " 490 (98.00%) Train loss: 11.849 \t Validation loss: 9.002\n"
          ]
        }
      ]
    },
    {
      "cell_type": "markdown",
      "metadata": {
        "id": "fYPZP-eTFtIo"
      },
      "source": [
        "# Next steps - classification\n",
        "\n",
        "It is straight forward to extend what we have done to classification.\n",
        "\n",
        "For numerical stability it is better to make softmax and cross-entropy as one function so we write the cross entropy loss as a function of the logits we talked about last week.\n",
        "\n",
        "Next week we will see how to perform classification in PyTorch."
      ]
    },
    {
      "cell_type": "markdown",
      "metadata": {
        "id": "qsVPul3QFtIo"
      },
      "source": [
        "## Exercise m) optional - Implement backpropagation for classification\n",
        "\n",
        "Should be possible with very few lines of code. :-)"
      ]
    },
    {
      "cell_type": "code",
      "execution_count": null,
      "metadata": {
        "id": "oC8QrI2tFtIp"
      },
      "outputs": [],
      "source": [
        "# Just add code."
      ]
    },
    {
      "cell_type": "markdown",
      "metadata": {
        "id": "APqhJv3tta1O"
      },
      "source": [
        "## Exercise n) optional - Introduce a NeuralNetwork class\n",
        "\n",
        "The functions we applied on the neural network (parameters, update_parameters and zero_gradients) can more naturally be included as methods in a NeuralNetwork class. Make such a class and modify the code to use it."
      ]
    },
    {
      "cell_type": "code",
      "execution_count": null,
      "metadata": {
        "id": "Dqfnor1ouMLq"
      },
      "outputs": [],
      "source": [
        "# just add some code"
      ]
    }
  ],
  "metadata": {
    "anaconda-cloud": {},
    "colab": {
      "collapsed_sections": [
        "jpIZPBpNI0pO",
        "qsVPul3QFtIo",
        "APqhJv3tta1O"
      ],
      "provenance": []
    },
    "kernelspec": {
      "display_name": "Python 3",
      "language": "python",
      "name": "python3"
    },
    "language_info": {
      "codemirror_mode": {
        "name": "ipython",
        "version": 3
      },
      "file_extension": ".py",
      "mimetype": "text/x-python",
      "name": "python",
      "nbconvert_exporter": "python",
      "pygments_lexer": "ipython3",
      "version": "3.9.12"
    }
  },
  "nbformat": 4,
  "nbformat_minor": 0
}